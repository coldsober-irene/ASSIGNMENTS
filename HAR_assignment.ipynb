{
  "nbformat": 4,
  "nbformat_minor": 0,
  "metadata": {
    "colab": {
      "provenance": [],
      "authorship_tag": "ABX9TyObXopEJS21bEXI0/fC2jQC",
      "include_colab_link": true
    },
    "kernelspec": {
      "name": "python3",
      "display_name": "Python 3"
    },
    "language_info": {
      "name": "python"
    }
  },
  "cells": [
    {
      "cell_type": "markdown",
      "metadata": {
        "id": "view-in-github",
        "colab_type": "text"
      },
      "source": [
        "<a href=\"https://colab.research.google.com/github/coldsober-irene/ASSIGNMENTS/blob/main/HAR_assignment.ipynb\" target=\"_parent\"><img src=\"https://colab.research.google.com/assets/colab-badge.svg\" alt=\"Open In Colab\"/></a>"
      ]
    },
    {
      "cell_type": "markdown",
      "source": [
        "##metadata"
      ],
      "metadata": {
        "id": "XFGs2OuxCbtk"
      }
    },
    {
      "cell_type": "code",
      "source": [
        "from google.colab import drive\n",
        "drive.mount('/content/drive')"
      ],
      "metadata": {
        "id": "ScftYlmzCxnD"
      },
      "execution_count": null,
      "outputs": []
    },
    {
      "cell_type": "markdown",
      "source": [
        "##packages"
      ],
      "metadata": {
        "id": "w6xOtQ63pph2"
      }
    },
    {
      "cell_type": "code",
      "source": [
        "import cv2\n",
        "import os\n",
        "import random\n",
        "import numpy as np\n",
        "import tensorflow as tf\n",
        "from tensorflow.keras.applications import ResNet50\n",
        "from tensorflow.keras.applications.resnet50 import preprocess_input\n",
        "from sklearn.svm import SVC\n",
        "from sklearn.model_selection import train_test_split\n",
        "from sklearn.metrics import accuracy_score, classification_report"
      ],
      "metadata": {
        "id": "kuVnAbZuprff"
      },
      "execution_count": null,
      "outputs": []
    },
    {
      "cell_type": "markdown",
      "source": [
        "# 1. **Frames sampling**\n"
      ],
      "metadata": {
        "id": "1O2H0bPEilw9"
      }
    },
    {
      "cell_type": "code",
      "source": [
        "class Sampling:\n",
        "  def __init__(self, base_dir, train_data_folder = 'train'):\n",
        "    self.data_path = base_dir\n",
        "    self.train_dir = train_data_folder\n",
        "    # subfolders\n",
        "    self.activities = os.listdir(os.path.join(self.data_path, self.train_dir))\n",
        "\n",
        "  def Sampler(self, sampled_dir = 'sampled_frames', sampling_type = 'uniform', sample_rate = 5, num_samples = 10):\n",
        "    # Loop through each activity\n",
        "    for activity in self.activities:\n",
        "        activity_folder = os.path.join(os.path.join(data_root, parent_dir), activity)\n",
        "\n",
        "        # Create a subfolder to save sampled frames\n",
        "        self.sampled_frames_folder = os.path.join(os.path.join(data_root, parent_dir), sampled_dir, activity)\n",
        "        os.makedirs(self.sampled_frames_folder, exist_ok=True)\n",
        "\n",
        "        # Loop through video files in the activity folder\n",
        "        for video_file in os.listdir(activity_folder):\n",
        "            video_path = os.path.join(activity_folder, video_file)\n",
        "            cap = cv2.VideoCapture(video_path)\n",
        "\n",
        "            # Create a subfolder for each video to save sampled frames\n",
        "            video_name = os.path.splitext(video_file)[0]\n",
        "            self.video_sampled_frames_folder = os.path.join(self.sampled_frames_folder, video_name)\n",
        "            os.makedirs(self.video_sampled_frames_folder, exist_ok=True)\n",
        "\n",
        "            frame_count = int(cap.get(cv2.CAP_PROP_FRAME_COUNT))\n",
        "\n",
        "            if sampling_type == 'uniform':\n",
        "              self.UniformSampling(cap = cap, frameCount=frame_count, sample_rate = sample_rate)\n",
        "            else:\n",
        "              self.RandomSampling(cap = cap, frameCount=frame_count, num_samples=num_samples)\n",
        "\n",
        "  def UniformSampling(self, cap, sample_rate, frameCount):\n",
        "    for i in range(0, frameCount, sample_rate):\n",
        "      cap.set(cv2.CAP_PROP_POS_FRAMES, i)\n",
        "      ret, frame = cap.read()\n",
        "      if ret:\n",
        "          frame_filename = os.path.join(self.video_sampled_frames_folder, f'frame_{i}.jpg')\n",
        "          cv2.imwrite(frame_filename, frame)\n",
        "\n",
        "  def RandomSampling(self, cap,num_samples, frameCount):\n",
        "    sampled_indices = random.sample(range(frameCount), num_samples)\n",
        "\n",
        "    for i in sampled_indices:\n",
        "        cap.set(cv2.CAP_PROP_POS_FRAMES, i)\n",
        "        ret, frame = cap.read()\n",
        "        if ret:\n",
        "            frame_filename = os.path.join(self.video_sampled_frames_folder, f'frame_{i}.jpg')\n",
        "            cv2.imwrite(frame_filename, frame)\n",
        "\n",
        "\n"
      ],
      "metadata": {
        "id": "YtnZh48mby_P"
      },
      "execution_count": null,
      "outputs": []
    },
    {
      "cell_type": "code",
      "execution_count": null,
      "metadata": {
        "id": "lA9YGGIoifBY"
      },
      "outputs": [],
      "source": [
        "data_root = '/content/drive/MyDrive/machine vision assignment 2/EE6222 train and validate 2023'\n",
        "parent_dir = 'train'\n",
        "sample = Sampling(base_dir = data_root)\n",
        "sample.Sampler(sampled_dir = \"uniform_sampled\")\n",
        "sample.Sampler(sampled_dir = \"random_sampled\")"
      ]
    },
    {
      "cell_type": "markdown",
      "source": [
        "##Question: ***which one is the best between uniform and random sampling***"
      ],
      "metadata": {
        "id": "9pfX9CdYjikb"
      }
    },
    {
      "cell_type": "markdown",
      "source": [
        "#2. **Feature extraction**"
      ],
      "metadata": {
        "id": "ae0E0pcRlKK9"
      }
    },
    {
      "cell_type": "code",
      "source": [
        "base = '/content/drive/MyDrive/machine vision assignment 2/EE6222 train and validate 2023/train'\n",
        "classes_dir = {class_.lower() : os.path.join(base, class_ + \"_features\") for class_ in os.listdir(base)[:6]}\n",
        "anotation = {'jump':0, }\n",
        "try:\n",
        "  for v in classes_dir.values():\n",
        "    os.makedirs(v)\n",
        "except Exception:\n",
        "  pass"
      ],
      "metadata": {
        "id": "TXu_4IKBnEVo"
      },
      "execution_count": null,
      "outputs": []
    },
    {
      "cell_type": "code",
      "source": [
        "class Feature_extract:\n",
        "  def __init__(self, random_frames:list = [], uniform_frames: list = []):\n",
        "    # Load pre-trained ResNet50\n",
        "    self.model = ResNet50(weights='imagenet', include_top=False)\n",
        "    self.random_frames = random_frames\n",
        "    self.uniform_frames = uniform_frames\n",
        "\n",
        "  def Get_features(self, unif = False):\n",
        "    # Assuming uniform_frames and random_frames are defined from Section 1\n",
        "    if unif:\n",
        "      uniform_features = self.preprocess_and_extract_features(self.uniform_frames, self.model, ref_mean=[0.07, 0.07, 0.07], ref_std=[0.1, 0.09, 0.08])\n",
        "      return uniform_features\n",
        "    else:\n",
        "      random_features = self.preprocess_and_extract_features(self.random_frames, self.model, ref_mean=[0.07, 0.07, 0.07], ref_std=[0.1, 0.09, 0.08])\n",
        "      return random_features\n",
        "\n",
        "  # Function to normalize a frame\n",
        "  def normalize_frame(self, frame, ref_mean, ref_std):\n",
        "      frame = cv2.imread(frame)\n",
        "      actual_mean = np.mean(frame, axis=(0, 1), keepdims=True)\n",
        "      actual_std = np.std(frame, axis=(0, 1))\n",
        "      normalized_frame = (frame - actual_mean) / actual_std * ref_std + ref_mean\n",
        "      return normalized_frame\n",
        "\n",
        "  # Function to preprocess frames and extract features using ResNet\n",
        "  def preprocess_and_extract_features(self,frames, model, ref_mean, ref_std):\n",
        "      processed_frames = [self.normalize_frame(frame, ref_mean, ref_std) for frame in frames]\n",
        "      processed_frames = [preprocess_input(frame) for frame in processed_frames]\n",
        "      features = model.predict(np.array(processed_frames))\n",
        "      return features\n",
        "\n",
        "\n",
        "dir_rand = \"/content/drive/MyDrive/machine vision assignment 2/EE6222 train and validate 2023/train/random_sampled\"\n",
        "dir_unif = \"/content/drive/MyDrive/machine vision assignment 2/EE6222 train and validate 2023/train/uniform_sampled\"\n",
        "rand_frames = {os.path.join(dir_rand, class_, last_dir) : os.listdir(os.path.join(dir_rand, class_, last_dir)) for class_ in os.listdir(dir_rand) for last_dir in os.listdir(os.path.join(dir_rand, class_))}\n",
        "unif_frames = {os.path.join(dir_rand, class_, last_dir) : os.listdir(os.path.join(dir_rand, class_, last_dir)) for class_ in os.listdir(dir_rand) for last_dir in os.listdir(os.path.join(dir_rand, class_))}\n",
        "train_data = {\"stand\" : [], \"sit\" : [], \"jump\" : [], \"run\" : [], \"turn\" : [], \"walk\" : []}\n",
        "annotation = {\"stand\" : 3, \"sit\" : 2, \"jump\" : 0, \"run\" : 1, \"turn\" : 4, \"walk\" : 5}\n",
        "for k, v in rand_frames.items():\n",
        "  frames = [os.path.join(k, img) for img in v]\n",
        "  extractor = Feature_extract(random_frames = frames)\n",
        "  features = extractor.Get_features()\n",
        "  for class_ in classes_dir.keys():\n",
        "    if class_ in os.path.basename(k).lower():\n",
        "      train_data[class_].append((annotation[class_], features))\n",
        "\n",
        "full_train_rand_datasets = np.array(train_data.values())\n",
        "# Save the video-level features as NumPy arrays\n",
        "np.save('uniform_pooled_features.npy', uniform_pooled_feature)\n",
        "np.save('random_pooled_features.npy', full_train_rand_datasets)"
      ],
      "metadata": {
        "id": "kDnQFC9LpU12"
      },
      "execution_count": null,
      "outputs": []
    },
    {
      "cell_type": "code",
      "source": [
        "len(features_dict['jump'])"
      ],
      "metadata": {
        "id": "nsKrZvu7adoY"
      },
      "execution_count": null,
      "outputs": []
    },
    {
      "cell_type": "markdown",
      "source": [
        "### obtain the features of each frame using a pre-trained model and create feature vector"
      ],
      "metadata": {
        "id": "uH_6i4iD8Jo4"
      }
    },
    {
      "cell_type": "code",
      "source": [
        "\n",
        "rand_frames.items()\n"
      ],
      "metadata": {
        "id": "3tVONK3C8MLA"
      },
      "execution_count": null,
      "outputs": []
    },
    {
      "cell_type": "markdown",
      "source": [
        "## fuse features extracted using average pooling"
      ],
      "metadata": {
        "id": "KsrzZaJ4WrKZ"
      }
    },
    {
      "cell_type": "code",
      "source": [
        "\n",
        "# Function to perform average pooling on a set of features\n",
        "def average_pooling(features):\n",
        "    return np.mean(features, axis=0)\n",
        "\n",
        "# Apply average pooling to the uniform and random features\n",
        "uniform_pooled_feature = average_pooling(uniform_features)\n",
        "random_pooled_feature = average_pooling(random_features)\n",
        "\n",
        "# Now you have video-level features for uniform and random samples\n"
      ],
      "metadata": {
        "id": "X55SAdO8Wxaq"
      },
      "execution_count": null,
      "outputs": []
    },
    {
      "cell_type": "markdown",
      "source": [
        "## Question: ***Describe in brief the pre-trained model leveraged and why the pre-trained model is selected. What is the dimension of the feature obtained. Remember to save the video features in order for subsequent training. (3 points)***"
      ],
      "metadata": {
        "id": "bxDZcyULVVun"
      }
    },
    {
      "cell_type": "code",
      "source": [
        "import numpy as np\n",
        "import pickle\n",
        "\n",
        "# Save the video-level features as NumPy arrays\n",
        "np.save('uniform_pooled_features.npy', uniform_pooled_feature)\n",
        "np.save('random_pooled_features.npy', random_pooled_feature)\n",
        "\n",
        "# Alternatively, you can save the features as a pickled object\n",
        "with open('uniform_pooled_features.pkl', 'wb') as file:\n",
        "    pickle.dump(uniform_pooled_feature, file)\n",
        "\n",
        "with open('random_pooled_features.pkl', 'wb') as file:\n",
        "    pickle.dump(random_pooled_feature, file)\n"
      ],
      "metadata": {
        "id": "12SrYU3J1SBR"
      },
      "execution_count": null,
      "outputs": []
    },
    {
      "cell_type": "markdown",
      "source": [
        "# 3. **Classifier Training and Evaluation**"
      ],
      "metadata": {
        "id": "xgDGUCt2XiXD"
      }
    },
    {
      "cell_type": "markdown",
      "source": [
        "**possible classifier I can choose from since my datasets are small (just 25 videos)**\n",
        "\n",
        "1.   Support Vector Machines (SVM)\n",
        "2.   Naive Bayes\n",
        "3. Random Forest\n",
        "\n",
        "\n",
        "\n"
      ],
      "metadata": {
        "id": "clRJUkrjdEKO"
      }
    },
    {
      "cell_type": "code",
      "source": [
        "\n",
        "\n",
        "# Create a dataset (features and labels)\n",
        "X = np.vstack((uniform_features, random_features))\n",
        "y = np.array([0] * len(uniform_features) + [1] * len(random_features))\n",
        "\n",
        "# Split data into training and validation sets\n",
        "X_train, X_val, y_train, y_val = train_test_split(X, y, test_size=0.2, random_state=42)\n",
        "\n",
        "# Train an SVM classifier\n",
        "svm_classifier = SVC(kernel='linear')\n",
        "svm_classifier.fit(X_train, y_train)\n",
        "\n",
        "# Make predictions and evaluate the model\n",
        "y_pred = svm_classifier.predict(X_val)\n",
        "accuracy = accuracy_score(y_val, y_pred)\n",
        "report = classification_report(y_val, y_pred)\n",
        "print(\"Accuracy:\", accuracy)\n",
        "print(report)\n"
      ],
      "metadata": {
        "id": "fMkKUwM4Vb6k"
      },
      "execution_count": null,
      "outputs": []
    },
    {
      "cell_type": "markdown",
      "source": [
        "### Discuss the pros and cons of the type of classifier selected"
      ],
      "metadata": {
        "id": "Zq55TUad9LJR"
      }
    },
    {
      "cell_type": "markdown",
      "source": [
        "## evaluate the trained classifier"
      ],
      "metadata": {
        "id": "x6B1EtDk9SvG"
      }
    },
    {
      "cell_type": "code",
      "source": [
        "from sklearn.metrics import accuracy_score, precision_score, recall_score, f1_score, confusion_matrix\n",
        "\n",
        "# Assuming you have a trained classifier, such as svm_classifier, as described in Section 3\n",
        "# X_val and y_val are the validation features and labels\n",
        "\n",
        "# Make predictions on the validation set\n",
        "y_pred = svm_classifier.predict(X_val)\n",
        "\n",
        "# Calculate evaluation metrics\n",
        "accuracy = accuracy_score(y_val, y_pred)\n",
        "precision = precision_score(y_val, y_pred)\n",
        "recall = recall_score(y_val, y_pred)\n",
        "f1 = f1_score(y_val, y_pred)\n",
        "confusion = confusion_matrix(y_val, y_pred)\n",
        "\n",
        "# Print the results\n",
        "print(\"Accuracy:\", accuracy)\n",
        "print(\"Precision:\", precision)\n",
        "print(\"Recall:\", recall)\n",
        "print(\"F1 Score:\", f1)\n",
        "print(\"Confusion Matrix:\")\n",
        "print(confusion)\n"
      ],
      "metadata": {
        "id": "CC3DscKI9fvn"
      },
      "execution_count": null,
      "outputs": []
    },
    {
      "cell_type": "markdown",
      "source": [
        "### You should repeat steps 1 and 2 for the validation videos to obtain their features and obtain their class predictions with the trained classifier. Compare the predictions with the ground truth label. What is the performance of the trained classifier? (3 points)"
      ],
      "metadata": {
        "id": "S5gousOg9rRk"
      }
    },
    {
      "cell_type": "code",
      "source": [
        "# Step 1: Frame Sampling for Validation Videos\n",
        "# - You can follow the same frame sampling process as in Section 1 for your validation videos.\n",
        "# - Let's assume you have validation_uniform_frames and validation_random_frames for uniform and random sampling.\n",
        "\n",
        "# Step 2: Feature Extraction for Validation Videos\n",
        "# - Apply the same feature extraction process as in Section 2 for the validation videos.\n",
        "# - Assuming you have a pre-trained model (model) and reference mean and standard deviation (ref_mean, ref_std).\n",
        "\n",
        "# Extract features for validation videos\n",
        "validation_uniform_features = preprocess_and_extract_features(validation_uniform_frames, model, ref_mean, ref_std)\n",
        "validation_random_features = preprocess_and_extract_features(validation_random_frames, model, ref_mean, ref_std)\n",
        "\n",
        "# Step 3: Classifier Prediction and Evaluation\n",
        "# - Use the trained classifier to predict classes for validation features and compare with ground truth labels.\n",
        "# - Assuming you have validation_labels for ground truth labels.\n",
        "\n",
        "# Predict classes for validation features\n",
        "validation_uniform_predictions = svm_classifier.predict(validation_uniform_features)\n",
        "validation_random_predictions = svm_classifier.predict(validation_random_features)\n",
        "\n",
        "# Evaluate the performance for uniform sampling\n",
        "uniform_accuracy = accuracy_score(validation_labels, validation_uniform_predictions)\n",
        "uniform_precision = precision_score(validation_labels, validation_uniform_predictions)\n",
        "uniform_recall = recall_score(validation_labels, validation_uniform_predictions)\n",
        "uniform_f1 = f1_score(validation_labels, validation_uniform_predictions)\n",
        "\n",
        "# Evaluate the performance for random sampling\n",
        "random_accuracy = accuracy_score(validation_labels, validation_random_predictions)\n",
        "random_precision = precision_score(validation_labels, validation_random_predictions)\n",
        "random_recall = recall_score(validation_labels, validation_random_predictions)\n",
        "random_f1 = f1_score(validation_labels, validation_random_predictions)\n",
        "\n",
        "# Compare and print the results\n",
        "print(\"Performance for Uniform Sampling:\")\n",
        "print(\"Accuracy:\", uniform_accuracy)\n",
        "print(\"Precision:\", uniform_precision)\n",
        "print(\"Recall:\", uniform_recall)\n",
        "print(\"F1 Score:\", uniform_f1)\n",
        "\n",
        "print(\"\\nPerformance for Random Sampling:\")\n",
        "print(\"Accuracy:\", random_accuracy)\n",
        "print(\"Precision:\", random_precision)\n",
        "print(\"Recall:\", random_recall)\n",
        "print(\"F1 Score:\", random_f1)\n"
      ],
      "metadata": {
        "id": "2jKYfEbZ9tjI"
      },
      "execution_count": null,
      "outputs": []
    },
    {
      "cell_type": "markdown",
      "source": [
        "#4. **Apply any image enhancement of your choice** and explore how it effects the performance of the trained classifier. Note that the reference mean, and standard deviation value of a normal video frame is \"mean\" [0.485,0.456,0.406],\"standard deviation\" [0.229,0.224,0.225]."
      ],
      "metadata": {
        "id": "BRx-6qmG-BLD"
      }
    },
    {
      "cell_type": "code",
      "source": [
        "import cv2\n",
        "import numpy as np\n",
        "from sklearn.metrics import accuracy_score, precision_score, recall_score, f1_score\n",
        "\n",
        "# Function to enhance and normalize a frame\n",
        "def enhance_and_normalize_frame(frame, ref_mean, ref_std):\n",
        "    # Enhance the frame (e.g., histogram equalization)\n",
        "    enhanced_frame = cv2.equalizeHist(cv2.cvtColor(frame, cv2.COLOR_BGR2GRAY))\n",
        "    enhanced_frame = cv2.cvtColor(enhanced_frame, cv2.COLOR_GRAY2BGR)\n",
        "\n",
        "    # Normalize the frame to have the reference mean and standard deviation\n",
        "    actual_mean = np.mean(enhanced_frame, axis=(0, 1))\n",
        "    actual_std = np.std(enhanced_frame, axis=(0, 1))\n",
        "    normalized_frame = (enhanced_frame - actual_mean) / actual_std * ref_std + ref_mean\n",
        "\n",
        "    return normalized_frame\n",
        "\n",
        "# Function to preprocess frames and extract features using a pre-trained model\n",
        "def preprocess_and_extract_features(frames, model, ref_mean, ref_std):\n",
        "    processed_frames = [enhance_and_normalize_frame(frame, ref_mean, ref_std) for frame in frames]\n",
        "    processed_frames = [preprocess_input(frame) for frame in processed_frames]\n",
        "    features = model.predict(np.array(processed_frames))\n",
        "    return features\n",
        "\n",
        "# Assuming you have validation_videos, validation_labels, a pre-trained model (model),\n",
        "# and a trained classifier (svm_classifier)\n",
        "\n",
        "# Without Image Enhancement\n",
        "features_without_enhancement = preprocess_and_extract_features(validation_videos, model, ref_mean=[0.485, 0.456, 0.406], ref_std=[0.229, 0.224, 0.225])\n",
        "predictions_without_enhancement = svm_classifier.predict(features_without_enhancement)\n",
        "\n",
        "# With Image Enhancement\n",
        "features_with_enhancement = preprocess_and_extract_features(validation_videos, model, ref_mean=[0.485, 0.456, 0.406], ref_std=[0.229, 0.224, 0.225])\n",
        "predictions_with_enhancement = svm_classifier.predict(features_with_enhancement)\n",
        "\n",
        "# Evaluate the performance without and with image enhancement\n",
        "accuracy_without_enhancement = accuracy_score(validation_labels, predictions_without_enhancement)\n",
        "f1_score_without_enhancement = f1_score(validation_labels, predictions_without_enhancement)\n",
        "\n",
        "accuracy_with_enhancement = accuracy_score(validation_labels, predictions_with_enhancement)\n",
        "f1_score_with_enhancement = f1_score(validation_labels, predictions_with_enhancement)\n",
        "\n",
        "# Print the results\n",
        "print(\"Performance without Image Enhancement:\")\n",
        "print(\"Accuracy:\", accuracy_without_enhancement)\n",
        "print(\"F1 Score:\", f1_score_without_enhancement)\n",
        "\n",
        "print(\"\\nPerformance with Image Enhancement:\")\n",
        "print(\"Accuracy:\", accuracy_with_enhancement)\n",
        "print(\"F1 Score:\", f1_score_with_enhancement)\n"
      ],
      "metadata": {
        "id": "wI3trLEE-K_1"
      },
      "execution_count": null,
      "outputs": []
    },
    {
      "cell_type": "markdown",
      "source": [
        "### Discuss how the chosen image enhancement effects the performance of the trained classifier in detail"
      ],
      "metadata": {
        "id": "4nAuHWBK-Yub"
      }
    },
    {
      "cell_type": "markdown",
      "source": [
        "### Provide sampled output frames resulting from the image enhancement. (6 points)"
      ],
      "metadata": {
        "id": "D60ckbCL-avy"
      }
    },
    {
      "cell_type": "markdown",
      "source": [
        "# 5. – Improving the HAR Model to Enable End-to-end Training. The aforementioned method is intuitive but is not end-to-end, which limits its applicability in real-world scenarios. Currently, most HAR models are designed end-to-end, without the need to explicitly store the video features. In this step you are to design or implement an HAR model that is end-to-end and evaluate your HAR model. Describe your HAR model in detail, including the structure along with the training and evaluation procedures. Compare your HAR model performance against the prior trained classifiers and discuss the pros and cons of your HAR model. (Additional 10 points)"
      ],
      "metadata": {
        "id": "NM0-Q29E_Ol2"
      }
    },
    {
      "cell_type": "code",
      "source": [
        "import numpy as np\n",
        "import tensorflow as tf\n",
        "from tensorflow.keras.layers import Conv2D, LSTM, Dense, Flatten, Input\n",
        "from tensorflow.keras.models import Model\n",
        "from sklearn.metrics import accuracy_score, precision_score, recall_score, f1_score\n",
        "\n",
        "# Assuming you have your training data in train_videos and train_labels\n",
        "# Assuming you have your validation data in validation_videos and validation_labels\n",
        "\n",
        "# Define the input shape\n",
        "input_shape = (sequence_length, frame_height, frame_width, num_channels)\n",
        "\n",
        "# Build the end-to-end HAR model\n",
        "input_layer = Input(shape=input_shape)\n",
        "conv_layer = Conv2D(32, (3, 3), activation='relu')(input_layer)\n",
        "lstm_layer = LSTM(64, return_sequences=True)(conv_layer)\n",
        "flatten_layer = Flatten()(lstm_layer)\n",
        "output_layer = Dense(num_classes, activation='softmax')(flatten_layer)\n",
        "\n",
        "model = Model(inputs=input_layer, outputs=output_layer)\n",
        "\n",
        "# Compile the model\n",
        "model.compile(loss='categorical_crossentropy', optimizer='adam', metrics=['accuracy'])\n",
        "\n",
        "# Train the model\n",
        "model.fit(train_videos, train_labels, epochs=epochs, batch_size=batch_size, validation_data=(validation_videos, validation_labels))\n",
        "\n",
        "# Evaluate the model on the validation set\n",
        "validation_predictions = model.predict(validation_videos)\n",
        "validation_predictions = np.argmax(validation_predictions, axis=1)  # Assuming one-hot encoding of labels\n",
        "validation_labels = np.argmax(validation_labels, axis=1)  # Assuming one-hot encoding of labels\n",
        "\n",
        "accuracy = accuracy_score(validation_labels, validation_predictions)\n",
        "precision = precision_score(validation_labels, validation_predictions, average='weighted')\n",
        "recall = recall_score(validation_labels, validation_predictions, average='weighted')\n",
        "f1 = f1_score(validation_labels, validation_predictions, average='weighted')\n",
        "\n",
        "print(\"Accuracy:\", accuracy)\n",
        "print(\"Precision:\", precision)\n",
        "print(\"Recall:\", recall)\n",
        "print(\"F1 Score:\", f1)\n"
      ],
      "metadata": {
        "id": "4Cn7kKuH-f2E"
      },
      "execution_count": null,
      "outputs": []
    }
  ]
}