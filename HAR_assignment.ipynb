{
  "nbformat": 4,
  "nbformat_minor": 0,
  "metadata": {
    "colab": {
      "provenance": [],
      "gpuType": "T4",
      "mount_file_id": "1cwIJVAwip08d4U9i1CGkjeblC36gAnym",
      "authorship_tag": "ABX9TyMYDHBJjfuvcVIXu2adihmg",
      "include_colab_link": true
    },
    "kernelspec": {
      "name": "python3",
      "display_name": "Python 3"
    },
    "language_info": {
      "name": "python"
    },
    "accelerator": "GPU"
  },
  "cells": [
    {
      "cell_type": "markdown",
      "metadata": {
        "id": "view-in-github",
        "colab_type": "text"
      },
      "source": [
        "<a href=\"https://colab.research.google.com/github/coldsober-irene/ASSIGNMENTS/blob/main/HAR_assignment.ipynb\" target=\"_parent\"><img src=\"https://colab.research.google.com/assets/colab-badge.svg\" alt=\"Open In Colab\"/></a>"
      ]
    },
    {
      "cell_type": "markdown",
      "source": [
        "##metadata"
      ],
      "metadata": {
        "id": "XFGs2OuxCbtk"
      }
    },
    {
      "cell_type": "code",
      "source": [
        "from google.colab import drive\n",
        "drive.mount('/content/drive')"
      ],
      "metadata": {
        "id": "ScftYlmzCxnD",
        "colab": {
          "base_uri": "https://localhost:8080/"
        },
        "outputId": "b368a669-db97-4da0-bf36-261c54e20077"
      },
      "execution_count": 2,
      "outputs": [
        {
          "output_type": "stream",
          "name": "stdout",
          "text": [
            "Drive already mounted at /content/drive; to attempt to forcibly remount, call drive.mount(\"/content/drive\", force_remount=True).\n"
          ]
        }
      ]
    },
    {
      "cell_type": "markdown",
      "source": [
        "##packages"
      ],
      "metadata": {
        "id": "w6xOtQ63pph2"
      }
    },
    {
      "cell_type": "code",
      "source": [
        "import cv2\n",
        "import os\n",
        "import random\n",
        "import numpy as np\n",
        "import tensorflow as tf\n",
        "from tensorflow.keras.applications import ResNet50\n",
        "from tensorflow.keras.applications.resnet50 import preprocess_input\n",
        "from sklearn.svm import SVC\n",
        "from sklearn.model_selection import train_test_split\n",
        "from sklearn.metrics import accuracy_score, classification_report"
      ],
      "metadata": {
        "id": "kuVnAbZuprff"
      },
      "execution_count": 3,
      "outputs": []
    },
    {
      "cell_type": "markdown",
      "source": [
        "# 1. **Frames sampling**\n"
      ],
      "metadata": {
        "id": "1O2H0bPEilw9"
      }
    },
    {
      "cell_type": "code",
      "source": [
        "class Sampling:\n",
        "  def __init__(self, base_dir, train_data_folder = 'train'):\n",
        "    self.data_path = base_dir\n",
        "    self.train_dir = train_data_folder\n",
        "    # subfolders\n",
        "    self.activities = os.listdir(os.path.join(self.data_path, self.train_dir))\n",
        "\n",
        "  def Sampler(self, sampled_dir = 'sampled_frames', sampling_type = 'uniform', sample_rate = 5, num_samples = 10):\n",
        "    # Loop through each activity\n",
        "    for activity in self.activities:\n",
        "        activity_folder = os.path.join(os.path.join(data_root, parent_dir), activity)\n",
        "\n",
        "        # Create a subfolder to save sampled frames\n",
        "        self.sampled_frames_folder = os.path.join(os.path.join(data_root, parent_dir), sampled_dir, activity)\n",
        "        os.makedirs(self.sampled_frames_folder, exist_ok=True)\n",
        "\n",
        "        # Loop through video files in the activity folder\n",
        "        for video_file in os.listdir(activity_folder):\n",
        "            video_path = os.path.join(activity_folder, video_file)\n",
        "            cap = cv2.VideoCapture(video_path)\n",
        "\n",
        "            # Create a subfolder for each video to save sampled frames\n",
        "            video_name = os.path.splitext(video_file)[0]\n",
        "            self.video_sampled_frames_folder = os.path.join(self.sampled_frames_folder, video_name)\n",
        "            os.makedirs(self.video_sampled_frames_folder, exist_ok=True)\n",
        "\n",
        "            frame_count = int(cap.get(cv2.CAP_PROP_FRAME_COUNT))\n",
        "\n",
        "            if sampling_type == 'uniform':\n",
        "              self.UniformSampling(cap = cap, frameCount=frame_count, sample_rate = sample_rate)\n",
        "            else:\n",
        "              self.RandomSampling(cap = cap, frameCount=frame_count, num_samples=num_samples)\n",
        "\n",
        "  def UniformSampling(self, cap, sample_rate, frameCount):\n",
        "    for i in range(0, frameCount, sample_rate):\n",
        "      cap.set(cv2.CAP_PROP_POS_FRAMES, i)\n",
        "      ret, frame = cap.read()\n",
        "      if ret:\n",
        "          frame_filename = os.path.join(self.video_sampled_frames_folder, f'frame_{i}.jpg')\n",
        "          cv2.imwrite(frame_filename, frame)\n",
        "\n",
        "  def RandomSampling(self, cap,num_samples, frameCount):\n",
        "    sampled_indices = random.sample(range(frameCount), num_samples)\n",
        "\n",
        "    for i in sampled_indices:\n",
        "        cap.set(cv2.CAP_PROP_POS_FRAMES, i)\n",
        "        ret, frame = cap.read()\n",
        "        if ret:\n",
        "            frame_filename = os.path.join(self.video_sampled_frames_folder, f'frame_{i}.jpg')\n",
        "            cv2.imwrite(frame_filename, frame)\n",
        "\n",
        "\n"
      ],
      "metadata": {
        "id": "YtnZh48mby_P"
      },
      "execution_count": 3,
      "outputs": []
    },
    {
      "cell_type": "markdown",
      "source": [
        "call object"
      ],
      "metadata": {
        "id": "2A-7bYhQ-MQs"
      }
    },
    {
      "cell_type": "code",
      "execution_count": null,
      "metadata": {
        "id": "lA9YGGIoifBY"
      },
      "outputs": [],
      "source": [
        "data_root = '/content/drive/MyDrive/machine vision assignment 2/EE6222 train and validate 2023'\n",
        "parent_dir = 'train'\n",
        "sample = Sampling(base_dir = data_root)\n",
        "sample.Sampler(sampled_dir = \"uniform_sampled\")\n",
        "sample.Sampler(sampled_dir = \"random_sampled\")"
      ]
    },
    {
      "cell_type": "markdown",
      "source": [
        "##Question: ***which one is the best between uniform and random sampling***"
      ],
      "metadata": {
        "id": "9pfX9CdYjikb"
      }
    },
    {
      "cell_type": "markdown",
      "source": [
        "#2. **Train data feature extraction**"
      ],
      "metadata": {
        "id": "ae0E0pcRlKK9"
      }
    },
    {
      "cell_type": "code",
      "source": [
        "base = '/content/drive/MyDrive/machine vision assignment 2/EE6222 train and validate 2023/train'\n",
        "classes_dir = {class_.lower() : os.path.join(base, class_ + \"_features\") for class_ in os.listdir(base)[:6]}\n",
        "try:\n",
        "  for v in classes_dir.values():\n",
        "    os.makedirs(v)\n",
        "except Exception:\n",
        "  pass"
      ],
      "metadata": {
        "id": "TXu_4IKBnEVo"
      },
      "execution_count": 2,
      "outputs": []
    },
    {
      "cell_type": "code",
      "source": [
        "class Feature_extract:\n",
        "  def __init__(self, random_frames:list = [], uniform_frames: list = []):\n",
        "    # Load pre-trained ResNet50\n",
        "    self.model = ResNet50(weights='imagenet', include_top=False)\n",
        "    self.random_frames = random_frames\n",
        "    self.uniform_frames = uniform_frames\n",
        "\n",
        "  def Get_features(self, unif = False):\n",
        "    # Assuming uniform_frames and random_frames are defined from Section 1\n",
        "    if unif:\n",
        "      uniform_features = self.preprocess_and_extract_features(self.uniform_frames, self.model, ref_mean=[0.07, 0.07, 0.07], ref_std=[0.1, 0.09, 0.08])\n",
        "      return uniform_features\n",
        "    else:\n",
        "      random_features = self.preprocess_and_extract_features(self.random_frames, self.model, ref_mean=[0.07, 0.07, 0.07], ref_std=[0.1, 0.09, 0.08])\n",
        "      return random_features\n",
        "\n",
        "  # Function to normalize a frame\n",
        "  def normalize_frame(self, frame, ref_mean, ref_std):\n",
        "      frame = cv2.imread(frame)\n",
        "      actual_mean = np.mean(frame, axis=(0, 1), keepdims=True)\n",
        "      actual_std = np.std(frame, axis=(0, 1))\n",
        "      normalized_frame = (frame - actual_mean) / actual_std * ref_std + ref_mean\n",
        "      return normalized_frame\n",
        "\n",
        "  # Function to preprocess frames and extract features using ResNet\n",
        "  def preprocess_and_extract_features(self,frames, model, ref_mean, ref_std):\n",
        "      processed_frames = [self.normalize_frame(frame, ref_mean, ref_std) for frame in frames if frame]\n",
        "      processed_frames = [preprocess_input(frame) for frame in processed_frames]\n",
        "      features = model.predict(np.array(processed_frames))\n",
        "      return features\n"
      ],
      "metadata": {
        "id": "kDnQFC9LpU12"
      },
      "execution_count": 7,
      "outputs": []
    },
    {
      "cell_type": "code",
      "source": [
        "dir_rand = \"/content/drive/MyDrive/machine vision assignment 2/EE6222 train and validate 2023/train/random_sampled\"\n",
        "dir_unif = \"/content/drive/MyDrive/machine vision assignment 2/EE6222 train and validate 2023/train/uniform_sampled\"\n",
        "rand_frames = {os.path.join(dir_rand, class_, last_dir) : os.listdir(os.path.join(dir_rand, class_, last_dir)) for class_ in os.listdir(dir_rand) for last_dir in os.listdir(os.path.join(dir_rand, class_))}\n",
        "unif_frames = {os.path.join(dir_rand, class_, last_dir) : os.listdir(os.path.join(dir_rand, class_, last_dir)) for class_ in os.listdir(dir_rand) for last_dir in os.listdir(os.path.join(dir_rand, class_))}\n",
        "labels = []\n",
        "def generate_dataset(frames):\n",
        "  train_data = {\"stand\" : [], \"sit\" : [], \"jump\" : [], \"run\" : [], \"turn\" : [], \"walk\" : []}\n",
        "  annotation = {\"stand\" : 3, \"sit\" : 2, \"jump\" : 0, \"run\" : 1, \"turn\" : 4, \"walk\" : 5}\n",
        "  for k, v in rand_frames.items():\n",
        "    frames = [os.path.join(k, img) for img in v]\n",
        "    extractor = Feature_extract(random_frames = frames)\n",
        "    features = extractor.Get_features()\n",
        "    for class_ in classes_dir.keys():\n",
        "      if class_ in os.path.basename(k).lower():\n",
        "        train_data[class_].append(features)\n",
        "        labels.append(annotation[class_])\n",
        "  train_arr = np.array(list(train_data.values()))\n",
        "  labels_arr = np.array(labels)\n",
        "  return labels, train_arr\n",
        "\n",
        "rand_labels, rand_train_data = generate_dataset(frames = rand_frames)\n",
        "unif_labels, unif_train_data = generate_dataset(frames = unif_frames)\n",
        "\n",
        "# Save the video-level features as NumPy arrays\n",
        "np.save(os.path.join(base,'uniform_pooled_features.npy'), rand_train_data)\n",
        "np.save(os.path.join(base,'random_pooled_features.npy'), unif_train_data)\n",
        "\n",
        "print('DATASETS SAVED......')"
      ],
      "metadata": {
        "id": "mX2pITwpDSYl"
      },
      "execution_count": null,
      "outputs": []
    },
    {
      "cell_type": "markdown",
      "source": [
        "# extract features from validation datasets"
      ],
      "metadata": {
        "id": "TreEWph492Zo"
      }
    },
    {
      "cell_type": "code",
      "source": [
        "def UniformSampling(cap, sample_rate, frameCount, video_sampled_dir):\n",
        "    for i in range(0, frameCount, sample_rate):\n",
        "      cap.set(cv2.CAP_PROP_POS_FRAMES, i)\n",
        "      ret, frame = cap.read()\n",
        "      if ret:\n",
        "          frame_filename = os.path.join(video_sampled_dir, f'frame_{i}.jpg')\n",
        "          cv2.imwrite(frame_filename, frame)\n",
        "\n",
        "def RandomSampling(cap,num_samples, frameCount, video_sampled_dir):\n",
        "    sampled_indices = random.sample(range(frameCount), num_samples)\n",
        "\n",
        "    for i in sampled_indices:\n",
        "        cap.set(cv2.CAP_PROP_POS_FRAMES, i)\n",
        "        ret, frame = cap.read()\n",
        "        if ret:\n",
        "            frame_filename = os.path.join(video_sampled_dir, f'frame_{i}.jpg')\n",
        "            cv2.imwrite(frame_filename, frame)\n",
        "\n",
        "\n",
        "def sampling_validation(val_dir,video_sampled_frames_folder, sampling_type = 'uniform', sample_rate = 5, num_samples = 10):\n",
        "  try:\n",
        "    os.makedirs(val_dir, exist_ok=True)\n",
        "  except Exception:\n",
        "    pass\n",
        "  for video_file in os.listdir(val_dir):\n",
        "      video_path = os.path.join(val_dir, video_file)\n",
        "      cap = cv2.VideoCapture(video_path)\n",
        "      frame_count = int(cap.get(cv2.CAP_PROP_FRAME_COUNT))\n",
        "\n",
        "      if sampling_type == 'uniform':\n",
        "        UniformSampling(cap = cap, frameCount=frame_count, sample_rate = sample_rate, video_sampled_dir = video_sampled_frames_folder)\n",
        "      else:\n",
        "        RandomSampling(cap = cap, frameCount=frame_count, num_samples=num_samples, video_sampled_dir = video_sampled_frames_folder)\n",
        "\n",
        "val_base = '/content/drive/MyDrive/machine vision assignment 2/EE6222 train and validate 2023/validate'\n",
        "unif_dir = '/content/drive/MyDrive/machine vision assignment 2/EE6222 train and validate 2023/validate/uniform_validation_sampled'\n",
        "rand_dir = '/content/drive/MyDrive/machine vision assignment 2/EE6222 train and validate 2023/validate/random_validation_sampled'\n",
        "try:\n",
        "  os.makedirs(unif_dir)\n",
        "  os.makedirs(rand_dir)\n",
        "except Exception:\n",
        "  pass\n",
        "if not os.listdir(unif_dir):\n",
        "  sampling_validation(val_dir = val_base, video_sampled_frames_folder=unif_dir)\n",
        "try:\n",
        "  sampling_validation(val_dir = val_base, video_sampled_frames_folder=rand_dir, sampling_type = 'random', num_samples=5)\n",
        "except ValueError:\n",
        "  pass\n",
        "\n",
        "with open('/content/drive/MyDrive/machine vision assignment 2/EE6222 train and validate 2023/validate.txt', 'r') as f:\n",
        "  lines = f.readlines()\n",
        "  mapping = {line.split()[2]:int(line.split()[1]) for line in lines}\n",
        "\n",
        "def validate_features(frames):\n",
        "  print(\"FRAMES: \", frames)\n",
        "  extractor = Feature_extract(random_frames = frames)\n",
        "  features = extractor.Get_features()\n",
        "  return features\n",
        "val_frames = os.listdir(unif_dir)\n",
        "val_features = validate_features(frames = val_frames)\n",
        "print(val_features)"
      ],
      "metadata": {
        "colab": {
          "base_uri": "https://localhost:8080/",
          "height": 410
        },
        "id": "5EM0uScuFGsz",
        "outputId": "1a46b625-c196-46e0-dec7-d6072bd8a765"
      },
      "execution_count": 11,
      "outputs": [
        {
          "output_type": "stream",
          "name": "stdout",
          "text": [
            "FRAMES:  ['frame_95.jpg', 'frame_0.jpg', 'frame_35.jpg', 'frame_20.jpg', 'frame_10.jpg', 'frame_15.jpg', 'frame_40.jpg', 'frame_25.jpg', 'frame_5.jpg', 'frame_30.jpg', 'frame_45.jpg', 'frame_50.jpg', 'frame_65.jpg', 'frame_75.jpg', 'frame_70.jpg', 'frame_80.jpg', 'frame_55.jpg', 'frame_60.jpg', 'frame_85.jpg', 'frame_90.jpg']\n"
          ]
        },
        {
          "output_type": "error",
          "ename": "AxisError",
          "evalue": "ignored",
          "traceback": [
            "\u001b[0;31m---------------------------------------------------------------------------\u001b[0m",
            "\u001b[0;31mAxisError\u001b[0m                                 Traceback (most recent call last)",
            "\u001b[0;32m<ipython-input-11-f63e080616bb>\u001b[0m in \u001b[0;36m<cell line: 60>\u001b[0;34m()\u001b[0m\n\u001b[1;32m     58\u001b[0m   \u001b[0;32mreturn\u001b[0m \u001b[0mfeatures\u001b[0m\u001b[0;34m\u001b[0m\u001b[0;34m\u001b[0m\u001b[0m\n\u001b[1;32m     59\u001b[0m \u001b[0mval_frames\u001b[0m \u001b[0;34m=\u001b[0m \u001b[0mos\u001b[0m\u001b[0;34m.\u001b[0m\u001b[0mlistdir\u001b[0m\u001b[0;34m(\u001b[0m\u001b[0munif_dir\u001b[0m\u001b[0;34m)\u001b[0m\u001b[0;34m\u001b[0m\u001b[0;34m\u001b[0m\u001b[0m\n\u001b[0;32m---> 60\u001b[0;31m \u001b[0mval_features\u001b[0m \u001b[0;34m=\u001b[0m \u001b[0mvalidate_features\u001b[0m\u001b[0;34m(\u001b[0m\u001b[0mframes\u001b[0m \u001b[0;34m=\u001b[0m \u001b[0mval_frames\u001b[0m\u001b[0;34m)\u001b[0m\u001b[0;34m\u001b[0m\u001b[0;34m\u001b[0m\u001b[0m\n\u001b[0m\u001b[1;32m     61\u001b[0m \u001b[0mprint\u001b[0m\u001b[0;34m(\u001b[0m\u001b[0mval_features\u001b[0m\u001b[0;34m)\u001b[0m\u001b[0;34m\u001b[0m\u001b[0;34m\u001b[0m\u001b[0m\n",
            "\u001b[0;32m<ipython-input-11-f63e080616bb>\u001b[0m in \u001b[0;36mvalidate_features\u001b[0;34m(frames)\u001b[0m\n\u001b[1;32m     55\u001b[0m   \u001b[0mprint\u001b[0m\u001b[0;34m(\u001b[0m\u001b[0;34m\"FRAMES: \"\u001b[0m\u001b[0;34m,\u001b[0m \u001b[0mframes\u001b[0m\u001b[0;34m)\u001b[0m\u001b[0;34m\u001b[0m\u001b[0;34m\u001b[0m\u001b[0m\n\u001b[1;32m     56\u001b[0m   \u001b[0mextractor\u001b[0m \u001b[0;34m=\u001b[0m \u001b[0mFeature_extract\u001b[0m\u001b[0;34m(\u001b[0m\u001b[0mrandom_frames\u001b[0m \u001b[0;34m=\u001b[0m \u001b[0mframes\u001b[0m\u001b[0;34m)\u001b[0m\u001b[0;34m\u001b[0m\u001b[0;34m\u001b[0m\u001b[0m\n\u001b[0;32m---> 57\u001b[0;31m   \u001b[0mfeatures\u001b[0m \u001b[0;34m=\u001b[0m \u001b[0mextractor\u001b[0m\u001b[0;34m.\u001b[0m\u001b[0mGet_features\u001b[0m\u001b[0;34m(\u001b[0m\u001b[0;34m)\u001b[0m\u001b[0;34m\u001b[0m\u001b[0;34m\u001b[0m\u001b[0m\n\u001b[0m\u001b[1;32m     58\u001b[0m   \u001b[0;32mreturn\u001b[0m \u001b[0mfeatures\u001b[0m\u001b[0;34m\u001b[0m\u001b[0;34m\u001b[0m\u001b[0m\n\u001b[1;32m     59\u001b[0m \u001b[0mval_frames\u001b[0m \u001b[0;34m=\u001b[0m \u001b[0mos\u001b[0m\u001b[0;34m.\u001b[0m\u001b[0mlistdir\u001b[0m\u001b[0;34m(\u001b[0m\u001b[0munif_dir\u001b[0m\u001b[0;34m)\u001b[0m\u001b[0;34m\u001b[0m\u001b[0;34m\u001b[0m\u001b[0m\n",
            "\u001b[0;32m<ipython-input-7-ba687a67b046>\u001b[0m in \u001b[0;36mGet_features\u001b[0;34m(self, unif)\u001b[0m\n\u001b[1;32m     12\u001b[0m       \u001b[0;32mreturn\u001b[0m \u001b[0muniform_features\u001b[0m\u001b[0;34m\u001b[0m\u001b[0;34m\u001b[0m\u001b[0m\n\u001b[1;32m     13\u001b[0m     \u001b[0;32melse\u001b[0m\u001b[0;34m:\u001b[0m\u001b[0;34m\u001b[0m\u001b[0;34m\u001b[0m\u001b[0m\n\u001b[0;32m---> 14\u001b[0;31m       \u001b[0mrandom_features\u001b[0m \u001b[0;34m=\u001b[0m \u001b[0mself\u001b[0m\u001b[0;34m.\u001b[0m\u001b[0mpreprocess_and_extract_features\u001b[0m\u001b[0;34m(\u001b[0m\u001b[0mself\u001b[0m\u001b[0;34m.\u001b[0m\u001b[0mrandom_frames\u001b[0m\u001b[0;34m,\u001b[0m \u001b[0mself\u001b[0m\u001b[0;34m.\u001b[0m\u001b[0mmodel\u001b[0m\u001b[0;34m,\u001b[0m \u001b[0mref_mean\u001b[0m\u001b[0;34m=\u001b[0m\u001b[0;34m[\u001b[0m\u001b[0;36m0.07\u001b[0m\u001b[0;34m,\u001b[0m \u001b[0;36m0.07\u001b[0m\u001b[0;34m,\u001b[0m \u001b[0;36m0.07\u001b[0m\u001b[0;34m]\u001b[0m\u001b[0;34m,\u001b[0m \u001b[0mref_std\u001b[0m\u001b[0;34m=\u001b[0m\u001b[0;34m[\u001b[0m\u001b[0;36m0.1\u001b[0m\u001b[0;34m,\u001b[0m \u001b[0;36m0.09\u001b[0m\u001b[0;34m,\u001b[0m \u001b[0;36m0.08\u001b[0m\u001b[0;34m]\u001b[0m\u001b[0;34m)\u001b[0m\u001b[0;34m\u001b[0m\u001b[0;34m\u001b[0m\u001b[0m\n\u001b[0m\u001b[1;32m     15\u001b[0m       \u001b[0;32mreturn\u001b[0m \u001b[0mrandom_features\u001b[0m\u001b[0;34m\u001b[0m\u001b[0;34m\u001b[0m\u001b[0m\n\u001b[1;32m     16\u001b[0m \u001b[0;34m\u001b[0m\u001b[0m\n",
            "\u001b[0;32m<ipython-input-7-ba687a67b046>\u001b[0m in \u001b[0;36mpreprocess_and_extract_features\u001b[0;34m(self, frames, model, ref_mean, ref_std)\u001b[0m\n\u001b[1;32m     25\u001b[0m   \u001b[0;31m# Function to preprocess frames and extract features using ResNet\u001b[0m\u001b[0;34m\u001b[0m\u001b[0;34m\u001b[0m\u001b[0m\n\u001b[1;32m     26\u001b[0m   \u001b[0;32mdef\u001b[0m \u001b[0mpreprocess_and_extract_features\u001b[0m\u001b[0;34m(\u001b[0m\u001b[0mself\u001b[0m\u001b[0;34m,\u001b[0m\u001b[0mframes\u001b[0m\u001b[0;34m,\u001b[0m \u001b[0mmodel\u001b[0m\u001b[0;34m,\u001b[0m \u001b[0mref_mean\u001b[0m\u001b[0;34m,\u001b[0m \u001b[0mref_std\u001b[0m\u001b[0;34m)\u001b[0m\u001b[0;34m:\u001b[0m\u001b[0;34m\u001b[0m\u001b[0;34m\u001b[0m\u001b[0m\n\u001b[0;32m---> 27\u001b[0;31m       \u001b[0mprocessed_frames\u001b[0m \u001b[0;34m=\u001b[0m \u001b[0;34m[\u001b[0m\u001b[0mself\u001b[0m\u001b[0;34m.\u001b[0m\u001b[0mnormalize_frame\u001b[0m\u001b[0;34m(\u001b[0m\u001b[0mframe\u001b[0m\u001b[0;34m,\u001b[0m \u001b[0mref_mean\u001b[0m\u001b[0;34m,\u001b[0m \u001b[0mref_std\u001b[0m\u001b[0;34m)\u001b[0m \u001b[0;32mfor\u001b[0m \u001b[0mframe\u001b[0m \u001b[0;32min\u001b[0m \u001b[0mframes\u001b[0m \u001b[0;32mif\u001b[0m \u001b[0mframe\u001b[0m\u001b[0;34m]\u001b[0m\u001b[0;34m\u001b[0m\u001b[0;34m\u001b[0m\u001b[0m\n\u001b[0m\u001b[1;32m     28\u001b[0m       \u001b[0mprocessed_frames\u001b[0m \u001b[0;34m=\u001b[0m \u001b[0;34m[\u001b[0m\u001b[0mpreprocess_input\u001b[0m\u001b[0;34m(\u001b[0m\u001b[0mframe\u001b[0m\u001b[0;34m)\u001b[0m \u001b[0;32mfor\u001b[0m \u001b[0mframe\u001b[0m \u001b[0;32min\u001b[0m \u001b[0mprocessed_frames\u001b[0m\u001b[0;34m]\u001b[0m\u001b[0;34m\u001b[0m\u001b[0;34m\u001b[0m\u001b[0m\n\u001b[1;32m     29\u001b[0m       \u001b[0mfeatures\u001b[0m \u001b[0;34m=\u001b[0m \u001b[0mmodel\u001b[0m\u001b[0;34m.\u001b[0m\u001b[0mpredict\u001b[0m\u001b[0;34m(\u001b[0m\u001b[0mnp\u001b[0m\u001b[0;34m.\u001b[0m\u001b[0marray\u001b[0m\u001b[0;34m(\u001b[0m\u001b[0mprocessed_frames\u001b[0m\u001b[0;34m)\u001b[0m\u001b[0;34m)\u001b[0m\u001b[0;34m\u001b[0m\u001b[0;34m\u001b[0m\u001b[0m\n",
            "\u001b[0;32m<ipython-input-7-ba687a67b046>\u001b[0m in \u001b[0;36m<listcomp>\u001b[0;34m(.0)\u001b[0m\n\u001b[1;32m     25\u001b[0m   \u001b[0;31m# Function to preprocess frames and extract features using ResNet\u001b[0m\u001b[0;34m\u001b[0m\u001b[0;34m\u001b[0m\u001b[0m\n\u001b[1;32m     26\u001b[0m   \u001b[0;32mdef\u001b[0m \u001b[0mpreprocess_and_extract_features\u001b[0m\u001b[0;34m(\u001b[0m\u001b[0mself\u001b[0m\u001b[0;34m,\u001b[0m\u001b[0mframes\u001b[0m\u001b[0;34m,\u001b[0m \u001b[0mmodel\u001b[0m\u001b[0;34m,\u001b[0m \u001b[0mref_mean\u001b[0m\u001b[0;34m,\u001b[0m \u001b[0mref_std\u001b[0m\u001b[0;34m)\u001b[0m\u001b[0;34m:\u001b[0m\u001b[0;34m\u001b[0m\u001b[0;34m\u001b[0m\u001b[0m\n\u001b[0;32m---> 27\u001b[0;31m       \u001b[0mprocessed_frames\u001b[0m \u001b[0;34m=\u001b[0m \u001b[0;34m[\u001b[0m\u001b[0mself\u001b[0m\u001b[0;34m.\u001b[0m\u001b[0mnormalize_frame\u001b[0m\u001b[0;34m(\u001b[0m\u001b[0mframe\u001b[0m\u001b[0;34m,\u001b[0m \u001b[0mref_mean\u001b[0m\u001b[0;34m,\u001b[0m \u001b[0mref_std\u001b[0m\u001b[0;34m)\u001b[0m \u001b[0;32mfor\u001b[0m \u001b[0mframe\u001b[0m \u001b[0;32min\u001b[0m \u001b[0mframes\u001b[0m \u001b[0;32mif\u001b[0m \u001b[0mframe\u001b[0m\u001b[0;34m]\u001b[0m\u001b[0;34m\u001b[0m\u001b[0;34m\u001b[0m\u001b[0m\n\u001b[0m\u001b[1;32m     28\u001b[0m       \u001b[0mprocessed_frames\u001b[0m \u001b[0;34m=\u001b[0m \u001b[0;34m[\u001b[0m\u001b[0mpreprocess_input\u001b[0m\u001b[0;34m(\u001b[0m\u001b[0mframe\u001b[0m\u001b[0;34m)\u001b[0m \u001b[0;32mfor\u001b[0m \u001b[0mframe\u001b[0m \u001b[0;32min\u001b[0m \u001b[0mprocessed_frames\u001b[0m\u001b[0;34m]\u001b[0m\u001b[0;34m\u001b[0m\u001b[0;34m\u001b[0m\u001b[0m\n\u001b[1;32m     29\u001b[0m       \u001b[0mfeatures\u001b[0m \u001b[0;34m=\u001b[0m \u001b[0mmodel\u001b[0m\u001b[0;34m.\u001b[0m\u001b[0mpredict\u001b[0m\u001b[0;34m(\u001b[0m\u001b[0mnp\u001b[0m\u001b[0;34m.\u001b[0m\u001b[0marray\u001b[0m\u001b[0;34m(\u001b[0m\u001b[0mprocessed_frames\u001b[0m\u001b[0;34m)\u001b[0m\u001b[0;34m)\u001b[0m\u001b[0;34m\u001b[0m\u001b[0;34m\u001b[0m\u001b[0m\n",
            "\u001b[0;32m<ipython-input-7-ba687a67b046>\u001b[0m in \u001b[0;36mnormalize_frame\u001b[0;34m(self, frame, ref_mean, ref_std)\u001b[0m\n\u001b[1;32m     18\u001b[0m   \u001b[0;32mdef\u001b[0m \u001b[0mnormalize_frame\u001b[0m\u001b[0;34m(\u001b[0m\u001b[0mself\u001b[0m\u001b[0;34m,\u001b[0m \u001b[0mframe\u001b[0m\u001b[0;34m,\u001b[0m \u001b[0mref_mean\u001b[0m\u001b[0;34m,\u001b[0m \u001b[0mref_std\u001b[0m\u001b[0;34m)\u001b[0m\u001b[0;34m:\u001b[0m\u001b[0;34m\u001b[0m\u001b[0;34m\u001b[0m\u001b[0m\n\u001b[1;32m     19\u001b[0m       \u001b[0mframe\u001b[0m \u001b[0;34m=\u001b[0m \u001b[0mcv2\u001b[0m\u001b[0;34m.\u001b[0m\u001b[0mimread\u001b[0m\u001b[0;34m(\u001b[0m\u001b[0mframe\u001b[0m\u001b[0;34m)\u001b[0m\u001b[0;34m\u001b[0m\u001b[0;34m\u001b[0m\u001b[0m\n\u001b[0;32m---> 20\u001b[0;31m       \u001b[0mactual_mean\u001b[0m \u001b[0;34m=\u001b[0m \u001b[0mnp\u001b[0m\u001b[0;34m.\u001b[0m\u001b[0mmean\u001b[0m\u001b[0;34m(\u001b[0m\u001b[0mframe\u001b[0m\u001b[0;34m,\u001b[0m \u001b[0maxis\u001b[0m\u001b[0;34m=\u001b[0m\u001b[0;34m(\u001b[0m\u001b[0;36m0\u001b[0m\u001b[0;34m,\u001b[0m \u001b[0;36m1\u001b[0m\u001b[0;34m)\u001b[0m\u001b[0;34m,\u001b[0m \u001b[0mkeepdims\u001b[0m\u001b[0;34m=\u001b[0m\u001b[0;32mTrue\u001b[0m\u001b[0;34m)\u001b[0m\u001b[0;34m\u001b[0m\u001b[0;34m\u001b[0m\u001b[0m\n\u001b[0m\u001b[1;32m     21\u001b[0m       \u001b[0mactual_std\u001b[0m \u001b[0;34m=\u001b[0m \u001b[0mnp\u001b[0m\u001b[0;34m.\u001b[0m\u001b[0mstd\u001b[0m\u001b[0;34m(\u001b[0m\u001b[0mframe\u001b[0m\u001b[0;34m,\u001b[0m \u001b[0maxis\u001b[0m\u001b[0;34m=\u001b[0m\u001b[0;34m(\u001b[0m\u001b[0;36m0\u001b[0m\u001b[0;34m,\u001b[0m \u001b[0;36m1\u001b[0m\u001b[0;34m)\u001b[0m\u001b[0;34m)\u001b[0m\u001b[0;34m\u001b[0m\u001b[0;34m\u001b[0m\u001b[0m\n\u001b[1;32m     22\u001b[0m       \u001b[0mnormalized_frame\u001b[0m \u001b[0;34m=\u001b[0m \u001b[0;34m(\u001b[0m\u001b[0mframe\u001b[0m \u001b[0;34m-\u001b[0m \u001b[0mactual_mean\u001b[0m\u001b[0;34m)\u001b[0m \u001b[0;34m/\u001b[0m \u001b[0mactual_std\u001b[0m \u001b[0;34m*\u001b[0m \u001b[0mref_std\u001b[0m \u001b[0;34m+\u001b[0m \u001b[0mref_mean\u001b[0m\u001b[0;34m\u001b[0m\u001b[0;34m\u001b[0m\u001b[0m\n",
            "\u001b[0;32m/usr/local/lib/python3.10/dist-packages/numpy/core/overrides.py\u001b[0m in \u001b[0;36mmean\u001b[0;34m(*args, **kwargs)\u001b[0m\n",
            "\u001b[0;32m/usr/local/lib/python3.10/dist-packages/numpy/core/fromnumeric.py\u001b[0m in \u001b[0;36mmean\u001b[0;34m(a, axis, dtype, out, keepdims, where)\u001b[0m\n\u001b[1;32m   3430\u001b[0m             \u001b[0;32mreturn\u001b[0m \u001b[0mmean\u001b[0m\u001b[0;34m(\u001b[0m\u001b[0maxis\u001b[0m\u001b[0;34m=\u001b[0m\u001b[0maxis\u001b[0m\u001b[0;34m,\u001b[0m \u001b[0mdtype\u001b[0m\u001b[0;34m=\u001b[0m\u001b[0mdtype\u001b[0m\u001b[0;34m,\u001b[0m \u001b[0mout\u001b[0m\u001b[0;34m=\u001b[0m\u001b[0mout\u001b[0m\u001b[0;34m,\u001b[0m \u001b[0;34m**\u001b[0m\u001b[0mkwargs\u001b[0m\u001b[0;34m)\u001b[0m\u001b[0;34m\u001b[0m\u001b[0;34m\u001b[0m\u001b[0m\n\u001b[1;32m   3431\u001b[0m \u001b[0;34m\u001b[0m\u001b[0m\n\u001b[0;32m-> 3432\u001b[0;31m     return _methods._mean(a, axis=axis, dtype=dtype,\n\u001b[0m\u001b[1;32m   3433\u001b[0m                           out=out, **kwargs)\n\u001b[1;32m   3434\u001b[0m \u001b[0;34m\u001b[0m\u001b[0m\n",
            "\u001b[0;32m/usr/local/lib/python3.10/dist-packages/numpy/core/_methods.py\u001b[0m in \u001b[0;36m_mean\u001b[0;34m(a, axis, dtype, out, keepdims, where)\u001b[0m\n\u001b[1;32m    166\u001b[0m     \u001b[0mis_float16_result\u001b[0m \u001b[0;34m=\u001b[0m \u001b[0;32mFalse\u001b[0m\u001b[0;34m\u001b[0m\u001b[0;34m\u001b[0m\u001b[0m\n\u001b[1;32m    167\u001b[0m \u001b[0;34m\u001b[0m\u001b[0m\n\u001b[0;32m--> 168\u001b[0;31m     \u001b[0mrcount\u001b[0m \u001b[0;34m=\u001b[0m \u001b[0m_count_reduce_items\u001b[0m\u001b[0;34m(\u001b[0m\u001b[0marr\u001b[0m\u001b[0;34m,\u001b[0m \u001b[0maxis\u001b[0m\u001b[0;34m,\u001b[0m \u001b[0mkeepdims\u001b[0m\u001b[0;34m=\u001b[0m\u001b[0mkeepdims\u001b[0m\u001b[0;34m,\u001b[0m \u001b[0mwhere\u001b[0m\u001b[0;34m=\u001b[0m\u001b[0mwhere\u001b[0m\u001b[0;34m)\u001b[0m\u001b[0;34m\u001b[0m\u001b[0;34m\u001b[0m\u001b[0m\n\u001b[0m\u001b[1;32m    169\u001b[0m     \u001b[0;32mif\u001b[0m \u001b[0mrcount\u001b[0m \u001b[0;34m==\u001b[0m \u001b[0;36m0\u001b[0m \u001b[0;32mif\u001b[0m \u001b[0mwhere\u001b[0m \u001b[0;32mis\u001b[0m \u001b[0;32mTrue\u001b[0m \u001b[0;32melse\u001b[0m \u001b[0mumr_any\u001b[0m\u001b[0;34m(\u001b[0m\u001b[0mrcount\u001b[0m \u001b[0;34m==\u001b[0m \u001b[0;36m0\u001b[0m\u001b[0;34m,\u001b[0m \u001b[0maxis\u001b[0m\u001b[0;34m=\u001b[0m\u001b[0;32mNone\u001b[0m\u001b[0;34m)\u001b[0m\u001b[0;34m:\u001b[0m\u001b[0;34m\u001b[0m\u001b[0;34m\u001b[0m\u001b[0m\n\u001b[1;32m    170\u001b[0m         \u001b[0mwarnings\u001b[0m\u001b[0;34m.\u001b[0m\u001b[0mwarn\u001b[0m\u001b[0;34m(\u001b[0m\u001b[0;34m\"Mean of empty slice.\"\u001b[0m\u001b[0;34m,\u001b[0m \u001b[0mRuntimeWarning\u001b[0m\u001b[0;34m,\u001b[0m \u001b[0mstacklevel\u001b[0m\u001b[0;34m=\u001b[0m\u001b[0;36m2\u001b[0m\u001b[0;34m)\u001b[0m\u001b[0;34m\u001b[0m\u001b[0;34m\u001b[0m\u001b[0m\n",
            "\u001b[0;32m/usr/local/lib/python3.10/dist-packages/numpy/core/_methods.py\u001b[0m in \u001b[0;36m_count_reduce_items\u001b[0;34m(arr, axis, keepdims, where)\u001b[0m\n\u001b[1;32m     74\u001b[0m         \u001b[0mitems\u001b[0m \u001b[0;34m=\u001b[0m \u001b[0;36m1\u001b[0m\u001b[0;34m\u001b[0m\u001b[0;34m\u001b[0m\u001b[0m\n\u001b[1;32m     75\u001b[0m         \u001b[0;32mfor\u001b[0m \u001b[0max\u001b[0m \u001b[0;32min\u001b[0m \u001b[0maxis\u001b[0m\u001b[0;34m:\u001b[0m\u001b[0;34m\u001b[0m\u001b[0;34m\u001b[0m\u001b[0m\n\u001b[0;32m---> 76\u001b[0;31m             \u001b[0mitems\u001b[0m \u001b[0;34m*=\u001b[0m \u001b[0marr\u001b[0m\u001b[0;34m.\u001b[0m\u001b[0mshape\u001b[0m\u001b[0;34m[\u001b[0m\u001b[0mmu\u001b[0m\u001b[0;34m.\u001b[0m\u001b[0mnormalize_axis_index\u001b[0m\u001b[0;34m(\u001b[0m\u001b[0max\u001b[0m\u001b[0;34m,\u001b[0m \u001b[0marr\u001b[0m\u001b[0;34m.\u001b[0m\u001b[0mndim\u001b[0m\u001b[0;34m)\u001b[0m\u001b[0;34m]\u001b[0m\u001b[0;34m\u001b[0m\u001b[0;34m\u001b[0m\u001b[0m\n\u001b[0m\u001b[1;32m     77\u001b[0m         \u001b[0mitems\u001b[0m \u001b[0;34m=\u001b[0m \u001b[0mnt\u001b[0m\u001b[0;34m.\u001b[0m\u001b[0mintp\u001b[0m\u001b[0;34m(\u001b[0m\u001b[0mitems\u001b[0m\u001b[0;34m)\u001b[0m\u001b[0;34m\u001b[0m\u001b[0;34m\u001b[0m\u001b[0m\n\u001b[1;32m     78\u001b[0m     \u001b[0;32melse\u001b[0m\u001b[0;34m:\u001b[0m\u001b[0;34m\u001b[0m\u001b[0;34m\u001b[0m\u001b[0m\n",
            "\u001b[0;31mAxisError\u001b[0m: axis 0 is out of bounds for array of dimension 0"
          ]
        }
      ]
    },
    {
      "cell_type": "code",
      "source": [
        "val_base = '/content/drive/MyDrive/machine vision assignment 2/EE6222 train and validate 2023/validate'\n",
        "unif_dir = '/content/drive/MyDrive/machine vision assignment 2/EE6222 train and validate 2023/validate/uniform_validation_sampled'\n",
        "rand_dir = '/content/drive/MyDrive/machine vision assignment 2/EE6222 train and validate 2023/validate/random_validation_sampled'\n",
        "try:\n",
        "  os.makedirs(unif_dir)\n",
        "  os.makedirs(rand_dir)\n",
        "except Exception:\n",
        "  pass\n",
        "if not os.listdir(unif_dir):\n",
        "  sampling_validation(val_dir = val_base, video_sampled_frames_folder=unif_dir)\n",
        "try:\n",
        "  sampling_validation(val_dir = val_base, video_sampled_frames_folder=rand_dir, sampling_type = 'random', num_samples=5)\n",
        "except ValueError:\n",
        "  pass\n",
        "\n",
        "with open('/content/drive/MyDrive/machine vision assignment 2/EE6222 train and validate 2023/validate.txt', 'r') as f:\n",
        "  lines = f.readlines()\n",
        "  mapping = {line.split()[2]:int(line.split()[1]) for line in lines}\n",
        "\n",
        "def validate_features(frames):\n",
        "  print(\"FRAMES: \", frames)\n",
        "  extractor = Feature_extract(random_frames = frames)\n",
        "  features = extractor.Get_features()\n",
        "  return features\n",
        "val_frames = os.listdir(unif_dir)\n",
        "val_features = validate_features(frames = val_frames)\n",
        "print(val_features)"
      ],
      "metadata": {
        "id": "nsKrZvu7adoY"
      },
      "execution_count": null,
      "outputs": []
    },
    {
      "cell_type": "markdown",
      "source": [
        "### obtain the features of each frame using a pre-trained model and create feature vector"
      ],
      "metadata": {
        "id": "uH_6i4iD8Jo4"
      }
    },
    {
      "cell_type": "markdown",
      "source": [
        "## fuse features extracted using average pooling"
      ],
      "metadata": {
        "id": "KsrzZaJ4WrKZ"
      }
    },
    {
      "cell_type": "markdown",
      "source": [
        "## Question: ***Describe in brief the pre-trained model leveraged and why the pre-trained model is selected. What is the dimension of the feature obtained. Remember to save the video features in order for subsequent training. (3 points)***"
      ],
      "metadata": {
        "id": "bxDZcyULVVun"
      }
    },
    {
      "cell_type": "code",
      "source": [
        "# import numpy as np\n",
        "# import pickle\n",
        "\n",
        "# # Save the video-level features as NumPy arrays\n",
        "# np.save('uniform_pooled_features.npy', uniform_pooled_feature)\n",
        "# np.save('random_pooled_features.npy', random_pooled_feature)\n",
        "\n",
        "# # Alternatively, you can save the features as a pickled object\n",
        "# with open('uniform_pooled_features.pkl', 'wb') as file:\n",
        "#     pickle.dump(uniform_pooled_feature, file)\n",
        "\n",
        "# with open('random_pooled_features.pkl', 'wb') as file:\n",
        "#     pickle.dump(random_pooled_feature, file)\n"
      ],
      "metadata": {
        "id": "12SrYU3J1SBR"
      },
      "execution_count": null,
      "outputs": []
    },
    {
      "cell_type": "markdown",
      "source": [
        "# 3. **Classifier Training and Evaluation**"
      ],
      "metadata": {
        "id": "xgDGUCt2XiXD"
      }
    },
    {
      "cell_type": "markdown",
      "source": [
        "**possible classifier I can choose from since my datasets are small (just 25 videos)**\n",
        "\n",
        "1.   Support Vector Machines (SVM)\n",
        "2.   Naive Bayes\n",
        "3. Random Forest\n",
        "\n",
        "\n",
        "\n"
      ],
      "metadata": {
        "id": "clRJUkrjdEKO"
      }
    },
    {
      "cell_type": "code",
      "source": [
        "# Create a dataset (features and labels)\n",
        "datasets = np.load(os.path.join(base,'uniform_pooled_features.npy'), allow_pickle = True)\n",
        "# datasets = datasets.reshape((150, 2))\n",
        "# X = datasets[:][1]\n",
        "# y = datasets[:][0]\n",
        "# print(f'LABELS: {y}')\n",
        "# print(datasets)\n",
        "# Split data into training and validation sets\n",
        "X_train, X_val, y_train, y_val = train_test_split(X, y, test_size=0.2, random_state=42)\n",
        "\n",
        "# # Train an SVM classifier\n",
        "# svm_classifier = SVC(kernel='linear')\n",
        "# svm_classifier.fit(X_train, y_train)\n",
        "\n",
        "# # Make predictions and evaluate the model\n",
        "# y_pred = svm_classifier.predict(X_val)\n",
        "# accuracy = accuracy_score(y_val, y_pred)\n",
        "# report = classification_report(y_val, y_pred)\n",
        "# print(\"Accuracy:\", accuracy)\n",
        "# print(report)\n"
      ],
      "metadata": {
        "id": "fMkKUwM4Vb6k"
      },
      "execution_count": null,
      "outputs": []
    },
    {
      "cell_type": "markdown",
      "source": [
        "### Discuss the pros and cons of the type of classifier selected"
      ],
      "metadata": {
        "id": "Zq55TUad9LJR"
      }
    },
    {
      "cell_type": "markdown",
      "source": [
        "## evaluate the trained classifier"
      ],
      "metadata": {
        "id": "x6B1EtDk9SvG"
      }
    },
    {
      "cell_type": "code",
      "source": [
        "from sklearn.metrics import accuracy_score, precision_score, recall_score, f1_score, confusion_matrix\n",
        "\n",
        "# Assuming you have a trained classifier, such as svm_classifier, as described in Section 3\n",
        "# X_val and y_val are the validation features and labels\n",
        "\n",
        "# Make predictions on the validation set\n",
        "y_pred = svm_classifier.predict(X_val)\n",
        "\n",
        "# Calculate evaluation metrics\n",
        "accuracy = accuracy_score(y_val, y_pred)\n",
        "precision = precision_score(y_val, y_pred)\n",
        "recall = recall_score(y_val, y_pred)\n",
        "f1 = f1_score(y_val, y_pred)\n",
        "confusion = confusion_matrix(y_val, y_pred)\n",
        "\n",
        "# Print the results\n",
        "print(\"Accuracy:\", accuracy)\n",
        "print(\"Precision:\", precision)\n",
        "print(\"Recall:\", recall)\n",
        "print(\"F1 Score:\", f1)\n",
        "print(\"Confusion Matrix:\")\n",
        "print(confusion)\n"
      ],
      "metadata": {
        "id": "CC3DscKI9fvn"
      },
      "execution_count": null,
      "outputs": []
    },
    {
      "cell_type": "markdown",
      "source": [
        "### You should repeat steps 1 and 2 for the validation videos to obtain their features and obtain their class predictions with the trained classifier. Compare the predictions with the ground truth label. What is the performance of the trained classifier? (3 points)"
      ],
      "metadata": {
        "id": "S5gousOg9rRk"
      }
    },
    {
      "cell_type": "code",
      "source": [
        "# Step 1: Frame Sampling for Validation Videos\n",
        "# - You can follow the same frame sampling process as in Section 1 for your validation videos.\n",
        "# - Let's assume you have validation_uniform_frames and validation_random_frames for uniform and random sampling.\n",
        "\n",
        "# Step 2: Feature Extraction for Validation Videos\n",
        "# - Apply the same feature extraction process as in Section 2 for the validation videos.\n",
        "# - Assuming you have a pre-trained model (model) and reference mean and standard deviation (ref_mean, ref_std).\n",
        "\n",
        "# Extract features for validation videos\n",
        "validation_uniform_features = preprocess_and_extract_features(validation_uniform_frames, model, ref_mean, ref_std)\n",
        "validation_random_features = preprocess_and_extract_features(validation_random_frames, model, ref_mean, ref_std)\n",
        "\n",
        "# Step 3: Classifier Prediction and Evaluation\n",
        "# - Use the trained classifier to predict classes for validation features and compare with ground truth labels.\n",
        "# - Assuming you have validation_labels for ground truth labels.\n",
        "\n",
        "# Predict classes for validation features\n",
        "validation_uniform_predictions = svm_classifier.predict(validation_uniform_features)\n",
        "validation_random_predictions = svm_classifier.predict(validation_random_features)\n",
        "\n",
        "# Evaluate the performance for uniform sampling\n",
        "uniform_accuracy = accuracy_score(validation_labels, validation_uniform_predictions)\n",
        "uniform_precision = precision_score(validation_labels, validation_uniform_predictions)\n",
        "uniform_recall = recall_score(validation_labels, validation_uniform_predictions)\n",
        "uniform_f1 = f1_score(validation_labels, validation_uniform_predictions)\n",
        "\n",
        "# Evaluate the performance for random sampling\n",
        "random_accuracy = accuracy_score(validation_labels, validation_random_predictions)\n",
        "random_precision = precision_score(validation_labels, validation_random_predictions)\n",
        "random_recall = recall_score(validation_labels, validation_random_predictions)\n",
        "random_f1 = f1_score(validation_labels, validation_random_predictions)\n",
        "\n",
        "# Compare and print the results\n",
        "print(\"Performance for Uniform Sampling:\")\n",
        "print(\"Accuracy:\", uniform_accuracy)\n",
        "print(\"Precision:\", uniform_precision)\n",
        "print(\"Recall:\", uniform_recall)\n",
        "print(\"F1 Score:\", uniform_f1)\n",
        "\n",
        "print(\"\\nPerformance for Random Sampling:\")\n",
        "print(\"Accuracy:\", random_accuracy)\n",
        "print(\"Precision:\", random_precision)\n",
        "print(\"Recall:\", random_recall)\n",
        "print(\"F1 Score:\", random_f1)\n"
      ],
      "metadata": {
        "id": "2jKYfEbZ9tjI"
      },
      "execution_count": null,
      "outputs": []
    },
    {
      "cell_type": "markdown",
      "source": [
        "#4. **Apply any image enhancement of your choice** and explore how it effects the performance of the trained classifier. Note that the reference mean, and standard deviation value of a normal video frame is \"mean\" [0.485,0.456,0.406],\"standard deviation\" [0.229,0.224,0.225]."
      ],
      "metadata": {
        "id": "BRx-6qmG-BLD"
      }
    },
    {
      "cell_type": "code",
      "source": [
        "import cv2\n",
        "import numpy as np\n",
        "from sklearn.metrics import accuracy_score, precision_score, recall_score, f1_score\n",
        "\n",
        "# Function to enhance and normalize a frame\n",
        "def enhance_and_normalize_frame(frame, ref_mean, ref_std):\n",
        "    # Enhance the frame (e.g., histogram equalization)\n",
        "    enhanced_frame = cv2.equalizeHist(cv2.cvtColor(frame, cv2.COLOR_BGR2GRAY))\n",
        "    enhanced_frame = cv2.cvtColor(enhanced_frame, cv2.COLOR_GRAY2BGR)\n",
        "\n",
        "    # Normalize the frame to have the reference mean and standard deviation\n",
        "    actual_mean = np.mean(enhanced_frame, axis=(0, 1))\n",
        "    actual_std = np.std(enhanced_frame, axis=(0, 1))\n",
        "    normalized_frame = (enhanced_frame - actual_mean) / actual_std * ref_std + ref_mean\n",
        "\n",
        "    return normalized_frame\n",
        "\n",
        "# Function to preprocess frames and extract features using a pre-trained model\n",
        "def preprocess_and_extract_features(frames, model, ref_mean, ref_std):\n",
        "    processed_frames = [enhance_and_normalize_frame(frame, ref_mean, ref_std) for frame in frames]\n",
        "    processed_frames = [preprocess_input(frame) for frame in processed_frames]\n",
        "    features = model.predict(np.array(processed_frames))\n",
        "    return features\n",
        "\n",
        "# Assuming you have validation_videos, validation_labels, a pre-trained model (model),\n",
        "# and a trained classifier (svm_classifier)\n",
        "\n",
        "# Without Image Enhancement\n",
        "features_without_enhancement = preprocess_and_extract_features(validation_videos, model, ref_mean=[0.485, 0.456, 0.406], ref_std=[0.229, 0.224, 0.225])\n",
        "predictions_without_enhancement = svm_classifier.predict(features_without_enhancement)\n",
        "\n",
        "# With Image Enhancement\n",
        "features_with_enhancement = preprocess_and_extract_features(validation_videos, model, ref_mean=[0.485, 0.456, 0.406], ref_std=[0.229, 0.224, 0.225])\n",
        "predictions_with_enhancement = svm_classifier.predict(features_with_enhancement)\n",
        "\n",
        "# Evaluate the performance without and with image enhancement\n",
        "accuracy_without_enhancement = accuracy_score(validation_labels, predictions_without_enhancement)\n",
        "f1_score_without_enhancement = f1_score(validation_labels, predictions_without_enhancement)\n",
        "\n",
        "accuracy_with_enhancement = accuracy_score(validation_labels, predictions_with_enhancement)\n",
        "f1_score_with_enhancement = f1_score(validation_labels, predictions_with_enhancement)\n",
        "\n",
        "# Print the results\n",
        "print(\"Performance without Image Enhancement:\")\n",
        "print(\"Accuracy:\", accuracy_without_enhancement)\n",
        "print(\"F1 Score:\", f1_score_without_enhancement)\n",
        "\n",
        "print(\"\\nPerformance with Image Enhancement:\")\n",
        "print(\"Accuracy:\", accuracy_with_enhancement)\n",
        "print(\"F1 Score:\", f1_score_with_enhancement)\n"
      ],
      "metadata": {
        "id": "wI3trLEE-K_1"
      },
      "execution_count": null,
      "outputs": []
    },
    {
      "cell_type": "markdown",
      "source": [
        "### Discuss how the chosen image enhancement effects the performance of the trained classifier in detail"
      ],
      "metadata": {
        "id": "4nAuHWBK-Yub"
      }
    },
    {
      "cell_type": "markdown",
      "source": [
        "### Provide sampled output frames resulting from the image enhancement. (6 points)"
      ],
      "metadata": {
        "id": "D60ckbCL-avy"
      }
    },
    {
      "cell_type": "markdown",
      "source": [
        "# 5. – Improving the HAR Model to Enable End-to-end Training. The aforementioned method is intuitive but is not end-to-end, which limits its applicability in real-world scenarios. Currently, most HAR models are designed end-to-end, without the need to explicitly store the video features. In this step you are to design or implement an HAR model that is end-to-end and evaluate your HAR model. Describe your HAR model in detail, including the structure along with the training and evaluation procedures. Compare your HAR model performance against the prior trained classifiers and discuss the pros and cons of your HAR model. (Additional 10 points)"
      ],
      "metadata": {
        "id": "NM0-Q29E_Ol2"
      }
    },
    {
      "cell_type": "code",
      "source": [
        "import numpy as np\n",
        "import tensorflow as tf\n",
        "from tensorflow.keras.layers import Conv2D, LSTM, Dense, Flatten, Input\n",
        "from tensorflow.keras.models import Model\n",
        "from sklearn.metrics import accuracy_score, precision_score, recall_score, f1_score\n",
        "\n",
        "# Assuming you have your training data in train_videos and train_labels\n",
        "# Assuming you have your validation data in validation_videos and validation_labels\n",
        "\n",
        "# Define the input shape\n",
        "input_shape = (sequence_length, frame_height, frame_width, num_channels)\n",
        "\n",
        "# Build the end-to-end HAR model\n",
        "input_layer = Input(shape=input_shape)\n",
        "conv_layer = Conv2D(32, (3, 3), activation='relu')(input_layer)\n",
        "lstm_layer = LSTM(64, return_sequences=True)(conv_layer)\n",
        "flatten_layer = Flatten()(lstm_layer)\n",
        "output_layer = Dense(num_classes, activation='softmax')(flatten_layer)\n",
        "\n",
        "model = Model(inputs=input_layer, outputs=output_layer)\n",
        "\n",
        "# Compile the model\n",
        "model.compile(loss='categorical_crossentropy', optimizer='adam', metrics=['accuracy'])\n",
        "\n",
        "# Train the model\n",
        "model.fit(train_videos, train_labels, epochs=epochs, batch_size=batch_size, validation_data=(validation_videos, validation_labels))\n",
        "\n",
        "# Evaluate the model on the validation set\n",
        "validation_predictions = model.predict(validation_videos)\n",
        "validation_predictions = np.argmax(validation_predictions, axis=1)  # Assuming one-hot encoding of labels\n",
        "validation_labels = np.argmax(validation_labels, axis=1)  # Assuming one-hot encoding of labels\n",
        "\n",
        "accuracy = accuracy_score(validation_labels, validation_predictions)\n",
        "precision = precision_score(validation_labels, validation_predictions, average='weighted')\n",
        "recall = recall_score(validation_labels, validation_predictions, average='weighted')\n",
        "f1 = f1_score(validation_labels, validation_predictions, average='weighted')\n",
        "\n",
        "print(\"Accuracy:\", accuracy)\n",
        "print(\"Precision:\", precision)\n",
        "print(\"Recall:\", recall)\n",
        "print(\"F1 Score:\", f1)\n"
      ],
      "metadata": {
        "id": "4Cn7kKuH-f2E"
      },
      "execution_count": null,
      "outputs": []
    },
    {
      "cell_type": "code",
      "source": [
        "with open('/content/drive/MyDrive/machine vision assignment 2/EE6222 train and validate 2023/validate.txt', 'r') as f:\n",
        "  lines = f.readlines()\n",
        "  mapping = {line.split()[2]:int(line.split()[1]) for line in lines}\n",
        ""
      ],
      "metadata": {
        "colab": {
          "base_uri": "https://localhost:8080/"
        },
        "id": "MuCiCk387VRN",
        "outputId": "aa80a3f4-c87d-46d2-b2a3-6926c7b91b20"
      },
      "execution_count": 23,
      "outputs": [
        {
          "output_type": "stream",
          "name": "stdout",
          "text": [
            "96\n"
          ]
        }
      ]
    }
  ]
}