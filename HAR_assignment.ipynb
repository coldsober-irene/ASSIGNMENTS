{
  "cells": [
    {
      "cell_type": "markdown",
      "metadata": {
        "id": "view-in-github",
        "colab_type": "text"
      },
      "source": [
        "<a href=\"https://colab.research.google.com/github/coldsober-irene/ASSIGNMENTS/blob/main/HAR_assignment.ipynb\" target=\"_parent\"><img src=\"https://colab.research.google.com/assets/colab-badge.svg\" alt=\"Open In Colab\"/></a>"
      ]
    },
    {
      "cell_type": "markdown",
      "metadata": {
        "id": "XFGs2OuxCbtk"
      },
      "source": [
        "##metadata"
      ]
    },
    {
      "cell_type": "code",
      "execution_count": null,
      "metadata": {
        "id": "ScftYlmzCxnD"
      },
      "outputs": [],
      "source": [
        "from google.colab import drive\n",
        "drive.mount('/content/drive')"
      ]
    },
    {
      "cell_type": "markdown",
      "metadata": {
        "id": "w6xOtQ63pph2"
      },
      "source": [
        "##packages"
      ]
    },
    {
      "cell_type": "code",
      "execution_count": null,
      "metadata": {
        "id": "kuVnAbZuprff"
      },
      "outputs": [],
      "source": [
        "import os\n",
        "import cv2\n",
        "import random\n",
        "import numpy as np\n",
        "import tensorflow as tf\n",
        "from tensorflow import keras\n",
        "from tensorflow.keras import layers, models\n",
        "from sklearn.svm import SVC\n",
        "from matplotlib import pyplot as plt\n",
        "from tensorflow.keras.applications import ResNet50\n",
        "from sklearn.model_selection import train_test_split\n",
        "from sklearn.metrics import accuracy_score, classification_report\n",
        "from tensorflow.keras.applications.resnet50 import preprocess_input\n",
        "from tensorflow.keras.callbacks import EarlyStopping\n"
      ]
    },
    {
      "cell_type": "markdown",
      "metadata": {
        "id": "1O2H0bPEilw9"
      },
      "source": [
        "# 1. **Frames sampling**\n"
      ]
    },
    {
      "cell_type": "code",
      "source": [
        "samples = 20\n",
        "rate = 7"
      ],
      "metadata": {
        "id": "HLpKYITKsFuf"
      },
      "execution_count": null,
      "outputs": []
    },
    {
      "cell_type": "code",
      "execution_count": null,
      "metadata": {
        "id": "YtnZh48mby_P"
      },
      "outputs": [],
      "source": [
        "class Sampling:\n",
        "  count = 0\n",
        "  def __init__(self, base_dir, sampling_type = 'uniform', ref_mean=[0.07, 0.07, 0.07], ref_std=[0.1, 0.09, 0.08], enhance_img = False):\n",
        "    self.data_path = base_dir\n",
        "    self.sampling_type = sampling_type\n",
        "    self.mean = ref_mean\n",
        "    self.std = ref_std\n",
        "    self.enhance_img = enhance_img\n",
        "\n",
        "    # READ MAPPING FILE TO KNOW THE LABEL FOR EACH CLASS\n",
        "    map_file = '/content/drive/MyDrive/machine vision assignment 2/EE6222 train and validate 2023/mapping_table_23.txt'\n",
        "    self.maps = {}\n",
        "    with open(map_file, 'r') as f:\n",
        "        lines = f.readlines()\n",
        "        for line in lines:\n",
        "            parts = line.split()\n",
        "            self.maps[parts[1]] = int(parts[0])\n",
        "\n",
        "    # CREATE EXTRACTOR OBJECT\n",
        "    self.Extractor = self.Feature_extract(sampled_type = self.sampling_type)\n",
        "\n",
        "    # subfolders\n",
        "    self.activities = os.listdir(self.data_path)\n",
        "\n",
        "    # EXTRACTED FEATURES FROM ALL THE VIDEOS\n",
        "    self.obtained_features = []\n",
        "    # LABELS OF THE EXTRACTED FEATURES\n",
        "    self.labels = []\n",
        "    Sampling.count += 1\n",
        "\n",
        "  def saveFeatures(self):\n",
        "    # CREATE VSTACK ARRAY OF ALL FEATURES EXTRACTED\n",
        "    all_features = np.vstack(self.obtained_features)\n",
        "    labels = np.array(self.labels)\n",
        "\n",
        "    # SAVED THE EXTRACTED FEATURES and their corresponding labels FOR FUTURE USE\n",
        "    features_dir = os.path.join(self.data_path, 'features')\n",
        "    os.makedirs(features_dir, exist_ok = True)\n",
        "\n",
        "    np.save(os.path.join(features_dir,f'features{Sampling.count}.npy'), all_features)\n",
        "    np.save(os.path.join(features_dir,f'labels{Sampling.count}.npy'), labels)\n",
        "\n",
        "    print(\"FEATURE EXTRACTION AND SAVING IS DONE!!!\")\n",
        "\n",
        "  def enhance_image(self, input_frame, gamma=0.35, kernel_size=3):\n",
        "    # Apply gamma correction\n",
        "    gamma_corrected = np.power(input_frame / 255.0, gamma) * 255.0\n",
        "    gamma_corrected = gamma_corrected.astype(np.uint8)\n",
        "\n",
        "    # Return the gamma_corrected image\n",
        "    return gamma_corrected\n",
        "\n",
        "  def Sampler(self, sample_rate = 5, num_samples = 10):\n",
        "    # Loop through each activity\n",
        "    for activity in self.activities:\n",
        "        activity_folder = os.path.join(self.data_path, activity)\n",
        "\n",
        "        # Loop through video files in the activity folder\n",
        "        for video_file in os.listdir(activity_folder):\n",
        "            if '.mp4' in video_file:\n",
        "              frames_sampled = []\n",
        "              video_path = os.path.join(activity_folder, video_file)\n",
        "              cap = cv2.VideoCapture(video_path)\n",
        "\n",
        "              frame_count = int(cap.get(cv2.CAP_PROP_FRAME_COUNT))\n",
        "\n",
        "              if self.sampling_type == 'uniform':\n",
        "                sample = self.UniformSampling(cap = cap, frameCount=frame_count, sample_rate = sample_rate)\n",
        "                frames_sampled.append(sample)\n",
        "\n",
        "              elif self.sampling_type == 'random':\n",
        "                sample = self.RandomSampling(cap = cap, frameCount=frame_count, num_samples=num_samples)\n",
        "                frames_sampled.append(sample)\n",
        "\n",
        "              # EXTRACT FEATURE FROM THE FRAMES OF EACH VIDEO\n",
        "              features_obtained = self.Extractor.features(frames = frames_sampled, ref_mean = self.mean, ref_std = self.std)\n",
        "              self.obtained_features.append(features_obtained)\n",
        "\n",
        "              # POPULATE THE LABEL CORRESPONDING TO THE CURRENT VIDEO\n",
        "              self.labels.append(self.maps[activity])\n",
        "\n",
        "  def UniformSampling(self, cap, sample_rate, frameCount):\n",
        "    for i in range(0, frameCount, sample_rate):\n",
        "      cap.set(cv2.CAP_PROP_POS_FRAMES, i)\n",
        "      ret, frame = cap.read()\n",
        "      if ret:\n",
        "        if self.enhance_img:\n",
        "          return self.enhance_image(input_frame = frame)\n",
        "        return frame\n",
        "\n",
        "  def RandomSampling(self, cap,num_samples, frameCount):\n",
        "    sampled_indices = random.sample(range(frameCount), num_samples)\n",
        "\n",
        "    for i in sampled_indices:\n",
        "        cap.set(cv2.CAP_PROP_POS_FRAMES, i)\n",
        "        ret, frame = cap.read()\n",
        "        if ret:\n",
        "          if self.enhance_img:\n",
        "            return self.enhance_image(input_frame = frame)\n",
        "          return frame\n",
        "\n",
        "  class Feature_extract:\n",
        "    def __init__(self, sampled_type = 'uniform'):\n",
        "      # Load pre-trained ResNet50\n",
        "      self.model = ResNet50(weights='imagenet', include_top=False)\n",
        "      self.sampled_type = sampled_type\n",
        "\n",
        "    # Function to normalize a frame\n",
        "    def normalize_frame(self, frame, ref_mean, ref_std):\n",
        "        actual_mean = np.mean(frame, axis=(0, 1), keepdims=True)\n",
        "        actual_std = np.std(frame, axis=(0, 1))\n",
        "        normalized_frame = (frame - actual_mean) / actual_std * ref_std + ref_mean\n",
        "        return normalized_frame\n",
        "\n",
        "    # Function to preprocess frames and extract features using ResNet\n",
        "    def features(self,frames, ref_mean, ref_std):\n",
        "        processed_frames = [self.normalize_frame(frame, ref_mean, ref_std) for frame in frames]\n",
        "        processed_frames = [preprocess_input(frame) for frame in processed_frames]\n",
        "        features = self.model.predict(np.array(processed_frames))\n",
        "        return features\n"
      ]
    },
    {
      "cell_type": "markdown",
      "source": [
        "RUN EXTRACTION OF THE TRAIN DATASETS"
      ],
      "metadata": {
        "id": "oradMywtTP-z"
      }
    },
    {
      "cell_type": "markdown",
      "source": [
        "uniform sampling"
      ],
      "metadata": {
        "id": "ZGUp-vXDneT5"
      }
    },
    {
      "cell_type": "code",
      "execution_count": null,
      "metadata": {
        "id": "lA9YGGIoifBY"
      },
      "outputs": [],
      "source": [
        "%%capture\n",
        "data_root = '/content/drive/MyDrive/machine vision assignment 2/EE6222 train and validate 2023/train'\n",
        "sample = Sampling(base_dir = data_root)\n",
        "sample.Sampler(sample_rate = rate)\n",
        "sample.saveFeatures()\n"
      ]
    },
    {
      "cell_type": "markdown",
      "source": [
        "random sampling"
      ],
      "metadata": {
        "id": "U8_SZNAeniHK"
      }
    },
    {
      "cell_type": "code",
      "source": [
        "%%capture\n",
        "sample2 = Sampling(base_dir = data_root, sampling_type = 'random')\n",
        "sample2.Sampler(num_samples=samples)\n",
        "sample2.saveFeatures()"
      ],
      "metadata": {
        "id": "4aEH6mIpnkQD"
      },
      "execution_count": null,
      "outputs": []
    },
    {
      "cell_type": "markdown",
      "metadata": {
        "id": "ae0E0pcRlKK9"
      },
      "source": [
        "#2. **validation data feature extraction**"
      ]
    },
    {
      "cell_type": "code",
      "source": [
        "class ValSampling:\n",
        "  count = 0\n",
        "  def __init__(self, base_dir, sampling_type = 'uniform', ref_mean=[0.07, 0.07, 0.07], ref_std=[0.1, 0.09, 0.08], enhance_img = False):\n",
        "    self.data_path = base_dir\n",
        "    self.sampling_type = sampling_type\n",
        "    self.mean = ref_mean\n",
        "    self.std = ref_std\n",
        "    self.enhance_img = enhance_img\n",
        "\n",
        "    # READ MAPPING FILE TO KNOW THE LABEL FOR EACH CLASS\n",
        "    map_file = '/content/drive/MyDrive/machine vision assignment 2/EE6222 train and validate 2023/validate.txt'\n",
        "    self.maps = {}\n",
        "    with open(map_file, 'r') as f:\n",
        "        lines = f.readlines()\n",
        "        for line in lines:\n",
        "            parts = line.split()\n",
        "            self.maps[parts[-1]] = int(parts[1])\n",
        "\n",
        "    # CREATE EXTRACTOR OBJECT\n",
        "    self.Extractor = self.Feature_extract(sampled_type = self.sampling_type)\n",
        "\n",
        "\n",
        "    # EXTRACTED FEATURES FROM ALL THE VIDEOS\n",
        "    self.obtained_features = []\n",
        "    # LABELS OF THE EXTRACTED FEATURES\n",
        "    self.labels = []\n",
        "    ValSampling.count += 1\n",
        "\n",
        "  def saveFeatures(self):\n",
        "    # CREATE VSTACK ARRAY OF ALL FEATURES EXTRACTED\n",
        "    all_features = np.vstack(self.obtained_features)\n",
        "    labels = np.array(self.labels)\n",
        "\n",
        "    # SAVED THE EXTRACTED FEATURES and their corresponding labels FOR FUTURE USE\n",
        "    features_dir = os.path.join(self.data_path, 'features')\n",
        "    os.makedirs(features_dir, exist_ok = True)\n",
        "\n",
        "    np.save(os.path.join(features_dir,f'features{ValSampling.count}.npy'), all_features)\n",
        "    np.save(os.path.join(features_dir,f'labels{ValSampling.count}.npy'), labels)\n",
        "\n",
        "    print(\"VALIDATION FEATURE EXTRACTION AND SAVING IS DONE!!!\")\n",
        "\n",
        "  def enhance_image(self, input_frame, gamma=0.35, kernel_size=3):\n",
        "    # Apply gamma correction\n",
        "    gamma_corrected = np.power(input_frame / 255.0, gamma) * 255.0\n",
        "    gamma_corrected = gamma_corrected.astype(np.uint8)\n",
        "\n",
        "    # Return the gamma_corrected image\n",
        "    return gamma_corrected\n",
        "\n",
        "  def Sampler(self, sample_rate = 5, num_samples = 10):\n",
        "    # Loop through video files in the activity folder\n",
        "    for video_file in os.listdir(self.data_path):\n",
        "        if '.mp4' in video_file:\n",
        "          frames_sampled = []\n",
        "          video_path = os.path.join(self.data_path, video_file)\n",
        "          cap = cv2.VideoCapture(video_path)\n",
        "\n",
        "          frame_count = int(cap.get(cv2.CAP_PROP_FRAME_COUNT))\n",
        "\n",
        "          if self.sampling_type == 'uniform':\n",
        "            sample = self.UniformSampling(cap = cap, frameCount=frame_count, sample_rate = sample_rate)\n",
        "            frames_sampled.append(sample)\n",
        "\n",
        "          elif self.sampling_type == 'random':\n",
        "            sample = self.RandomSampling(cap = cap, frameCount=frame_count, num_samples=num_samples)\n",
        "            frames_sampled.append(sample)\n",
        "\n",
        "          # EXTRACT FEATURE FROM THE FRAMES OF EACH VIDEO\n",
        "          features_obtained = self.Extractor.features(frames = frames_sampled, ref_mean = self.mean, ref_std = self.std)\n",
        "          self.obtained_features.append(features_obtained)\n",
        "\n",
        "          # POPULATE THE LABEL CORRESPONDING TO THE CURRENT VIDEO\n",
        "          self.labels.append(self.maps[video_file])\n",
        "\n",
        "  def UniformSampling(self, cap, sample_rate, frameCount):\n",
        "    for i in range(0, frameCount, sample_rate):\n",
        "      cap.set(cv2.CAP_PROP_POS_FRAMES, i)\n",
        "      ret, frame = cap.read()\n",
        "      if ret:\n",
        "        if self.enhance_img:\n",
        "          return self.enhance_image(input_frame = frame)\n",
        "        return frame\n",
        "\n",
        "  def RandomSampling(self, cap,num_samples, frameCount):\n",
        "    sampled_indices = random.sample(range(frameCount), num_samples)\n",
        "\n",
        "    for i in sampled_indices:\n",
        "        cap.set(cv2.CAP_PROP_POS_FRAMES, i)\n",
        "        ret, frame = cap.read()\n",
        "        if ret:\n",
        "          if self.enhance_img:\n",
        "            return self.enhance_image(input_frame = frame)\n",
        "          return frame\n",
        "\n",
        "  class Feature_extract:\n",
        "    def __init__(self, sampled_type = 'uniform'):\n",
        "      # Load pre-trained ResNet50\n",
        "      self.model = ResNet50(weights='imagenet', include_top=False)\n",
        "      self.sampled_type = sampled_type\n",
        "\n",
        "    # Function to normalize a frame\n",
        "    def normalize_frame(self, frame, ref_mean, ref_std):\n",
        "        actual_mean = np.mean(frame, axis=(0, 1), keepdims=True)\n",
        "        actual_std = np.std(frame, axis=(0, 1))\n",
        "        normalized_frame = (frame - actual_mean) / actual_std * ref_std + ref_mean\n",
        "        return normalized_frame\n",
        "\n",
        "    # Function to preprocess frames and extract features using ResNet\n",
        "    def features(self,frames, ref_mean, ref_std):\n",
        "        processed_frames = [self.normalize_frame(frame, ref_mean, ref_std) for frame in frames]\n",
        "        processed_frames = [preprocess_input(frame) for frame in processed_frames]\n",
        "        features = self.model.predict(np.array(processed_frames))\n",
        "        return features\n"
      ],
      "metadata": {
        "id": "WQXBHWMVPM1o"
      },
      "execution_count": null,
      "outputs": []
    },
    {
      "cell_type": "code",
      "source": [
        "def plotting(model):\n",
        "  # Access training history\n",
        "  training_accuracy = model.history['accuracy']\n",
        "  validation_accuracy = model.history['val_accuracy']\n",
        "  training_loss = model.history['loss']\n",
        "  validation_loss = model.history['val_loss']\n",
        "  # Plot the training and validation accuracy\n",
        "  plt.figure(figsize=(10, 6))\n",
        "  plt.plot(training_accuracy, label='Training Accuracy')\n",
        "  plt.plot(validation_accuracy, label='Validation Accuracy')\n",
        "  plt.plot(training_loss, label='Training loss')\n",
        "  plt.plot(validation_loss, label='Validation loss')\n",
        "  plt.xlabel('Epochs')\n",
        "  plt.ylabel('Accuracy')\n",
        "  plt.title('Training and Validation')\n",
        "  plt.legend()\n",
        "  plt.grid(True)\n",
        "  plt.show()"
      ],
      "metadata": {
        "id": "-IVtwsb_rXoj"
      },
      "execution_count": null,
      "outputs": []
    },
    {
      "cell_type": "markdown",
      "source": [
        "RUN EXTRACTION OF THE VALIDATION DATASETS"
      ],
      "metadata": {
        "id": "rKm-nK2YTbEx"
      }
    },
    {
      "cell_type": "markdown",
      "source": [
        "uniform sampling"
      ],
      "metadata": {
        "id": "siTOtg_AnGxW"
      }
    },
    {
      "cell_type": "code",
      "source": [
        "%%capture\n",
        "val_root = '/content/drive/MyDrive/machine vision assignment 2/EE6222 train and validate 2023/validate'\n",
        "sample_val = ValSampling(base_dir = val_root)\n",
        "sample_val.Sampler(sample_rate = rate)\n",
        "sample_val.saveFeatures()"
      ],
      "metadata": {
        "id": "ExyLbFRVD_-K"
      },
      "execution_count": null,
      "outputs": []
    },
    {
      "cell_type": "markdown",
      "source": [
        "random sampling"
      ],
      "metadata": {
        "id": "7ebv2fDhnJmH"
      }
    },
    {
      "cell_type": "code",
      "source": [
        "%%capture\n",
        "sample_val2 = ValSampling(base_dir = val_root, sampling_type = 'random')\n",
        "sample_val2.Sampler(num_samples=samples)\n",
        "sample_val2.saveFeatures()"
      ],
      "metadata": {
        "id": "mhMRmAtCnL4i"
      },
      "execution_count": null,
      "outputs": []
    },
    {
      "cell_type": "markdown",
      "metadata": {
        "id": "uH_6i4iD8Jo4"
      },
      "source": [
        "### obtain the features of each frame using a pre-trained model and create feature vector"
      ]
    },
    {
      "cell_type": "markdown",
      "metadata": {
        "id": "KsrzZaJ4WrKZ"
      },
      "source": [
        "## fuse features extracted using average pooling"
      ]
    },
    {
      "cell_type": "markdown",
      "metadata": {
        "id": "bxDZcyULVVun"
      },
      "source": [
        "## Question: ***Describe in brief the pre-trained model leveraged and why the pre-trained model is selected. What is the dimension of the feature obtained. Remember to save the video features in order for subsequent training. (3 points)***"
      ]
    },
    {
      "cell_type": "markdown",
      "metadata": {
        "id": "xgDGUCt2XiXD"
      },
      "source": [
        "# 3. **Classifier Training and Evaluation**"
      ]
    },
    {
      "cell_type": "markdown",
      "metadata": {
        "id": "clRJUkrjdEKO"
      },
      "source": [
        "**possible classifier I can choose from since my datasets are small (just 25 videos)**\n",
        "\n",
        "1.   Support Vector Machines (SVM)\n",
        "2.   Naive Bayes\n",
        "3. Random Forest\n",
        "\n",
        "\n",
        "\n"
      ]
    },
    {
      "cell_type": "code",
      "execution_count": null,
      "metadata": {
        "id": "ctsv1c1CJPgx"
      },
      "outputs": [],
      "source": [
        "val_base = '/content/drive/MyDrive/machine vision assignment 2/EE6222 train and validate 2023/validate'\n",
        "feature_dir = '/content/drive/MyDrive/machine vision assignment 2/EE6222 train and validate 2023/train/features/features1.npy'\n",
        "labels_dir = '/content/drive/MyDrive/machine vision assignment 2/EE6222 train and validate 2023/train/features/labels1.npy'\n",
        "\n",
        "features = np.load(feature_dir, allow_pickle = True)\n",
        "labels = np.load(labels_dir, allow_pickle = True)\n"
      ]
    },
    {
      "cell_type": "code",
      "source": [
        "test_size = 0.2\n",
        "shuffle = True\n",
        "num_classes = 6\n",
        "epoch = 300\n",
        "early_stopping = EarlyStopping(monitor='val_loss', patience=10)"
      ],
      "metadata": {
        "id": "lVoW4Wrmtvqb"
      },
      "execution_count": null,
      "outputs": []
    },
    {
      "cell_type": "code",
      "source": [
        "# np.vstack([X_train, X_val])\n",
        "# print(y_train)\n",
        "# print(y_val)\n",
        "# labels = np.hstack([y_train, y_val])\n",
        "# print(labels.shape)\n",
        "X_train, X_val, y_train, y_val = train_test_split(features, labels, test_size=test_size, shuffle = shuffle, random_state=42)\n",
        "# DIR FOR MODEL\n",
        "BASE_DIR ='/content/drive/MyDrive/machine vision assignment 2/EE6222 train and validate 2023/models'\n",
        "os.makedirs(BASE_DIR, exist_ok = True)"
      ],
      "metadata": {
        "id": "kwOksaJDkLNo"
      },
      "execution_count": null,
      "outputs": []
    },
    {
      "cell_type": "markdown",
      "source": [
        "##model training under **uniform** sampled data"
      ],
      "metadata": {
        "id": "y7Hy3QXVp-Ji"
      }
    },
    {
      "cell_type": "code",
      "source": [
        "\n",
        "# Define the model with 3D convolutional layers\n",
        "model = keras.Sequential([\n",
        "    layers.Input(shape=X_train.shape[1:]),  # Input shape matches your feature shape\n",
        "    layers.Conv2D(32, kernel_size=(3, 3), activation='relu'),\n",
        "    layers.MaxPooling2D(pool_size=(2, 2)),\n",
        "    layers.Flatten(),\n",
        "    layers.Dense(128, activation='relu'),\n",
        "    layers.Dense(num_classes, activation='softmax')  # Output layer with the number of classes\n",
        "])\n",
        "\n",
        "model.compile(optimizer='adam', loss='sparse_categorical_crossentropy', metrics=['accuracy'])\n",
        "modelHistory = model.fit(X_train, y_train, epochs=epoch, validation_data=(X_val, y_val)) # , callbacks=[early_stopping]\n",
        "plotting(modelHistory)\n",
        "model.save(os.path.join(BASE_DIR,'uniform_model.h5'))\n"
      ],
      "metadata": {
        "id": "RTl85koSu5ug"
      },
      "execution_count": null,
      "outputs": []
    },
    {
      "cell_type": "code",
      "source": [
        "print(modelHistory.history.keys())"
      ],
      "metadata": {
        "id": "fmSKw4tg0RGp"
      },
      "execution_count": null,
      "outputs": []
    },
    {
      "cell_type": "markdown",
      "source": [
        "###model training under random sampled frames"
      ],
      "metadata": {
        "id": "gT7DluyIqR9D"
      }
    },
    {
      "cell_type": "code",
      "source": [
        "val_base = '/content/drive/MyDrive/machine vision assignment 2/EE6222 train and validate 2023/validate'\n",
        "feature_dir2 = '/content/drive/MyDrive/machine vision assignment 2/EE6222 train and validate 2023/train/features/features2.npy'\n",
        "labels_dir2 = '/content/drive/MyDrive/machine vision assignment 2/EE6222 train and validate 2023/train/features/labels2.npy'\n",
        "val_features2 = '/content/drive/MyDrive/machine vision assignment 2/EE6222 train and validate 2023/validate/features/features2.npy'\n",
        "val_labels2 = '/content/drive/MyDrive/machine vision assignment 2/EE6222 train and validate 2023/validate/features/labels2.npy'\n",
        "features2 = np.load(feature_dir2, allow_pickle = True)\n",
        "labels2 = np.load(labels_dir2, allow_pickle = True)\n",
        "# X_val2 = np.load(val_features2, allow_pickle = True)\n",
        "# y_val2 = np.load(val_labels2, allow_pickle = True)"
      ],
      "metadata": {
        "id": "C32nkGu2qXLq"
      },
      "execution_count": null,
      "outputs": []
    },
    {
      "cell_type": "code",
      "source": [
        "\n",
        "# features2 = np.vstack([X_train2, X_val2])\n",
        "# # print(y_train)\n",
        "# # print(y_val)\n",
        "# labels2 = np.hstack([y_train2, y_val2])\n",
        "# print(labels.shape)\n",
        "X_train2, X_val2, y_train2, y_val2 = train_test_split(features2, labels2, test_size=test_size, shuffle = shuffle, random_state=42)"
      ],
      "metadata": {
        "id": "xJDw5JsclemS"
      },
      "execution_count": null,
      "outputs": []
    },
    {
      "cell_type": "code",
      "source": [
        "# Define the model with 3D convolutional layers\n",
        "\n",
        "model = keras.Sequential([\n",
        "    layers.Input(shape=X_train2.shape[1:]),  # Input shape matches your feature shape\n",
        "    layers.Conv2D(32, kernel_size=(3, 3), activation='relu'),\n",
        "    layers.MaxPooling2D(pool_size=(2, 2)),\n",
        "    layers.Flatten(),\n",
        "    layers.Dense(128, activation='relu'),\n",
        "    layers.Dense(num_classes, activation='softmax')  # Output layer with the number of classes\n",
        "])\n",
        "\n",
        "model.compile(optimizer='adam', loss='sparse_categorical_crossentropy', metrics=['accuracy'])\n",
        "modelHistory = model.fit(X_train2, y_train2, epochs=epoch, validation_data=(X_val2, y_val2)) # , callbacks=[early_stopping]\n",
        "plotting(modelHistory)\n",
        "model.save(os.path.join(BASE_DIR,'random_model.h5'))"
      ],
      "metadata": {
        "id": "sROBdJP9qi5Y"
      },
      "execution_count": null,
      "outputs": []
    },
    {
      "cell_type": "markdown",
      "source": [
        "###avoiding overfitting"
      ],
      "metadata": {
        "id": "ZYgMUEGFBE0n"
      }
    },
    {
      "cell_type": "code",
      "source": [
        "# Add dropout layers to the model\n",
        "model = keras.Sequential([\n",
        "    layers.Input(shape=X_train2.shape[1:]),\n",
        "    layers.Conv2D(32, kernel_size=(3, 3), activation='relu'),\n",
        "    layers.MaxPooling2D(pool_size=(2, 2)),\n",
        "    layers.Flatten(),\n",
        "    layers.Dropout(0.5),  # Experiment with dropout rate\n",
        "    layers.Dense(128, activation='relu'),\n",
        "    layers.Dropout(0.5),  # Experiment with dropout rate\n",
        "    layers.Dense(num_classes, activation='softmax')\n",
        "])\n",
        "model.compile(optimizer='adam', loss='sparse_categorical_crossentropy', metrics=['accuracy'])\n",
        "modelHistory = model.fit(X_train2, y_train2, epochs=epoch, validation_data=(X_val2, y_val2)) # , callbacks=[early_stopping]\n",
        "plotting(modelHistory)"
      ],
      "metadata": {
        "id": "YQz6kJpwBIYJ"
      },
      "execution_count": null,
      "outputs": []
    },
    {
      "cell_type": "markdown",
      "metadata": {
        "id": "Zq55TUad9LJR"
      },
      "source": [
        "### Discuss the pros and cons of the type of classifier selected"
      ]
    },
    {
      "cell_type": "markdown",
      "metadata": {
        "id": "x6B1EtDk9SvG"
      },
      "source": [
        "## evaluate the trained classifier"
      ]
    },
    {
      "cell_type": "code",
      "execution_count": null,
      "metadata": {
        "id": "CC3DscKI9fvn"
      },
      "outputs": [],
      "source": [
        "# from sklearn.metrics import accuracy_score, precision_score, recall_score, f1_score, confusion_matrix\n",
        "\n",
        "# # Assuming you have a trained classifier, such as svm_classifier, as described in Section 3\n",
        "# # X_val and y_val are the validation features and labels\n",
        "\n",
        "# # Make predictions on the validation set\n",
        "# y_pred = svm_classifier.predict(X_val)\n",
        "\n",
        "# # Calculate evaluation metrics\n",
        "# accuracy = accuracy_score(y_val, y_pred)\n",
        "# precision = precision_score(y_val, y_pred)\n",
        "# recall = recall_score(y_val, y_pred)\n",
        "# f1 = f1_score(y_val, y_pred)\n",
        "# confusion = confusion_matrix(y_val, y_pred)\n",
        "\n",
        "# # Print the results\n",
        "# print(\"Accuracy:\", accuracy)\n",
        "# print(\"Precision:\", precision)\n",
        "# print(\"Recall:\", recall)\n",
        "# print(\"F1 Score:\", f1)\n",
        "# print(\"Confusion Matrix:\")\n",
        "# print(confusion)\n"
      ]
    },
    {
      "cell_type": "markdown",
      "metadata": {
        "id": "S5gousOg9rRk"
      },
      "source": [
        "### You should repeat steps 1 and 2 for the validation videos to obtain their features and obtain their class predictions with the trained classifier. Compare the predictions with the ground truth label. What is the performance of the trained classifier? (3 points)"
      ]
    },
    {
      "cell_type": "code",
      "execution_count": 25,
      "metadata": {
        "id": "2jKYfEbZ9tjI",
        "colab": {
          "base_uri": "https://localhost:8080/"
        },
        "outputId": "a360ceb5-540e-4d18-a498-b4613f3bc85f"
      },
      "outputs": [
        {
          "output_type": "stream",
          "name": "stderr",
          "text": [
            "WARNING:tensorflow:5 out of the last 310 calls to <function Model.make_test_function.<locals>.test_function at 0x7aaf9f72eb00> triggered tf.function retracing. Tracing is expensive and the excessive number of tracings could be due to (1) creating @tf.function repeatedly in a loop, (2) passing tensors with different shapes, (3) passing Python objects instead of tensors. For (1), please define your @tf.function outside of the loop. For (2), @tf.function has reduce_retracing=True option that can avoid unnecessary retracing. For (3), please refer to https://www.tensorflow.org/guide/function#controlling_retracing and https://www.tensorflow.org/api_docs/python/tf/function for  more details.\n"
          ]
        },
        {
          "output_type": "stream",
          "name": "stdout",
          "text": [
            "3/3 [==============================] - 0s 51ms/step - loss: 1.7383 - accuracy: 0.5938\n",
            "Test Loss: 1.738334059715271\n",
            "Test Accuracy: 0.59375\n"
          ]
        }
      ],
      "source": [
        "val_features = '/content/drive/MyDrive/machine vision assignment 2/EE6222 train and validate 2023/validate/features/features3.npy'\n",
        "val_labels = '/content/drive/MyDrive/machine vision assignment 2/EE6222 train and validate 2023/validate/features/labels3.npy'\n",
        "X_val = np.load(val_features, allow_pickle = True)\n",
        "y_val = np.load(val_labels, allow_pickle = True)\n",
        "BASE_DIR = '/content/drive/MyDrive/machine vision assignment 2/EE6222 train and validate 2023/models'\n",
        "# Load your saved model\n",
        "enhancedImage_model = keras.models.load_model(os.path.join(BASE_DIR, 'enhanced_model.h5'))\n",
        "enhancedImage_model = keras.models.load_model(os.path.join(BASE_DIR, 'uniform_model.h5'))\n",
        "enhancedImage_model = keras.models.load_model(os.path.join(BASE_DIR, 'random_model.h5'))\n",
        "# Evaluate the model on the test data\n",
        "test_loss, test_accuracy = enhancedImage_model.evaluate(X_val, y_val)\n",
        "\n",
        "# Print the evaluation results\n",
        "print(f'Test Loss: {test_loss}')\n",
        "print(f'Test Accuracy: {test_accuracy}')\n",
        "\n",
        "# # Compare and print the results\n",
        "# print(\"Performance for Uniform Sampling:\")\n",
        "# print(\"Accuracy:\", uniform_accuracy)\n",
        "# print(\"Precision:\", uniform_precision)\n",
        "# print(\"Recall:\", uniform_recall)\n",
        "# print(\"F1 Score:\", uniform_f1)\n",
        "\n",
        "# print(\"\\nPerformance for Random Sampling:\")\n",
        "# print(\"Accuracy:\", random_accuracy)\n",
        "# print(\"Precision:\", random_precision)\n",
        "# print(\"Recall:\", random_recall)\n",
        "# print(\"F1 Score:\", random_f1)\n"
      ]
    },
    {
      "cell_type": "markdown",
      "metadata": {
        "id": "BRx-6qmG-BLD"
      },
      "source": [
        "#4. **Apply any image enhancement of your choice** and explore how it effects the performance of the trained classifier. Note that the reference mean, and standard deviation value of a normal video frame is \"mean\" [0.485,0.456,0.406],\"standard deviation\" [0.229,0.224,0.225]."
      ]
    },
    {
      "cell_type": "code",
      "execution_count": null,
      "metadata": {
        "id": "wI3trLEE-K_1"
      },
      "outputs": [],
      "source": [
        "# import cv2\n",
        "# import numpy as np\n",
        "# from sklearn.metrics import accuracy_score, precision_score, recall_score, f1_score\n",
        "\n",
        "# # Function to enhance and normalize a frame\n",
        "# def enhance_and_normalize_frame(frame, ref_mean, ref_std):\n",
        "#     # Enhance the frame (e.g., histogram equalization)\n",
        "#     enhanced_frame = cv2.equalizeHist(cv2.cvtColor(frame, cv2.COLOR_BGR2GRAY))\n",
        "#     enhanced_frame = cv2.cvtColor(enhanced_frame, cv2.COLOR_GRAY2BGR)\n",
        "\n",
        "#     # Normalize the frame to have the reference mean and standard deviation\n",
        "#     actual_mean = np.mean(enhanced_frame, axis=(0, 1))\n",
        "#     actual_std = np.std(enhanced_frame, axis=(0, 1))\n",
        "#     normalized_frame = (enhanced_frame - actual_mean) / actual_std * ref_std + ref_mean\n",
        "\n",
        "#     return normalized_frame\n",
        "\n",
        "# # Function to preprocess frames and extract features using a pre-trained model\n",
        "# def preprocess_and_extract_features(frames, model, ref_mean, ref_std):\n",
        "#     processed_frames = [enhance_and_normalize_frame(frame, ref_mean, ref_std) for frame in frames]\n",
        "#     processed_frames = [preprocess_input(frame) for frame in processed_frames]\n",
        "#     features = model.predict(np.array(processed_frames))\n",
        "#     return features\n",
        "\n",
        "# # Assuming you have validation_videos, validation_labels, a pre-trained model (model),\n",
        "# # and a trained classifier (svm_classifier)\n",
        "\n",
        "# # Without Image Enhancement\n",
        "# features_without_enhancement = preprocess_and_extract_features(validation_videos, model, ref_mean=[0.485, 0.456, 0.406], ref_std=[0.229, 0.224, 0.225])\n",
        "# predictions_without_enhancement = svm_classifier.predict(features_without_enhancement)\n",
        "\n",
        "# # With Image Enhancement\n",
        "# features_with_enhancement = preprocess_and_extract_features(validation_videos, model, ref_mean=[0.485, 0.456, 0.406], ref_std=[0.229, 0.224, 0.225])\n",
        "# predictions_with_enhancement = svm_classifier.predict(features_with_enhancement)\n",
        "\n",
        "# # Evaluate the performance without and with image enhancement\n",
        "# accuracy_without_enhancement = accuracy_score(validation_labels, predictions_without_enhancement)\n",
        "# f1_score_without_enhancement = f1_score(validation_labels, predictions_without_enhancement)\n",
        "\n",
        "# accuracy_with_enhancement = accuracy_score(validation_labels, predictions_with_enhancement)\n",
        "# f1_score_with_enhancement = f1_score(validation_labels, predictions_with_enhancement)\n",
        "\n",
        "# # Print the results\n",
        "# print(\"Performance without Image Enhancement:\")\n",
        "# print(\"Accuracy:\", accuracy_without_enhancement)\n",
        "# print(\"F1 Score:\", f1_score_without_enhancement)\n",
        "\n",
        "# print(\"\\nPerformance with Image Enhancement:\")\n",
        "# print(\"Accuracy:\", accuracy_with_enhancement)\n",
        "# print(\"F1 Score:\", f1_score_with_enhancement)\n"
      ]
    },
    {
      "cell_type": "code",
      "source": [
        "%%capture\n",
        "data_root = '/content/drive/MyDrive/machine vision assignment 2/EE6222 train and validate 2023/train'\n",
        "en_sample = Sampling(base_dir = data_root, enhance_img=True)\n",
        "en_sample.Sampler(sample_rate = rate)\n",
        "en_sample.saveFeatures()\n",
        "\n",
        "val_root = '/content/drive/MyDrive/machine vision assignment 2/EE6222 train and validate 2023/validate'\n",
        "en_sample_val = ValSampling(base_dir = val_root, enhance_img = True)\n",
        "en_sample_val.Sampler(sample_rate = rate)\n",
        "en_sample_val.saveFeatures()\n"
      ],
      "metadata": {
        "id": "IVyqkHQiHTT6"
      },
      "execution_count": null,
      "outputs": []
    },
    {
      "cell_type": "code",
      "source": [
        "feature_dir3 = '/content/drive/MyDrive/machine vision assignment 2/EE6222 train and validate 2023/train/features/features3.npy'\n",
        "labels_dir3 = '/content/drive/MyDrive/machine vision assignment 2/EE6222 train and validate 2023/train/features/labels3.npy'\n",
        "# val_features3 = '/content/drive/MyDrive/machine vision assignment 2/EE6222 train and validate 2023/validate/features/features3.npy'\n",
        "# val_labels3 = '/content/drive/MyDrive/machine vision assignment 2/EE6222 train and validate 2023/validate/features/labels3.npy'\n",
        "features3 = np.load(feature_dir3, allow_pickle = True)\n",
        "labels3 = np.load(labels_dir3, allow_pickle = True)\n",
        "# X_val3 = np.load(val_features3, allow_pickle = True)\n",
        "# y_val3 = np.load(val_labels3, allow_pickle = True)"
      ],
      "metadata": {
        "id": "B-uhJvAWOU35"
      },
      "execution_count": null,
      "outputs": []
    },
    {
      "cell_type": "code",
      "source": [
        "# features3 = np.vstack([X_train3, X_val3])\n",
        "# # print(y_train)\n",
        "# # print(y_val)\n",
        "# labels3 = np.hstack([y_train3, y_val3])\n",
        "# print(labels.shape)\n",
        "X_train3, X_val3, y_train3, y_val3 = train_test_split(features3, labels3, test_size=test_size, shuffle = shuffle, random_state=42)"
      ],
      "metadata": {
        "id": "Z7ISqTGMOavq"
      },
      "execution_count": null,
      "outputs": []
    },
    {
      "cell_type": "code",
      "source": [
        "model = keras.Sequential([\n",
        "    layers.Input(shape=X_train3.shape[1:]),  # Input shape matches your feature shape\n",
        "    layers.Conv2D(32, kernel_size=(3, 3), activation='relu'),\n",
        "    layers.MaxPooling2D(pool_size=(2, 2)),\n",
        "    layers.Flatten(),\n",
        "    layers.Dense(128, activation='relu'),\n",
        "    layers.Dense(num_classes, activation='softmax')  # Output layer with the number of classes\n",
        "])\n",
        "\n",
        "model.compile(optimizer='adam', loss='sparse_categorical_crossentropy', metrics=['accuracy'])\n",
        "modelHistory = model.fit(X_train3, y_train3, epochs=epoch, validation_data=(X_val3, y_val3)) # , callbacks=[early_stopping]\n",
        "plotting(modelHistory)\n",
        "model.save(os.path.join(BASE_DIR,'enhanced_model.h5'))"
      ],
      "metadata": {
        "id": "NfjB-haoOhmf"
      },
      "execution_count": null,
      "outputs": []
    },
    {
      "cell_type": "markdown",
      "metadata": {
        "id": "4nAuHWBK-Yub"
      },
      "source": [
        "### Discuss how the chosen image enhancement effects the performance of the trained classifier in detail"
      ]
    },
    {
      "cell_type": "markdown",
      "metadata": {
        "id": "D60ckbCL-avy"
      },
      "source": [
        "### Provide sampled output frames resulting from the image enhancement. (6 points)"
      ]
    },
    {
      "cell_type": "markdown",
      "metadata": {
        "id": "NM0-Q29E_Ol2"
      },
      "source": [
        "# 5. – Improving the HAR Model to Enable End-to-end Training. The aforementioned method is intuitive but is not end-to-end, which limits its applicability in real-world scenarios. Currently, most HAR models are designed end-to-end, without the need to explicitly store the video features. In this step you are to design or implement an HAR model that is end-to-end and evaluate your HAR model. Describe your HAR model in detail, including the structure along with the training and evaluation procedures. Compare your HAR model performance against the prior trained classifiers and discuss the pros and cons of your HAR model. (Additional 10 points)"
      ]
    },
    {
      "cell_type": "code",
      "execution_count": null,
      "metadata": {
        "id": "4Cn7kKuH-f2E"
      },
      "outputs": [],
      "source": [
        "# import numpy as np\n",
        "# import tensorflow as tf\n",
        "# from tensorflow.keras.layers import Conv2D, LSTM, Dense, Flatten, Input\n",
        "# from tensorflow.keras.models import Model\n",
        "# from sklearn.metrics import accuracy_score, precision_score, recall_score, f1_score\n",
        "\n",
        "# # Assuming you have your training data in train_videos and train_labels\n",
        "# # Assuming you have your validation data in validation_videos and validation_labels\n",
        "\n",
        "# # Define the input shape\n",
        "# input_shape = (sequence_length, frame_height, frame_width, num_channels)\n",
        "\n",
        "# # Build the end-to-end HAR model\n",
        "# input_layer = Input(shape=input_shape)\n",
        "# conv_layer = Conv2D(32, (3, 3), activation='relu')(input_layer)\n",
        "# lstm_layer = LSTM(64, return_sequences=True)(conv_layer)\n",
        "# flatten_layer = Flatten()(lstm_layer)\n",
        "# output_layer = Dense(num_classes, activation='softmax')(flatten_layer)\n",
        "\n",
        "# model = Model(inputs=input_layer, outputs=output_layer)\n",
        "\n",
        "# # Compile the model\n",
        "# model.compile(loss='categorical_crossentropy', optimizer='adam', metrics=['accuracy'])\n",
        "\n",
        "# # Train the model\n",
        "# model.fit(train_videos, train_labels, epochs=epochs, batch_size=batch_size, validation_data=(validation_videos, validation_labels))\n",
        "\n",
        "# # Evaluate the model on the validation set\n",
        "# validation_predictions = model.predict(validation_videos)\n",
        "# validation_predictions = np.argmax(validation_predictions, axis=1)  # Assuming one-hot encoding of labels\n",
        "# validation_labels = np.argmax(validation_labels, axis=1)  # Assuming one-hot encoding of labels\n",
        "\n",
        "# accuracy = accuracy_score(validation_labels, validation_predictions)\n",
        "# precision = precision_score(validation_labels, validation_predictions, average='weighted')\n",
        "# recall = recall_score(validation_labels, validation_predictions, average='weighted')\n",
        "# f1 = f1_score(validation_labels, validation_predictions, average='weighted')\n",
        "\n",
        "# print(\"Accuracy:\", accuracy)\n",
        "# print(\"Precision:\", precision)\n",
        "# print(\"Recall:\", recall)\n",
        "# print(\"F1 Score:\", f1)\n"
      ]
    },
    {
      "cell_type": "code",
      "execution_count": null,
      "metadata": {
        "id": "C44m4oIVwG2u"
      },
      "outputs": [],
      "source": [
        "# from shutil import rmtree\n",
        "# b = '/content/drive/MyDrive/machine vision assignment 2/EE6222 train and validate 2023/train/uniform_sampled'\n",
        "# # # c = '/content/drive/MyDrive/machine vision assignment 2/EE6222 train and validate 2023/validate/uniform_validation_sampled'\n",
        "# # # # for file in os.listdir(b):\n",
        "# # # #   os.unlink(os.path.join(b, file))\n",
        "# rmtree(b)\n",
        "\n",
        "# for f in os.listdir(c):\n",
        "#   os.unlink(os.path.join(c, file))\n",
        "  # rmtree(os.path.join(c, f))"
      ]
    }
  ],
  "metadata": {
    "colab": {
      "provenance": [],
      "gpuType": "T4",
      "include_colab_link": true
    },
    "kernelspec": {
      "display_name": "Python 3",
      "name": "python3"
    },
    "language_info": {
      "name": "python"
    },
    "accelerator": "GPU"
  },
  "nbformat": 4,
  "nbformat_minor": 0
}