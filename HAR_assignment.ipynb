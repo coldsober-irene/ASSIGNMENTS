{
  "cells": [
    {
      "cell_type": "markdown",
      "metadata": {
        "id": "view-in-github",
        "colab_type": "text"
      },
      "source": [
        "<a href=\"https://colab.research.google.com/github/coldsober-irene/ASSIGNMENTS/blob/main/HAR_assignment.ipynb\" target=\"_parent\"><img src=\"https://colab.research.google.com/assets/colab-badge.svg\" alt=\"Open In Colab\"/></a>"
      ]
    },
    {
      "cell_type": "markdown",
      "metadata": {
        "id": "XFGs2OuxCbtk"
      },
      "source": [
        "##metadata"
      ]
    },
    {
      "cell_type": "code",
      "execution_count": 136,
      "metadata": {
        "id": "ScftYlmzCxnD",
        "colab": {
          "base_uri": "https://localhost:8080/"
        },
        "outputId": "a0b418d4-854c-458e-8b6f-a115815ea398"
      },
      "outputs": [
        {
          "output_type": "stream",
          "name": "stdout",
          "text": [
            "Drive already mounted at /content/drive; to attempt to forcibly remount, call drive.mount(\"/content/drive\", force_remount=True).\n"
          ]
        }
      ],
      "source": [
        "from google.colab import drive\n",
        "drive.mount('/content/drive')"
      ]
    },
    {
      "cell_type": "markdown",
      "metadata": {
        "id": "w6xOtQ63pph2"
      },
      "source": [
        "##packages"
      ]
    },
    {
      "cell_type": "code",
      "execution_count": 137,
      "metadata": {
        "id": "kuVnAbZuprff"
      },
      "outputs": [],
      "source": [
        "import os\n",
        "import cv2\n",
        "import random\n",
        "import numpy as np\n",
        "import tensorflow as tf\n",
        "from tensorflow import keras\n",
        "from tensorflow.keras import layers\n",
        "from sklearn.svm import SVC\n",
        "from tensorflow.keras.applications import ResNet50\n",
        "from sklearn.model_selection import train_test_split\n",
        "from sklearn.metrics import accuracy_score, classification_report\n",
        "from tensorflow.keras.applications.resnet50 import preprocess_input\n"
      ]
    },
    {
      "cell_type": "markdown",
      "metadata": {
        "id": "1O2H0bPEilw9"
      },
      "source": [
        "# 1. **Frames sampling**\n"
      ]
    },
    {
      "cell_type": "code",
      "source": [
        "samples = 20\n",
        "rate = 7"
      ],
      "metadata": {
        "id": "HLpKYITKsFuf"
      },
      "execution_count": 138,
      "outputs": []
    },
    {
      "cell_type": "code",
      "execution_count": 139,
      "metadata": {
        "id": "YtnZh48mby_P"
      },
      "outputs": [],
      "source": [
        "class Sampling:\n",
        "  count = 0\n",
        "  def __init__(self, base_dir, sampling_type = 'uniform', ref_mean=[0.07, 0.07, 0.07], ref_std=[0.1, 0.09, 0.08]):\n",
        "    self.data_path = base_dir\n",
        "    self.sampling_type = sampling_type\n",
        "    self.mean = ref_mean\n",
        "    self.std = ref_std\n",
        "\n",
        "    # READ MAPPING FILE TO KNOW THE LABEL FOR EACH CLASS\n",
        "    map_file = '/content/drive/MyDrive/machine vision assignment 2/EE6222 train and validate 2023/mapping_table_23.txt'\n",
        "    self.maps = {}\n",
        "    with open(map_file, 'r') as f:\n",
        "        lines = f.readlines()\n",
        "        for line in lines:\n",
        "            parts = line.split()\n",
        "            self.maps[parts[1]] = int(parts[0])\n",
        "\n",
        "    # CREATE EXTRACTOR OBJECT\n",
        "    self.Extractor = self.Feature_extract(sampled_type = self.sampling_type)\n",
        "\n",
        "    # subfolders\n",
        "    self.activities = os.listdir(self.data_path)\n",
        "\n",
        "    # EXTRACTED FEATURES FROM ALL THE VIDEOS\n",
        "    self.obtained_features = []\n",
        "    # LABELS OF THE EXTRACTED FEATURES\n",
        "    self.labels = []\n",
        "    Sampling.count += 1\n",
        "\n",
        "  def saveFeatures(self):\n",
        "    # CREATE VSTACK ARRAY OF ALL FEATURES EXTRACTED\n",
        "    all_features = np.vstack(self.obtained_features)\n",
        "    labels = np.array(self.labels)\n",
        "\n",
        "    # SAVED THE EXTRACTED FEATURES and their corresponding labels FOR FUTURE USE\n",
        "    features_dir = os.path.join(self.data_path, 'features')\n",
        "    os.makedirs(features_dir, exist_ok = True)\n",
        "\n",
        "    np.save(os.path.join(features_dir,f'features{Sampling.count}.npy'), all_features)\n",
        "    np.save(os.path.join(features_dir,f'labels{Sampling.count}.npy'), labels)\n",
        "\n",
        "    print(\"FEATURE EXTRACTION AND SAVING IS DONE!!!\")\n",
        "\n",
        "\n",
        "  def Sampler(self, sample_rate = 5, num_samples = 10):\n",
        "    # Loop through each activity\n",
        "    for activity in self.activities:\n",
        "        activity_folder = os.path.join(self.data_path, activity)\n",
        "\n",
        "        # Loop through video files in the activity folder\n",
        "        for video_file in os.listdir(activity_folder):\n",
        "            if '.mp4' in video_file:\n",
        "              frames_sampled = []\n",
        "              video_path = os.path.join(activity_folder, video_file)\n",
        "              cap = cv2.VideoCapture(video_path)\n",
        "\n",
        "              frame_count = int(cap.get(cv2.CAP_PROP_FRAME_COUNT))\n",
        "\n",
        "              if self.sampling_type == 'uniform':\n",
        "                sample = self.UniformSampling(cap = cap, frameCount=frame_count, sample_rate = sample_rate)\n",
        "                frames_sampled.append(sample)\n",
        "\n",
        "              elif self.sampling_type == 'random':\n",
        "                sample = self.RandomSampling(cap = cap, frameCount=frame_count, num_samples=num_samples)\n",
        "                frames_sampled.append(sample)\n",
        "\n",
        "              # EXTRACT FEATURE FROM THE FRAMES OF EACH VIDEO\n",
        "              features_obtained = self.Extractor.features(frames = frames_sampled, ref_mean = self.mean, ref_std = self.std)\n",
        "              self.obtained_features.append(features_obtained)\n",
        "\n",
        "              # POPULATE THE LABEL CORRESPONDING TO THE CURRENT VIDEO\n",
        "              self.labels.append(self.maps[activity])\n",
        "\n",
        "  def UniformSampling(self, cap, sample_rate, frameCount):\n",
        "    for i in range(0, frameCount, sample_rate):\n",
        "      cap.set(cv2.CAP_PROP_POS_FRAMES, i)\n",
        "      ret, frame = cap.read()\n",
        "      if ret:\n",
        "          return frame\n",
        "\n",
        "  def RandomSampling(self, cap,num_samples, frameCount):\n",
        "    sampled_indices = random.sample(range(frameCount), num_samples)\n",
        "\n",
        "    for i in sampled_indices:\n",
        "        cap.set(cv2.CAP_PROP_POS_FRAMES, i)\n",
        "        ret, frame = cap.read()\n",
        "        if ret:\n",
        "            return frame\n",
        "\n",
        "  class Feature_extract:\n",
        "    def __init__(self, sampled_type = 'uniform'):\n",
        "      # Load pre-trained ResNet50\n",
        "      self.model = ResNet50(weights='imagenet', include_top=False)\n",
        "      self.sampled_type = sampled_type\n",
        "\n",
        "    # Function to normalize a frame\n",
        "    def normalize_frame(self, frame, ref_mean, ref_std):\n",
        "        actual_mean = np.mean(frame, axis=(0, 1), keepdims=True)\n",
        "        actual_std = np.std(frame, axis=(0, 1))\n",
        "        normalized_frame = (frame - actual_mean) / actual_std * ref_std + ref_mean\n",
        "        return normalized_frame\n",
        "\n",
        "    # Function to preprocess frames and extract features using ResNet\n",
        "    def features(self,frames, ref_mean, ref_std):\n",
        "        processed_frames = [self.normalize_frame(frame, ref_mean, ref_std) for frame in frames]\n",
        "        processed_frames = [preprocess_input(frame) for frame in processed_frames]\n",
        "        features = self.model.predict(np.array(processed_frames))\n",
        "        return features\n"
      ]
    },
    {
      "cell_type": "markdown",
      "source": [
        "RUN EXTRACTION OF THE TRAIN DATASETS"
      ],
      "metadata": {
        "id": "oradMywtTP-z"
      }
    },
    {
      "cell_type": "markdown",
      "source": [
        "uniform sampling"
      ],
      "metadata": {
        "id": "ZGUp-vXDneT5"
      }
    },
    {
      "cell_type": "code",
      "execution_count": 140,
      "metadata": {
        "id": "lA9YGGIoifBY"
      },
      "outputs": [],
      "source": [
        "%%capture\n",
        "data_root = '/content/drive/MyDrive/machine vision assignment 2/EE6222 train and validate 2023/train'\n",
        "sample = Sampling(base_dir = data_root)\n",
        "sample.Sampler(sample_rate = rate)\n",
        "sample.saveFeatures()\n"
      ]
    },
    {
      "cell_type": "markdown",
      "source": [
        "random sampling"
      ],
      "metadata": {
        "id": "U8_SZNAeniHK"
      }
    },
    {
      "cell_type": "code",
      "source": [
        "%%capture\n",
        "sample2 = Sampling(base_dir = data_root, sampling_type = 'random')\n",
        "sample2.Sampler(num_samples=samples)\n",
        "sample2.saveFeatures()"
      ],
      "metadata": {
        "id": "4aEH6mIpnkQD"
      },
      "execution_count": 141,
      "outputs": []
    },
    {
      "cell_type": "markdown",
      "metadata": {
        "id": "ae0E0pcRlKK9"
      },
      "source": [
        "#2. **validation data feature extraction**"
      ]
    },
    {
      "cell_type": "code",
      "source": [
        "class Sampling:\n",
        "  count = 0\n",
        "  def __init__(self, base_dir, sampling_type = 'uniform', ref_mean=[0.07, 0.07, 0.07], ref_std=[0.1, 0.09, 0.08]):\n",
        "    self.data_path = base_dir\n",
        "    self.sampling_type = sampling_type\n",
        "    self.mean = ref_mean\n",
        "    self.std = ref_std\n",
        "\n",
        "    # READ MAPPING FILE TO KNOW THE LABEL FOR EACH CLASS\n",
        "    map_file = '/content/drive/MyDrive/machine vision assignment 2/EE6222 train and validate 2023/validate.txt'\n",
        "    self.maps = {}\n",
        "    with open(map_file, 'r') as f:\n",
        "        lines = f.readlines()\n",
        "        for line in lines:\n",
        "            parts = line.split()\n",
        "            self.maps[parts[-1]] = int(parts[1])\n",
        "\n",
        "    # CREATE EXTRACTOR OBJECT\n",
        "    self.Extractor = self.Feature_extract(sampled_type = self.sampling_type)\n",
        "\n",
        "\n",
        "    # EXTRACTED FEATURES FROM ALL THE VIDEOS\n",
        "    self.obtained_features = []\n",
        "    # LABELS OF THE EXTRACTED FEATURES\n",
        "    self.labels = []\n",
        "    Sampling.count += 1\n",
        "\n",
        "  def saveFeatures(self):\n",
        "    # CREATE VSTACK ARRAY OF ALL FEATURES EXTRACTED\n",
        "    all_features = np.vstack(self.obtained_features)\n",
        "    labels = np.array(self.labels)\n",
        "\n",
        "    # SAVED THE EXTRACTED FEATURES and their corresponding labels FOR FUTURE USE\n",
        "    features_dir = os.path.join(self.data_path, 'features')\n",
        "    os.makedirs(features_dir, exist_ok = True)\n",
        "\n",
        "    np.save(os.path.join(features_dir,f'features{Sampling.count}.npy'), all_features)\n",
        "    np.save(os.path.join(features_dir,f'labels{Sampling.count}.npy'), labels)\n",
        "\n",
        "    print(\"VALIDATION FEATURE EXTRACTION AND SAVING IS DONE!!!\")\n",
        "\n",
        "\n",
        "  def Sampler(self, sample_rate = 5, num_samples = 10):\n",
        "    # Loop through video files in the activity folder\n",
        "    for video_file in os.listdir(self.data_path):\n",
        "        if '.mp4' in video_file:\n",
        "          frames_sampled = []\n",
        "          video_path = os.path.join(self.data_path, video_file)\n",
        "          cap = cv2.VideoCapture(video_path)\n",
        "\n",
        "          frame_count = int(cap.get(cv2.CAP_PROP_FRAME_COUNT))\n",
        "\n",
        "          if self.sampling_type == 'uniform':\n",
        "            sample = self.UniformSampling(cap = cap, frameCount=frame_count, sample_rate = sample_rate)\n",
        "            frames_sampled.append(sample)\n",
        "\n",
        "          elif self.sampling_type == 'random':\n",
        "            sample = self.RandomSampling(cap = cap, frameCount=frame_count, num_samples=num_samples)\n",
        "            frames_sampled.append(sample)\n",
        "\n",
        "          # EXTRACT FEATURE FROM THE FRAMES OF EACH VIDEO\n",
        "          features_obtained = self.Extractor.features(frames = frames_sampled, ref_mean = self.mean, ref_std = self.std)\n",
        "          self.obtained_features.append(features_obtained)\n",
        "\n",
        "          # POPULATE THE LABEL CORRESPONDING TO THE CURRENT VIDEO\n",
        "          self.labels.append(self.maps[video_file])\n",
        "\n",
        "  def UniformSampling(self, cap, sample_rate, frameCount):\n",
        "    for i in range(0, frameCount, sample_rate):\n",
        "      cap.set(cv2.CAP_PROP_POS_FRAMES, i)\n",
        "      ret, frame = cap.read()\n",
        "      if ret:\n",
        "          return frame\n",
        "\n",
        "  def RandomSampling(self, cap,num_samples, frameCount):\n",
        "    sampled_indices = random.sample(range(frameCount), num_samples)\n",
        "\n",
        "    for i in sampled_indices:\n",
        "        cap.set(cv2.CAP_PROP_POS_FRAMES, i)\n",
        "        ret, frame = cap.read()\n",
        "        if ret:\n",
        "            return frame\n",
        "\n",
        "  class Feature_extract:\n",
        "    def __init__(self, sampled_type = 'uniform'):\n",
        "      # Load pre-trained ResNet50\n",
        "      self.model = ResNet50(weights='imagenet', include_top=False)\n",
        "      self.sampled_type = sampled_type\n",
        "\n",
        "    # Function to normalize a frame\n",
        "    def normalize_frame(self, frame, ref_mean, ref_std):\n",
        "        actual_mean = np.mean(frame, axis=(0, 1), keepdims=True)\n",
        "        actual_std = np.std(frame, axis=(0, 1))\n",
        "        normalized_frame = (frame - actual_mean) / actual_std * ref_std + ref_mean\n",
        "        return normalized_frame\n",
        "\n",
        "    # Function to preprocess frames and extract features using ResNet\n",
        "    def features(self,frames, ref_mean, ref_std):\n",
        "        processed_frames = [self.normalize_frame(frame, ref_mean, ref_std) for frame in frames]\n",
        "        processed_frames = [preprocess_input(frame) for frame in processed_frames]\n",
        "        features = self.model.predict(np.array(processed_frames))\n",
        "        return features\n"
      ],
      "metadata": {
        "id": "WQXBHWMVPM1o"
      },
      "execution_count": 142,
      "outputs": []
    },
    {
      "cell_type": "markdown",
      "source": [
        "RUN EXTRACTION OF THE VALIDATION DATASETS"
      ],
      "metadata": {
        "id": "rKm-nK2YTbEx"
      }
    },
    {
      "cell_type": "markdown",
      "source": [
        "uniform sampling"
      ],
      "metadata": {
        "id": "siTOtg_AnGxW"
      }
    },
    {
      "cell_type": "code",
      "source": [
        "%%capture\n",
        "val_root = '/content/drive/MyDrive/machine vision assignment 2/EE6222 train and validate 2023/validate'\n",
        "sample_val = Sampling(base_dir = val_root)\n",
        "sample_val.Sampler(sample_rate = rate)\n",
        "sample_val.saveFeatures()"
      ],
      "metadata": {
        "id": "ExyLbFRVD_-K"
      },
      "execution_count": 143,
      "outputs": []
    },
    {
      "cell_type": "markdown",
      "source": [
        "random sampling"
      ],
      "metadata": {
        "id": "7ebv2fDhnJmH"
      }
    },
    {
      "cell_type": "code",
      "source": [
        "%%capture\n",
        "sample_val2 = Sampling(base_dir = val_root, sampling_type = 'random')\n",
        "sample_val2.Sampler(num_samples=samples)\n",
        "sample_val2.saveFeatures()"
      ],
      "metadata": {
        "id": "mhMRmAtCnL4i"
      },
      "execution_count": 144,
      "outputs": []
    },
    {
      "cell_type": "markdown",
      "metadata": {
        "id": "uH_6i4iD8Jo4"
      },
      "source": [
        "### obtain the features of each frame using a pre-trained model and create feature vector"
      ]
    },
    {
      "cell_type": "markdown",
      "metadata": {
        "id": "KsrzZaJ4WrKZ"
      },
      "source": [
        "## fuse features extracted using average pooling"
      ]
    },
    {
      "cell_type": "markdown",
      "metadata": {
        "id": "bxDZcyULVVun"
      },
      "source": [
        "## Question: ***Describe in brief the pre-trained model leveraged and why the pre-trained model is selected. What is the dimension of the feature obtained. Remember to save the video features in order for subsequent training. (3 points)***"
      ]
    },
    {
      "cell_type": "markdown",
      "metadata": {
        "id": "xgDGUCt2XiXD"
      },
      "source": [
        "# 3. **Classifier Training and Evaluation**"
      ]
    },
    {
      "cell_type": "markdown",
      "metadata": {
        "id": "clRJUkrjdEKO"
      },
      "source": [
        "**possible classifier I can choose from since my datasets are small (just 25 videos)**\n",
        "\n",
        "1.   Support Vector Machines (SVM)\n",
        "2.   Naive Bayes\n",
        "3. Random Forest\n",
        "\n",
        "\n",
        "\n"
      ]
    },
    {
      "cell_type": "code",
      "execution_count": 145,
      "metadata": {
        "id": "ctsv1c1CJPgx"
      },
      "outputs": [],
      "source": [
        "val_base = '/content/drive/MyDrive/machine vision assignment 2/EE6222 train and validate 2023/validate'\n",
        "feature_dir = '/content/drive/MyDrive/machine vision assignment 2/EE6222 train and validate 2023/train/features/features1.npy'\n",
        "labels_dir = '/content/drive/MyDrive/machine vision assignment 2/EE6222 train and validate 2023/train/features/labels1.npy'\n",
        "val_features = '/content/drive/MyDrive/machine vision assignment 2/EE6222 train and validate 2023/validate/features/features1.npy'\n",
        "val_labels = '/content/drive/MyDrive/machine vision assignment 2/EE6222 train and validate 2023/validate/features/labels1.npy'\n",
        "X_train = np.load(feature_dir, allow_pickle = True)\n",
        "y_train = np.load(labels_dir, allow_pickle = True)\n",
        "X_val = np.load(val_features, allow_pickle = True)\n",
        "y_val = np.load(val_labels, allow_pickle = True)"
      ]
    },
    {
      "cell_type": "code",
      "source": [
        "test_size = 0.64"
      ],
      "metadata": {
        "id": "lVoW4Wrmtvqb"
      },
      "execution_count": 157,
      "outputs": []
    },
    {
      "cell_type": "code",
      "source": [
        "features = np.vstack([X_train, X_val])\n",
        "# print(y_train)\n",
        "# print(y_val)\n",
        "labels = np.hstack([y_train, y_val])\n",
        "# print(labels.shape)\n",
        "X_train, X_val, y_train, y_val = train_test_split(features, labels, test_size=test_size, random_state=42)"
      ],
      "metadata": {
        "id": "kwOksaJDkLNo"
      },
      "execution_count": 158,
      "outputs": []
    },
    {
      "cell_type": "markdown",
      "source": [
        "##model training under **uniform** sampled data"
      ],
      "metadata": {
        "id": "y7Hy3QXVp-Ji"
      }
    },
    {
      "cell_type": "code",
      "source": [
        "\n",
        "# Define the model with 3D convolutional layers\n",
        "num_classes = 5\n",
        "model = keras.Sequential([\n",
        "    layers.Input(shape=X_train.shape[1:]),  # Input shape matches your feature shape\n",
        "    layers.Conv2D(32, kernel_size=(3, 3), activation='relu'),\n",
        "    layers.MaxPooling2D(pool_size=(2, 2)),\n",
        "    layers.Flatten(),\n",
        "    layers.Dense(128, activation='relu'),\n",
        "    layers.Dense(num_classes, activation='softmax')  # Output layer with the number of classes\n",
        "])\n",
        "\n",
        "model.compile(optimizer='adam', loss='sparse_categorical_crossentropy', metrics=['accuracy'])\n",
        "model.fit(X_train, y_train, epochs=10, validation_data=(X_val, y_val))\n",
        "\n"
      ],
      "metadata": {
        "id": "RTl85koSu5ug",
        "colab": {
          "base_uri": "https://localhost:8080/"
        },
        "outputId": "dcc050fd-8399-44ca-8752-029c2845c011"
      },
      "execution_count": 159,
      "outputs": [
        {
          "output_type": "stream",
          "name": "stdout",
          "text": [
            "Epoch 1/10\n",
            "3/3 [==============================] - 1s 224ms/step - loss: nan - accuracy: 0.1818 - val_loss: nan - val_accuracy: 0.1709\n",
            "Epoch 2/10\n",
            "3/3 [==============================] - 0s 58ms/step - loss: nan - accuracy: 0.1705 - val_loss: nan - val_accuracy: 0.1709\n",
            "Epoch 3/10\n",
            "3/3 [==============================] - 0s 58ms/step - loss: nan - accuracy: 0.1705 - val_loss: nan - val_accuracy: 0.1709\n",
            "Epoch 4/10\n",
            "3/3 [==============================] - 0s 56ms/step - loss: nan - accuracy: 0.1705 - val_loss: nan - val_accuracy: 0.1709\n",
            "Epoch 5/10\n",
            "3/3 [==============================] - 0s 57ms/step - loss: nan - accuracy: 0.1705 - val_loss: nan - val_accuracy: 0.1709\n",
            "Epoch 6/10\n",
            "3/3 [==============================] - 0s 56ms/step - loss: nan - accuracy: 0.1705 - val_loss: nan - val_accuracy: 0.1709\n",
            "Epoch 7/10\n",
            "3/3 [==============================] - 0s 57ms/step - loss: nan - accuracy: 0.1705 - val_loss: nan - val_accuracy: 0.1709\n",
            "Epoch 8/10\n",
            "3/3 [==============================] - 0s 57ms/step - loss: nan - accuracy: 0.1705 - val_loss: nan - val_accuracy: 0.1709\n",
            "Epoch 9/10\n",
            "3/3 [==============================] - 0s 60ms/step - loss: nan - accuracy: 0.1705 - val_loss: nan - val_accuracy: 0.1709\n",
            "Epoch 10/10\n",
            "3/3 [==============================] - 0s 54ms/step - loss: nan - accuracy: 0.1705 - val_loss: nan - val_accuracy: 0.1709\n"
          ]
        },
        {
          "output_type": "execute_result",
          "data": {
            "text/plain": [
              "<keras.src.callbacks.History at 0x7d697d163460>"
            ]
          },
          "metadata": {},
          "execution_count": 159
        }
      ]
    },
    {
      "cell_type": "markdown",
      "source": [
        "###model training under random sampled frames"
      ],
      "metadata": {
        "id": "gT7DluyIqR9D"
      }
    },
    {
      "cell_type": "code",
      "source": [
        "val_base = '/content/drive/MyDrive/machine vision assignment 2/EE6222 train and validate 2023/validate'\n",
        "feature_dir = '/content/drive/MyDrive/machine vision assignment 2/EE6222 train and validate 2023/train/features/features2.npy'\n",
        "labels_dir = '/content/drive/MyDrive/machine vision assignment 2/EE6222 train and validate 2023/train/features/labels2.npy'\n",
        "val_features = '/content/drive/MyDrive/machine vision assignment 2/EE6222 train and validate 2023/validate/features/features2.npy'\n",
        "val_labels = '/content/drive/MyDrive/machine vision assignment 2/EE6222 train and validate 2023/validate/features/labels2.npy'\n",
        "X_train = np.load(feature_dir, allow_pickle = True)\n",
        "y_train = np.load(labels_dir, allow_pickle = True)\n",
        "X_val = np.load(val_features, allow_pickle = True)\n",
        "y_val = np.load(val_labels, allow_pickle = True)"
      ],
      "metadata": {
        "id": "C32nkGu2qXLq"
      },
      "execution_count": 160,
      "outputs": []
    },
    {
      "cell_type": "code",
      "source": [
        "\n",
        "features = np.vstack([X_train, X_val])\n",
        "# print(y_train)\n",
        "# print(y_val)\n",
        "labels = np.hstack([y_train, y_val])\n",
        "# print(labels.shape)\n",
        "X_train, X_val, y_train, y_val = train_test_split(features, labels, test_size=test_size, random_state=42)"
      ],
      "metadata": {
        "id": "xJDw5JsclemS"
      },
      "execution_count": 161,
      "outputs": []
    },
    {
      "cell_type": "code",
      "source": [
        "# Define the model with 3D convolutional layers\n",
        "num_classes = 5\n",
        "model = keras.Sequential([\n",
        "    layers.Input(shape=X_train.shape[1:]),  # Input shape matches your feature shape\n",
        "    layers.Conv2D(32, kernel_size=(3, 3), activation='relu'),\n",
        "    layers.MaxPooling2D(pool_size=(2, 2)),\n",
        "    layers.Flatten(),\n",
        "    layers.Dense(128, activation='relu'),\n",
        "    layers.Dense(num_classes, activation='softmax')  # Output layer with the number of classes\n",
        "])\n",
        "\n",
        "model.compile(optimizer='adam', loss='sparse_categorical_crossentropy', metrics=['accuracy'])\n",
        "model.fit(X_train, y_train, epochs=10, validation_data=(X_val, y_val))"
      ],
      "metadata": {
        "colab": {
          "base_uri": "https://localhost:8080/"
        },
        "id": "sROBdJP9qi5Y",
        "outputId": "8ca448a0-772c-4a52-c710-84e290ecddc5"
      },
      "execution_count": 162,
      "outputs": [
        {
          "output_type": "stream",
          "name": "stdout",
          "text": [
            "Epoch 1/10\n",
            "3/3 [==============================] - 1s 226ms/step - loss: nan - accuracy: 0.2159 - val_loss: nan - val_accuracy: 0.1456\n",
            "Epoch 2/10\n",
            "3/3 [==============================] - 0s 56ms/step - loss: nan - accuracy: 0.2159 - val_loss: nan - val_accuracy: 0.1456\n",
            "Epoch 3/10\n",
            "3/3 [==============================] - 0s 57ms/step - loss: nan - accuracy: 0.2159 - val_loss: nan - val_accuracy: 0.1456\n",
            "Epoch 4/10\n",
            "3/3 [==============================] - 0s 95ms/step - loss: nan - accuracy: 0.2159 - val_loss: nan - val_accuracy: 0.1456\n",
            "Epoch 5/10\n",
            "3/3 [==============================] - 0s 54ms/step - loss: nan - accuracy: 0.2159 - val_loss: nan - val_accuracy: 0.1456\n",
            "Epoch 6/10\n",
            "3/3 [==============================] - 0s 56ms/step - loss: nan - accuracy: 0.2159 - val_loss: nan - val_accuracy: 0.1456\n",
            "Epoch 7/10\n",
            "3/3 [==============================] - 0s 62ms/step - loss: nan - accuracy: 0.2159 - val_loss: nan - val_accuracy: 0.1456\n",
            "Epoch 8/10\n",
            "3/3 [==============================] - 0s 58ms/step - loss: nan - accuracy: 0.2159 - val_loss: nan - val_accuracy: 0.1456\n",
            "Epoch 9/10\n",
            "3/3 [==============================] - 0s 96ms/step - loss: nan - accuracy: 0.2159 - val_loss: nan - val_accuracy: 0.1456\n",
            "Epoch 10/10\n",
            "3/3 [==============================] - 0s 92ms/step - loss: nan - accuracy: 0.2159 - val_loss: nan - val_accuracy: 0.1456\n"
          ]
        },
        {
          "output_type": "execute_result",
          "data": {
            "text/plain": [
              "<keras.src.callbacks.History at 0x7d69900c5480>"
            ]
          },
          "metadata": {},
          "execution_count": 162
        }
      ]
    },
    {
      "cell_type": "markdown",
      "metadata": {
        "id": "Zq55TUad9LJR"
      },
      "source": [
        "### Discuss the pros and cons of the type of classifier selected"
      ]
    },
    {
      "cell_type": "markdown",
      "metadata": {
        "id": "x6B1EtDk9SvG"
      },
      "source": [
        "## evaluate the trained classifier"
      ]
    },
    {
      "cell_type": "code",
      "execution_count": 152,
      "metadata": {
        "id": "CC3DscKI9fvn"
      },
      "outputs": [],
      "source": [
        "# from sklearn.metrics import accuracy_score, precision_score, recall_score, f1_score, confusion_matrix\n",
        "\n",
        "# # Assuming you have a trained classifier, such as svm_classifier, as described in Section 3\n",
        "# # X_val and y_val are the validation features and labels\n",
        "\n",
        "# # Make predictions on the validation set\n",
        "# y_pred = svm_classifier.predict(X_val)\n",
        "\n",
        "# # Calculate evaluation metrics\n",
        "# accuracy = accuracy_score(y_val, y_pred)\n",
        "# precision = precision_score(y_val, y_pred)\n",
        "# recall = recall_score(y_val, y_pred)\n",
        "# f1 = f1_score(y_val, y_pred)\n",
        "# confusion = confusion_matrix(y_val, y_pred)\n",
        "\n",
        "# # Print the results\n",
        "# print(\"Accuracy:\", accuracy)\n",
        "# print(\"Precision:\", precision)\n",
        "# print(\"Recall:\", recall)\n",
        "# print(\"F1 Score:\", f1)\n",
        "# print(\"Confusion Matrix:\")\n",
        "# print(confusion)\n"
      ]
    },
    {
      "cell_type": "markdown",
      "metadata": {
        "id": "S5gousOg9rRk"
      },
      "source": [
        "### You should repeat steps 1 and 2 for the validation videos to obtain their features and obtain their class predictions with the trained classifier. Compare the predictions with the ground truth label. What is the performance of the trained classifier? (3 points)"
      ]
    },
    {
      "cell_type": "code",
      "execution_count": 153,
      "metadata": {
        "id": "2jKYfEbZ9tjI"
      },
      "outputs": [],
      "source": [
        "# # Step 1: Frame Sampling for Validation Videos\n",
        "# # - You can follow the same frame sampling process as in Section 1 for your validation videos.\n",
        "# # - Let's assume you have validation_uniform_frames and validation_random_frames for uniform and random sampling.\n",
        "\n",
        "# # Step 2: Feature Extraction for Validation Videos\n",
        "# # - Apply the same feature extraction process as in Section 2 for the validation videos.\n",
        "# # - Assuming you have a pre-trained model (model) and reference mean and standard deviation (ref_mean, ref_std).\n",
        "\n",
        "# # Extract features for validation videos\n",
        "# validation_uniform_features = preprocess_and_extract_features(validation_uniform_frames, model, ref_mean, ref_std)\n",
        "# validation_random_features = preprocess_and_extract_features(validation_random_frames, model, ref_mean, ref_std)\n",
        "\n",
        "# # Step 3: Classifier Prediction and Evaluation\n",
        "# # - Use the trained classifier to predict classes for validation features and compare with ground truth labels.\n",
        "# # - Assuming you have validation_labels for ground truth labels.\n",
        "\n",
        "# # Predict classes for validation features\n",
        "# validation_uniform_predictions = svm_classifier.predict(validation_uniform_features)\n",
        "# validation_random_predictions = svm_classifier.predict(validation_random_features)\n",
        "\n",
        "# # Evaluate the performance for uniform sampling\n",
        "# uniform_accuracy = accuracy_score(validation_labels, validation_uniform_predictions)\n",
        "# uniform_precision = precision_score(validation_labels, validation_uniform_predictions)\n",
        "# uniform_recall = recall_score(validation_labels, validation_uniform_predictions)\n",
        "# uniform_f1 = f1_score(validation_labels, validation_uniform_predictions)\n",
        "\n",
        "# # Evaluate the performance for random sampling\n",
        "# random_accuracy = accuracy_score(validation_labels, validation_random_predictions)\n",
        "# random_precision = precision_score(validation_labels, validation_random_predictions)\n",
        "# random_recall = recall_score(validation_labels, validation_random_predictions)\n",
        "# random_f1 = f1_score(validation_labels, validation_random_predictions)\n",
        "\n",
        "# # Compare and print the results\n",
        "# print(\"Performance for Uniform Sampling:\")\n",
        "# print(\"Accuracy:\", uniform_accuracy)\n",
        "# print(\"Precision:\", uniform_precision)\n",
        "# print(\"Recall:\", uniform_recall)\n",
        "# print(\"F1 Score:\", uniform_f1)\n",
        "\n",
        "# print(\"\\nPerformance for Random Sampling:\")\n",
        "# print(\"Accuracy:\", random_accuracy)\n",
        "# print(\"Precision:\", random_precision)\n",
        "# print(\"Recall:\", random_recall)\n",
        "# print(\"F1 Score:\", random_f1)\n"
      ]
    },
    {
      "cell_type": "markdown",
      "metadata": {
        "id": "BRx-6qmG-BLD"
      },
      "source": [
        "#4. **Apply any image enhancement of your choice** and explore how it effects the performance of the trained classifier. Note that the reference mean, and standard deviation value of a normal video frame is \"mean\" [0.485,0.456,0.406],\"standard deviation\" [0.229,0.224,0.225]."
      ]
    },
    {
      "cell_type": "code",
      "execution_count": 154,
      "metadata": {
        "id": "wI3trLEE-K_1"
      },
      "outputs": [],
      "source": [
        "# import cv2\n",
        "# import numpy as np\n",
        "# from sklearn.metrics import accuracy_score, precision_score, recall_score, f1_score\n",
        "\n",
        "# # Function to enhance and normalize a frame\n",
        "# def enhance_and_normalize_frame(frame, ref_mean, ref_std):\n",
        "#     # Enhance the frame (e.g., histogram equalization)\n",
        "#     enhanced_frame = cv2.equalizeHist(cv2.cvtColor(frame, cv2.COLOR_BGR2GRAY))\n",
        "#     enhanced_frame = cv2.cvtColor(enhanced_frame, cv2.COLOR_GRAY2BGR)\n",
        "\n",
        "#     # Normalize the frame to have the reference mean and standard deviation\n",
        "#     actual_mean = np.mean(enhanced_frame, axis=(0, 1))\n",
        "#     actual_std = np.std(enhanced_frame, axis=(0, 1))\n",
        "#     normalized_frame = (enhanced_frame - actual_mean) / actual_std * ref_std + ref_mean\n",
        "\n",
        "#     return normalized_frame\n",
        "\n",
        "# # Function to preprocess frames and extract features using a pre-trained model\n",
        "# def preprocess_and_extract_features(frames, model, ref_mean, ref_std):\n",
        "#     processed_frames = [enhance_and_normalize_frame(frame, ref_mean, ref_std) for frame in frames]\n",
        "#     processed_frames = [preprocess_input(frame) for frame in processed_frames]\n",
        "#     features = model.predict(np.array(processed_frames))\n",
        "#     return features\n",
        "\n",
        "# # Assuming you have validation_videos, validation_labels, a pre-trained model (model),\n",
        "# # and a trained classifier (svm_classifier)\n",
        "\n",
        "# # Without Image Enhancement\n",
        "# features_without_enhancement = preprocess_and_extract_features(validation_videos, model, ref_mean=[0.485, 0.456, 0.406], ref_std=[0.229, 0.224, 0.225])\n",
        "# predictions_without_enhancement = svm_classifier.predict(features_without_enhancement)\n",
        "\n",
        "# # With Image Enhancement\n",
        "# features_with_enhancement = preprocess_and_extract_features(validation_videos, model, ref_mean=[0.485, 0.456, 0.406], ref_std=[0.229, 0.224, 0.225])\n",
        "# predictions_with_enhancement = svm_classifier.predict(features_with_enhancement)\n",
        "\n",
        "# # Evaluate the performance without and with image enhancement\n",
        "# accuracy_without_enhancement = accuracy_score(validation_labels, predictions_without_enhancement)\n",
        "# f1_score_without_enhancement = f1_score(validation_labels, predictions_without_enhancement)\n",
        "\n",
        "# accuracy_with_enhancement = accuracy_score(validation_labels, predictions_with_enhancement)\n",
        "# f1_score_with_enhancement = f1_score(validation_labels, predictions_with_enhancement)\n",
        "\n",
        "# # Print the results\n",
        "# print(\"Performance without Image Enhancement:\")\n",
        "# print(\"Accuracy:\", accuracy_without_enhancement)\n",
        "# print(\"F1 Score:\", f1_score_without_enhancement)\n",
        "\n",
        "# print(\"\\nPerformance with Image Enhancement:\")\n",
        "# print(\"Accuracy:\", accuracy_with_enhancement)\n",
        "# print(\"F1 Score:\", f1_score_with_enhancement)\n"
      ]
    },
    {
      "cell_type": "markdown",
      "metadata": {
        "id": "4nAuHWBK-Yub"
      },
      "source": [
        "### Discuss how the chosen image enhancement effects the performance of the trained classifier in detail"
      ]
    },
    {
      "cell_type": "markdown",
      "metadata": {
        "id": "D60ckbCL-avy"
      },
      "source": [
        "### Provide sampled output frames resulting from the image enhancement. (6 points)"
      ]
    },
    {
      "cell_type": "markdown",
      "metadata": {
        "id": "NM0-Q29E_Ol2"
      },
      "source": [
        "# 5. – Improving the HAR Model to Enable End-to-end Training. The aforementioned method is intuitive but is not end-to-end, which limits its applicability in real-world scenarios. Currently, most HAR models are designed end-to-end, without the need to explicitly store the video features. In this step you are to design or implement an HAR model that is end-to-end and evaluate your HAR model. Describe your HAR model in detail, including the structure along with the training and evaluation procedures. Compare your HAR model performance against the prior trained classifiers and discuss the pros and cons of your HAR model. (Additional 10 points)"
      ]
    },
    {
      "cell_type": "code",
      "execution_count": 155,
      "metadata": {
        "id": "4Cn7kKuH-f2E"
      },
      "outputs": [],
      "source": [
        "# import numpy as np\n",
        "# import tensorflow as tf\n",
        "# from tensorflow.keras.layers import Conv2D, LSTM, Dense, Flatten, Input\n",
        "# from tensorflow.keras.models import Model\n",
        "# from sklearn.metrics import accuracy_score, precision_score, recall_score, f1_score\n",
        "\n",
        "# # Assuming you have your training data in train_videos and train_labels\n",
        "# # Assuming you have your validation data in validation_videos and validation_labels\n",
        "\n",
        "# # Define the input shape\n",
        "# input_shape = (sequence_length, frame_height, frame_width, num_channels)\n",
        "\n",
        "# # Build the end-to-end HAR model\n",
        "# input_layer = Input(shape=input_shape)\n",
        "# conv_layer = Conv2D(32, (3, 3), activation='relu')(input_layer)\n",
        "# lstm_layer = LSTM(64, return_sequences=True)(conv_layer)\n",
        "# flatten_layer = Flatten()(lstm_layer)\n",
        "# output_layer = Dense(num_classes, activation='softmax')(flatten_layer)\n",
        "\n",
        "# model = Model(inputs=input_layer, outputs=output_layer)\n",
        "\n",
        "# # Compile the model\n",
        "# model.compile(loss='categorical_crossentropy', optimizer='adam', metrics=['accuracy'])\n",
        "\n",
        "# # Train the model\n",
        "# model.fit(train_videos, train_labels, epochs=epochs, batch_size=batch_size, validation_data=(validation_videos, validation_labels))\n",
        "\n",
        "# # Evaluate the model on the validation set\n",
        "# validation_predictions = model.predict(validation_videos)\n",
        "# validation_predictions = np.argmax(validation_predictions, axis=1)  # Assuming one-hot encoding of labels\n",
        "# validation_labels = np.argmax(validation_labels, axis=1)  # Assuming one-hot encoding of labels\n",
        "\n",
        "# accuracy = accuracy_score(validation_labels, validation_predictions)\n",
        "# precision = precision_score(validation_labels, validation_predictions, average='weighted')\n",
        "# recall = recall_score(validation_labels, validation_predictions, average='weighted')\n",
        "# f1 = f1_score(validation_labels, validation_predictions, average='weighted')\n",
        "\n",
        "# print(\"Accuracy:\", accuracy)\n",
        "# print(\"Precision:\", precision)\n",
        "# print(\"Recall:\", recall)\n",
        "# print(\"F1 Score:\", f1)\n"
      ]
    },
    {
      "cell_type": "code",
      "execution_count": 155,
      "metadata": {
        "id": "MuCiCk387VRN"
      },
      "outputs": [],
      "source": []
    },
    {
      "cell_type": "code",
      "execution_count": 156,
      "metadata": {
        "id": "C44m4oIVwG2u"
      },
      "outputs": [],
      "source": [
        "# from shutil import rmtree\n",
        "# b = '/content/drive/MyDrive/machine vision assignment 2/EE6222 train and validate 2023/validate/random_validation_sampled'\n",
        "# c = '/content/drive/MyDrive/machine vision assignment 2/EE6222 train and validate 2023/validate/uniform_validation_sampled'\n",
        "# # for file in os.listdir(b):\n",
        "# #   os.unlink(os.path.join(b, file))\n",
        "# rmtree(b)\n",
        "\n",
        "# for f in os.listdir(c):\n",
        "#   os.unlink(os.path.join(c, file))\n",
        "  # rmtree(os.path.join(c, f))"
      ]
    },
    {
      "cell_type": "code",
      "execution_count": 156,
      "metadata": {
        "id": "rpoAtnLRwM7v"
      },
      "outputs": [],
      "source": []
    }
  ],
  "metadata": {
    "colab": {
      "provenance": [],
      "gpuType": "T4",
      "include_colab_link": true
    },
    "kernelspec": {
      "display_name": "Python 3",
      "name": "python3"
    },
    "language_info": {
      "name": "python"
    },
    "accelerator": "GPU"
  },
  "nbformat": 4,
  "nbformat_minor": 0
}