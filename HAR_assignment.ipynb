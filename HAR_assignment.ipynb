{
  "cells": [
    {
      "cell_type": "markdown",
      "metadata": {
        "id": "view-in-github",
        "colab_type": "text"
      },
      "source": [
        "<a href=\"https://colab.research.google.com/github/coldsober-irene/ASSIGNMENTS/blob/main/HAR_assignment.ipynb\" target=\"_parent\"><img src=\"https://colab.research.google.com/assets/colab-badge.svg\" alt=\"Open In Colab\"/></a>"
      ]
    },
    {
      "cell_type": "markdown",
      "metadata": {
        "id": "XFGs2OuxCbtk"
      },
      "source": [
        "##metadata"
      ]
    },
    {
      "cell_type": "code",
      "execution_count": null,
      "metadata": {
        "id": "ScftYlmzCxnD"
      },
      "outputs": [],
      "source": [
        "from google.colab import drive\n",
        "drive.mount('/content/drive')"
      ]
    },
    {
      "cell_type": "markdown",
      "metadata": {
        "id": "w6xOtQ63pph2"
      },
      "source": [
        "##packages"
      ]
    },
    {
      "cell_type": "code",
      "execution_count": null,
      "metadata": {
        "id": "kuVnAbZuprff"
      },
      "outputs": [],
      "source": [
        "import os\n",
        "import cv2\n",
        "import random\n",
        "import numpy as np\n",
        "import tensorflow as tf\n",
        "from sklearn.svm import SVC\n",
        "from tensorflow.keras.applications import ResNet50\n",
        "from sklearn.model_selection import train_test_split\n",
        "from sklearn.metrics import accuracy_score, classification_report\n",
        "from tensorflow.keras.applications.resnet50 import preprocess_input\n"
      ]
    },
    {
      "cell_type": "markdown",
      "metadata": {
        "id": "1O2H0bPEilw9"
      },
      "source": [
        "# 1. **Frames sampling**\n"
      ]
    },
    {
      "cell_type": "code",
      "execution_count": null,
      "metadata": {
        "id": "YtnZh48mby_P"
      },
      "outputs": [],
      "source": [
        "class Sampling:\n",
        "  def __init__(self, base_dir, train_data_folder = 'train'):\n",
        "    self.data_path = base_dir\n",
        "    self.train_dir = train_data_folder\n",
        "    # subfolders\n",
        "    self.activities = os.listdir(os.path.join(self.data_path, self.train_dir))\n",
        "\n",
        "  def Sampler(self, sampled_dir = 'sampled_frames', sampling_type = 'uniform', sample_rate = 5, num_samples = 10):\n",
        "    # Loop through each activity\n",
        "    for activity in self.activities:\n",
        "        activity_folder = os.path.join(os.path.join(data_root, parent_dir), activity)\n",
        "\n",
        "        # Create a subfolder to save sampled frames\n",
        "        self.sampled_frames_folder = os.path.join(os.path.join(data_root, parent_dir), sampled_dir, activity)\n",
        "        os.makedirs(self.sampled_frames_folder, exist_ok=True)\n",
        "\n",
        "        # Loop through video files in the activity folder\n",
        "        for video_file in os.listdir(activity_folder):\n",
        "            video_path = os.path.join(activity_folder, video_file)\n",
        "            cap = cv2.VideoCapture(video_path)\n",
        "\n",
        "            # Create a subfolder for each video to save sampled frames\n",
        "            video_name = os.path.splitext(video_file)[0]\n",
        "            self.video_sampled_frames_folder = os.path.join(self.sampled_frames_folder, video_name)\n",
        "            os.makedirs(self.video_sampled_frames_folder, exist_ok=True)\n",
        "\n",
        "            frame_count = int(cap.get(cv2.CAP_PROP_FRAME_COUNT))\n",
        "\n",
        "            if sampling_type == 'uniform':\n",
        "              self.UniformSampling(cap = cap, frameCount=frame_count, sample_rate = sample_rate)\n",
        "            else:\n",
        "              self.RandomSampling(cap = cap, frameCount=frame_count, num_samples=num_samples)\n",
        "\n",
        "  def UniformSampling(self, cap, sample_rate, frameCount):\n",
        "    for i in range(0, frameCount, sample_rate):\n",
        "      cap.set(cv2.CAP_PROP_POS_FRAMES, i)\n",
        "      ret, frame = cap.read()\n",
        "      if ret:\n",
        "          frame_filename = os.path.join(self.video_sampled_frames_folder, f'frame_{i}.jpg')\n",
        "          cv2.imwrite(frame_filename, frame)\n",
        "\n",
        "  def RandomSampling(self, cap,num_samples, frameCount):\n",
        "    sampled_indices = random.sample(range(frameCount), num_samples)\n",
        "\n",
        "    for i in sampled_indices:\n",
        "        cap.set(cv2.CAP_PROP_POS_FRAMES, i)\n",
        "        ret, frame = cap.read()\n",
        "        if ret:\n",
        "            frame_filename = os.path.join(self.video_sampled_frames_folder, f'frame_{i}.jpg')\n",
        "            cv2.imwrite(frame_filename, frame)\n",
        "\n",
        "\n"
      ]
    },
    {
      "cell_type": "markdown",
      "metadata": {
        "id": "2A-7bYhQ-MQs"
      },
      "source": [
        "call object"
      ]
    },
    {
      "cell_type": "code",
      "execution_count": null,
      "metadata": {
        "id": "lA9YGGIoifBY"
      },
      "outputs": [],
      "source": [
        "data_root = '/content/drive/MyDrive/machine vision assignment 2/EE6222 train and validate 2023'\n",
        "parent_dir = 'train'\n",
        "sample = Sampling(base_dir = data_root)\n",
        "sample.Sampler(sampled_dir = \"uniform_sampled\")\n",
        "sample.Sampler(sampled_dir = \"random_sampled\")"
      ]
    },
    {
      "cell_type": "markdown",
      "metadata": {
        "id": "9pfX9CdYjikb"
      },
      "source": [
        "##Question: ***which one is the best between uniform and random sampling***"
      ]
    },
    {
      "cell_type": "markdown",
      "metadata": {
        "id": "ae0E0pcRlKK9"
      },
      "source": [
        "#2. **Train data feature extraction**"
      ]
    },
    {
      "cell_type": "code",
      "execution_count": null,
      "metadata": {
        "id": "TXu_4IKBnEVo"
      },
      "outputs": [],
      "source": [
        "base = '/content/drive/MyDrive/machine vision assignment 2/EE6222 train and validate 2023/train'\n",
        "classes_dir = {class_.lower() : os.path.join(base, class_ + \"_features\") for class_ in os.listdir(base)[:6]}\n",
        "try:\n",
        "  for v in classes_dir.values():\n",
        "    os.makedirs(v)\n",
        "except Exception:\n",
        "  pass"
      ]
    },
    {
      "cell_type": "code",
      "execution_count": null,
      "metadata": {
        "id": "kDnQFC9LpU12"
      },
      "outputs": [],
      "source": [
        "class Feature_extract:\n",
        "  def __init__(self, random_frames:list = [], uniform_frames: list = []):\n",
        "    # Load pre-trained ResNet50\n",
        "    self.model = ResNet50(weights='imagenet', include_top=False)\n",
        "    self.random_frames = random_frames\n",
        "    self.uniform_frames = uniform_frames\n",
        "\n",
        "  def Get_features(self, unif = False):\n",
        "    # Assuming uniform_frames and random_frames are defined from Section 1\n",
        "    if unif:\n",
        "      uniform_features = self.preprocess_and_extract_features(self.uniform_frames, self.model, ref_mean=[0.07, 0.07, 0.07], ref_std=[0.1, 0.09, 0.08])\n",
        "      return uniform_features\n",
        "    else:\n",
        "      random_features = self.preprocess_and_extract_features(self.random_frames, self.model, ref_mean=[0.07, 0.07, 0.07], ref_std=[0.1, 0.09, 0.08])\n",
        "      return random_features\n",
        "\n",
        "  # Function to normalize a frame\n",
        "  def normalize_frame(self, frame, ref_mean, ref_std):\n",
        "      frame = cv2.imread(frame)\n",
        "      actual_mean = np.mean(frame, axis=(0, 1), keepdims=True)\n",
        "      actual_std = np.std(frame, axis=(0, 1))\n",
        "      normalized_frame = (frame - actual_mean) / actual_std * ref_std + ref_mean\n",
        "      return normalized_frame\n",
        "\n",
        "\n",
        "  # Function to preprocess frames and extract features using ResNet\n",
        "  def preprocess_and_extract_features(self,frames, model, ref_mean, ref_std):\n",
        "      processed_frames = [self.normalize_frame(frame, ref_mean, ref_std) for frame in frames if frame]\n",
        "      processed_frames = [preprocess_input(frame) for frame in processed_frames]\n",
        "      features = model.predict(np.array(processed_frames))\n",
        "      return features\n",
        "\n",
        "# VALIDATION DATASETS\n",
        "def UniformSampling(cap, sample_rate, frameCount, video_sampled_dir):\n",
        "    for i in range(0, frameCount, sample_rate):\n",
        "      cap.set(cv2.CAP_PROP_POS_FRAMES, i)\n",
        "      ret, frame = cap.read()\n",
        "      if ret:\n",
        "          frame_filename = os.path.join(video_sampled_dir, f'frame_{i}.jpg')\n",
        "          cv2.imwrite(frame_filename, frame)\n",
        "\n",
        "def RandomSampling(cap,num_samples, frameCount, video_sampled_dir):\n",
        "    sampled_indices = random.sample(range(frameCount), num_samples)\n",
        "\n",
        "    for i in sampled_indices:\n",
        "        cap.set(cv2.CAP_PROP_POS_FRAMES, i)\n",
        "        ret, frame = cap.read()\n",
        "        if ret:\n",
        "            frame_filename = os.path.join(video_sampled_dir, f'frame_{i}.jpg')\n",
        "            cv2.imwrite(frame_filename, frame)\n",
        "\n",
        "\n",
        "def sampling_validation(val_dir,video_sampled_frames_folder, sampling_type = 'uniform', sample_rate = 5, num_samples = 10):\n",
        "  try:\n",
        "    os.makedirs(val_dir, exist_ok=True)\n",
        "  except Exception:\n",
        "    pass\n",
        "  for video_file in os.listdir(val_dir):\n",
        "      video_path = os.path.join(val_dir, video_file)\n",
        "      cap = cv2.VideoCapture(video_path)\n",
        "      frame_count = int(cap.get(cv2.CAP_PROP_FRAME_COUNT))\n",
        "\n",
        "      if sampling_type == 'uniform':\n",
        "        UniformSampling(cap = cap, frameCount=frame_count, sample_rate = sample_rate, video_sampled_dir = video_sampled_frames_folder)\n",
        "      else:\n",
        "        RandomSampling(cap = cap, frameCount=frame_count, num_samples=num_samples, video_sampled_dir = video_sampled_frames_folder)\n"
      ]
    },
    {
      "cell_type": "code",
      "execution_count": 34,
      "metadata": {
        "colab": {
          "base_uri": "https://localhost:8080/"
        },
        "id": "mX2pITwpDSYl",
        "outputId": "4a423d2a-1639-4c58-cea4-b4fe155244ea"
      },
      "outputs": [
        {
          "output_type": "stream",
          "name": "stdout",
          "text": [
            "1/1 [==============================] - 1s 961ms/step\n",
            "1/1 [==============================] - 1s 1s/step\n",
            "1/1 [==============================] - 1s 927ms/step\n",
            "1/1 [==============================] - 1s 1s/step\n",
            "1/1 [==============================] - 1s 874ms/step\n",
            "1/1 [==============================] - 1s 943ms/step\n",
            "1/1 [==============================] - 1s 909ms/step\n",
            "1/1 [==============================] - 1s 1s/step\n",
            "1/1 [==============================] - 1s 940ms/step\n",
            "1/1 [==============================] - 1s 943ms/step\n",
            "1/1 [==============================] - 1s 880ms/step\n",
            "1/1 [==============================] - 1s 857ms/step\n",
            "1/1 [==============================] - 1s 964ms/step\n",
            "1/1 [==============================] - 1s 1s/step\n",
            "1/1 [==============================] - 1s 900ms/step\n",
            "1/1 [==============================] - 1s 1s/step\n",
            "1/1 [==============================] - 1s 870ms/step\n",
            "1/1 [==============================] - 1s 1s/step\n",
            "1/1 [==============================] - 1s 904ms/step\n",
            "1/1 [==============================] - 1s 1s/step\n",
            "1/1 [==============================] - 1s 852ms/step\n",
            "1/1 [==============================] - 1s 851ms/step\n",
            "1/1 [==============================] - 1s 1s/step\n",
            "1/1 [==============================] - 1s 928ms/step\n",
            "1/1 [==============================] - 1s 932ms/step\n",
            "1/1 [==============================] - 1s 868ms/step\n",
            "1/1 [==============================] - 1s 907ms/step\n",
            "1/1 [==============================] - 1s 1s/step\n",
            "1/1 [==============================] - 1s 1s/step\n",
            "1/1 [==============================] - 1s 920ms/step\n",
            "1/1 [==============================] - 2s 2s/step\n",
            "1/1 [==============================] - 1s 848ms/step\n",
            "1/1 [==============================] - 2s 2s/step\n",
            "1/1 [==============================] - 1s 922ms/step\n",
            "1/1 [==============================] - 1s 907ms/step\n",
            "1/1 [==============================] - 1s 853ms/step\n",
            "1/1 [==============================] - 1s 839ms/step\n",
            "1/1 [==============================] - 1s 1s/step\n",
            "1/1 [==============================] - 1s 919ms/step\n",
            "1/1 [==============================] - 1s 892ms/step\n",
            "1/1 [==============================] - 1s 879ms/step\n",
            "1/1 [==============================] - 1s 890ms/step\n",
            "1/1 [==============================] - 1s 1s/step\n",
            "1/1 [==============================] - 1s 944ms/step\n",
            "1/1 [==============================] - 1s 886ms/step\n",
            "1/1 [==============================] - 1s 865ms/step\n",
            "1/1 [==============================] - 1s 873ms/step\n",
            "1/1 [==============================] - 1s 1s/step\n",
            "1/1 [==============================] - 1s 908ms/step\n",
            "1/1 [==============================] - 1s 911ms/step\n",
            "1/1 [==============================] - 1s 854ms/step\n",
            "1/1 [==============================] - 1s 856ms/step\n",
            "1/1 [==============================] - 1s 878ms/step\n",
            "1/1 [==============================] - 1s 966ms/step\n",
            "1/1 [==============================] - 1s 924ms/step\n",
            "1/1 [==============================] - 1s 886ms/step\n",
            "1/1 [==============================] - 1s 1s/step\n",
            "1/1 [==============================] - 1s 987ms/step\n",
            "1/1 [==============================] - 1s 965ms/step\n",
            "1/1 [==============================] - 1s 1s/step\n",
            "1/1 [==============================] - 1s 898ms/step\n",
            "1/1 [==============================] - 1s 965ms/step\n",
            "1/1 [==============================] - 1s 888ms/step\n",
            "1/1 [==============================] - 1s 937ms/step\n",
            "1/1 [==============================] - 1s 937ms/step\n",
            "1/1 [==============================] - 1s 1s/step\n",
            "1/1 [==============================] - 1s 868ms/step\n",
            "1/1 [==============================] - 1s 850ms/step\n",
            "1/1 [==============================] - 1s 959ms/step\n",
            "1/1 [==============================] - 1s 1s/step\n",
            "1/1 [==============================] - 1s 923ms/step\n",
            "1/1 [==============================] - 1s 1s/step\n",
            "1/1 [==============================] - 1s 873ms/step\n",
            "1/1 [==============================] - 2s 2s/step\n",
            "1/1 [==============================] - 1s 909ms/step\n",
            "1/1 [==============================] - 1s 1s/step\n",
            "1/1 [==============================] - 1s 878ms/step\n",
            "1/1 [==============================] - 1s 918ms/step\n",
            "1/1 [==============================] - 1s 1s/step\n",
            "1/1 [==============================] - 1s 985ms/step\n",
            "1/1 [==============================] - 1s 902ms/step\n",
            "1/1 [==============================] - 1s 936ms/step\n",
            "1/1 [==============================] - 1s 890ms/step\n",
            "1/1 [==============================] - 1s 841ms/step\n",
            "1/1 [==============================] - 1s 1s/step\n",
            "1/1 [==============================] - 1s 945ms/step\n",
            "1/1 [==============================] - 1s 892ms/step\n",
            "1/1 [==============================] - 1s 901ms/step\n"
          ]
        },
        {
          "output_type": "stream",
          "name": "stderr",
          "text": [
            "<ipython-input-3-af3d9fc7f021>:22: RuntimeWarning: invalid value encountered in divide\n",
            "  normalized_frame = (frame - actual_mean) / actual_std * ref_std + ref_mean\n"
          ]
        },
        {
          "output_type": "stream",
          "name": "stdout",
          "text": [
            "1/1 [==============================] - 2s 2s/step\n",
            "1/1 [==============================] - 1s 930ms/step\n",
            "1/1 [==============================] - 1s 1s/step\n",
            "1/1 [==============================] - 1s 901ms/step\n",
            "1/1 [==============================] - 1s 1s/step\n",
            "1/1 [==============================] - 1s 854ms/step\n",
            "1/1 [==============================] - 1s 1s/step\n",
            "1/1 [==============================] - 1s 910ms/step\n",
            "1/1 [==============================] - 1s 1s/step\n",
            "1/1 [==============================] - 1s 864ms/step\n",
            "1/1 [==============================] - 1s 926ms/step\n",
            "1/1 [==============================] - 1s 977ms/step\n",
            "1/1 [==============================] - 1s 933ms/step\n",
            "1/1 [==============================] - 1s 900ms/step\n",
            "1/1 [==============================] - 1s 915ms/step\n",
            "1/1 [==============================] - 1s 859ms/step\n",
            "1/1 [==============================] - 1s 1s/step\n",
            "1/1 [==============================] - 1s 905ms/step\n",
            "1/1 [==============================] - 1s 1s/step\n",
            "1/1 [==============================] - 1s 880ms/step\n",
            "1/1 [==============================] - 1s 879ms/step\n",
            "1/1 [==============================] - 1s 1s/step\n",
            "1/1 [==============================] - 1s 948ms/step\n",
            "1/1 [==============================] - 1s 896ms/step\n",
            "1/1 [==============================] - 1s 870ms/step\n",
            "1/1 [==============================] - 1s 867ms/step\n",
            "1/1 [==============================] - 1s 1s/step\n",
            "1/1 [==============================] - 1s 915ms/step\n",
            "1/1 [==============================] - 1s 1s/step\n",
            "1/1 [==============================] - 1s 878ms/step\n",
            "1/1 [==============================] - 1s 1s/step\n",
            "1/1 [==============================] - 1s 872ms/step\n",
            "1/1 [==============================] - 1s 1s/step\n",
            "1/1 [==============================] - 1s 920ms/step\n",
            "1/1 [==============================] - 1s 1s/step\n",
            "1/1 [==============================] - 1s 906ms/step\n",
            "1/1 [==============================] - 1s 999ms/step\n",
            "1/1 [==============================] - 1s 957ms/step\n",
            "1/1 [==============================] - 1s 1s/step\n",
            "1/1 [==============================] - 1s 932ms/step\n",
            "1/1 [==============================] - 1s 864ms/step\n",
            "1/1 [==============================] - 1s 879ms/step\n",
            "1/1 [==============================] - 1s 955ms/step\n",
            "1/1 [==============================] - 1s 1s/step\n",
            "1/1 [==============================] - 1s 911ms/step\n",
            "1/1 [==============================] - 1s 889ms/step\n",
            "1/1 [==============================] - 2s 2s/step\n",
            "1/1 [==============================] - 1s 948ms/step\n",
            "1/1 [==============================] - 1s 915ms/step\n",
            "1/1 [==============================] - 1s 1s/step\n",
            "1/1 [==============================] - 1s 893ms/step\n",
            "1/1 [==============================] - 1s 880ms/step\n",
            "1/1 [==============================] - 1s 1s/step\n",
            "1/1 [==============================] - 1s 976ms/step\n",
            "1/1 [==============================] - 1s 1s/step\n",
            "1/1 [==============================] - 1s 893ms/step\n",
            "1/1 [==============================] - 1s 895ms/step\n",
            "1/1 [==============================] - 2s 2s/step\n",
            "1/1 [==============================] - 1s 955ms/step\n",
            "1/1 [==============================] - 1s 1s/step\n",
            "1/1 [==============================] - 1s 883ms/step\n",
            "1/1 [==============================] - 1s 1s/step\n",
            "1/1 [==============================] - 1s 851ms/step\n",
            "1/1 [==============================] - 1s 983ms/step\n",
            "1/1 [==============================] - 1s 938ms/step\n",
            "1/1 [==============================] - 1s 1s/step\n",
            "1/1 [==============================] - 1s 924ms/step\n",
            "1/1 [==============================] - 1s 869ms/step\n",
            "1/1 [==============================] - 1s 948ms/step\n",
            "1/1 [==============================] - 1s 914ms/step\n",
            "1/1 [==============================] - 1s 1s/step\n",
            "1/1 [==============================] - 1s 886ms/step\n",
            "1/1 [==============================] - 1s 855ms/step\n",
            "1/1 [==============================] - 1s 980ms/step\n",
            "1/1 [==============================] - 1s 1s/step\n",
            "1/1 [==============================] - 1s 888ms/step\n",
            "1/1 [==============================] - 1s 873ms/step\n",
            "1/1 [==============================] - 1s 860ms/step\n",
            "1/1 [==============================] - 1s 1s/step\n",
            "1/1 [==============================] - 1s 922ms/step\n",
            "1/1 [==============================] - 1s 910ms/step\n",
            "1/1 [==============================] - 1s 879ms/step\n",
            "1/1 [==============================] - 1s 882ms/step\n",
            "1/1 [==============================] - 2s 2s/step\n",
            "1/1 [==============================] - 1s 934ms/step\n",
            "1/1 [==============================] - 1s 917ms/step\n",
            "1/1 [==============================] - 1s 901ms/step\n",
            "1/1 [==============================] - 1s 1s/step\n",
            "1/1 [==============================] - 2s 2s/step\n",
            "1/1 [==============================] - 1s 921ms/step\n",
            "1/1 [==============================] - 1s 910ms/step\n",
            "1/1 [==============================] - 1s 1s/step\n",
            "1/1 [==============================] - 1s 887ms/step\n",
            "1/1 [==============================] - 1s 1s/step\n",
            "1/1 [==============================] - 1s 941ms/step\n",
            "1/1 [==============================] - 1s 1s/step\n",
            "1/1 [==============================] - 1s 912ms/step\n",
            "1/1 [==============================] - 1s 900ms/step\n",
            "1/1 [==============================] - 1s 1s/step\n",
            "1/1 [==============================] - 1s 942ms/step\n",
            "1/1 [==============================] - 1s 1s/step\n",
            "1/1 [==============================] - 1s 931ms/step\n",
            "1/1 [==============================] - 1s 861ms/step\n",
            "1/1 [==============================] - 1s 854ms/step\n",
            "1/1 [==============================] - 1s 1s/step\n",
            "1/1 [==============================] - 1s 939ms/step\n",
            "1/1 [==============================] - 1s 900ms/step\n",
            "1/1 [==============================] - 1s 896ms/step\n",
            "1/1 [==============================] - 1s 1s/step\n",
            "1/1 [==============================] - 1s 964ms/step\n",
            "1/1 [==============================] - 1s 924ms/step\n",
            "1/1 [==============================] - 1s 918ms/step\n",
            "1/1 [==============================] - 1s 886ms/step\n",
            "1/1 [==============================] - 1s 1s/step\n",
            "1/1 [==============================] - 1s 981ms/step\n",
            "1/1 [==============================] - 1s 918ms/step\n",
            "1/1 [==============================] - 1s 923ms/step\n",
            "1/1 [==============================] - 1s 1s/step\n",
            "1/1 [==============================] - 1s 855ms/step\n",
            "1/1 [==============================] - 1s 996ms/step\n",
            "1/1 [==============================] - 1s 951ms/step\n",
            "1/1 [==============================] - 1s 1s/step\n",
            "1/1 [==============================] - 1s 926ms/step\n",
            "1/1 [==============================] - 1s 872ms/step\n",
            "1/1 [==============================] - 1s 1s/step\n",
            "1/1 [==============================] - 1s 1s/step\n",
            "1/1 [==============================] - 1s 1s/step\n",
            "1/1 [==============================] - 1s 907ms/step\n",
            "1/1 [==============================] - 1s 898ms/step\n",
            "1/1 [==============================] - 1s 906ms/step\n",
            "1/1 [==============================] - 1s 1s/step\n",
            "1/1 [==============================] - 1s 933ms/step\n",
            "1/1 [==============================] - 1s 897ms/step\n",
            "1/1 [==============================] - 1s 865ms/step\n",
            "1/1 [==============================] - 1s 1s/step\n",
            "1/1 [==============================] - 1s 960ms/step\n",
            "1/1 [==============================] - 1s 929ms/step\n",
            "1/1 [==============================] - 1s 920ms/step\n",
            "1/1 [==============================] - 1s 1s/step\n",
            "1/1 [==============================] - 1s 1s/step\n",
            "1/1 [==============================] - 1s 944ms/step\n",
            "1/1 [==============================] - 1s 932ms/step\n",
            "1/1 [==============================] - 1s 1s/step\n",
            "1/1 [==============================] - 1s 876ms/step\n",
            "1/1 [==============================] - 1s 861ms/step\n",
            "1/1 [==============================] - 1s 1s/step\n",
            "1/1 [==============================] - 1s 1s/step\n",
            "1/1 [==============================] - 1s 962ms/step\n",
            "1/1 [==============================] - 1s 886ms/step\n",
            "1/1 [==============================] - 1s 890ms/step\n",
            "1/1 [==============================] - 1s 1s/step\n",
            "1/1 [==============================] - 1s 1s/step\n",
            "1/1 [==============================] - 1s 893ms/step\n",
            "1/1 [==============================] - 1s 909ms/step\n",
            "1/1 [==============================] - 1s 878ms/step\n",
            "1/1 [==============================] - 2s 2s/step\n",
            "1/1 [==============================] - 1s 951ms/step\n",
            "1/1 [==============================] - 1s 925ms/step\n",
            "1/1 [==============================] - 1s 900ms/step\n",
            "1/1 [==============================] - 1s 1s/step\n",
            "1/1 [==============================] - 1s 1s/step\n",
            "1/1 [==============================] - 1s 958ms/step\n",
            "1/1 [==============================] - 1s 930ms/step\n",
            "1/1 [==============================] - 1s 1s/step\n",
            "1/1 [==============================] - 1s 859ms/step\n",
            "1/1 [==============================] - 1s 873ms/step\n",
            "1/1 [==============================] - 1s 963ms/step\n",
            "1/1 [==============================] - 1s 991ms/step\n",
            "1/1 [==============================] - 1s 1s/step\n",
            "1/1 [==============================] - 1s 896ms/step\n",
            "1/1 [==============================] - 1s 861ms/step\n",
            "1/1 [==============================] - 1s 975ms/step\n",
            "1/1 [==============================] - 1s 1s/step\n",
            "1/1 [==============================] - 1s 894ms/step\n",
            "1/1 [==============================] - 1s 858ms/step\n",
            "1/1 [==============================] - 1s 870ms/step\n",
            "1/1 [==============================] - 1s 1s/step\n",
            "1/1 [==============================] - 1s 930ms/step\n",
            "1/1 [==============================] - 1s 929ms/step\n",
            "1/1 [==============================] - 1s 914ms/step\n",
            "1/1 [==============================] - 1s 893ms/step\n",
            "1/1 [==============================] - 1s 1s/step\n",
            "1/1 [==============================] - 1s 960ms/step\n",
            "1/1 [==============================] - 1s 922ms/step\n",
            "1/1 [==============================] - 1s 904ms/step\n",
            "1/1 [==============================] - 1s 1s/step\n",
            "1/1 [==============================] - 1s 1s/step\n",
            "1/1 [==============================] - 1s 930ms/step\n",
            "1/1 [==============================] - 1s 923ms/step\n",
            "1/1 [==============================] - 1s 1s/step\n",
            "1/1 [==============================] - 1s 883ms/step\n",
            "1/1 [==============================] - 2s 2s/step\n",
            "1/1 [==============================] - 1s 912ms/step\n",
            "1/1 [==============================] - 1s 1s/step\n",
            "1/1 [==============================] - 1s 921ms/step\n",
            "1/1 [==============================] - 1s 894ms/step\n",
            "1/1 [==============================] - 1s 1s/step\n",
            "1/1 [==============================] - 1s 975ms/step\n",
            "1/1 [==============================] - 1s 1s/step\n",
            "1/1 [==============================] - 1s 914ms/step\n",
            "1/1 [==============================] - 1s 893ms/step\n",
            "1/1 [==============================] - 1s 1s/step\n",
            "1/1 [==============================] - 1s 1s/step\n",
            "1/1 [==============================] - 1s 906ms/step\n",
            "1/1 [==============================] - 1s 927ms/step\n",
            "1/1 [==============================] - 1s 877ms/step\n",
            "1/1 [==============================] - 1s 843ms/step\n",
            "1/1 [==============================] - 1s 1s/step\n",
            "1/1 [==============================] - 1s 922ms/step\n",
            "1/1 [==============================] - 1s 905ms/step\n",
            "1/1 [==============================] - 1s 901ms/step\n",
            "1/1 [==============================] - 1s 1s/step\n",
            "DATASETS SAVED......\n"
          ]
        }
      ],
      "source": [
        "dir_rand = \"/content/drive/MyDrive/machine vision assignment 2/EE6222 train and validate 2023/train/random_sampled\"\n",
        "dir_unif = \"/content/drive/MyDrive/machine vision assignment 2/EE6222 train and validate 2023/train/uniform_sampled\"\n",
        "rand_frames = {os.path.join(dir_rand, class_, last_dir) : os.listdir(os.path.join(dir_rand, class_, last_dir)) for class_ in os.listdir(dir_rand) for last_dir in os.listdir(os.path.join(dir_rand, class_))}\n",
        "unif_frames = {os.path.join(dir_rand, class_, last_dir) : os.listdir(os.path.join(dir_rand, class_, last_dir)) for class_ in os.listdir(dir_rand) for last_dir in os.listdir(os.path.join(dir_rand, class_))}\n",
        "labels = []\n",
        "def generate_dataset(frames):\n",
        "  train_data = {\"stand\" : [], \"sit\" : [], \"jump\" : [], \"run\" : [], \"turn\" : [], \"walk\" : []}\n",
        "  annotation = {\"stand\" : 3, \"sit\" : 2, \"jump\" : 0, \"run\" : 1, \"turn\" : 4, \"walk\" : 5}\n",
        "  for k, v in rand_frames.items():\n",
        "    frames = [os.path.join(k, img) for img in v]\n",
        "    extractor = Feature_extract(random_frames = frames)\n",
        "    features = extractor.Get_features()\n",
        "    for class_ in classes_dir.keys():\n",
        "      if class_ in os.path.basename(k).lower():\n",
        "        train_data[class_].append(features)\n",
        "        labels.append(annotation[class_])\n",
        "  train_arr = np.vstack([features for class_features in list(train_data.values()) for feature in class_features])\n",
        "  labels_arr = np.array(labels)\n",
        "  return labels, train_arr\n",
        "\n",
        "rand_labels, rand_train_data = generate_dataset(frames = rand_frames)\n",
        "unif_labels, unif_train_data = generate_dataset(frames = unif_frames)\n",
        "\n",
        "# Save the video-level features as NumPy arrays\n",
        "np.save(os.path.join(base,'uniform_pooled_features.npy'), rand_train_data)\n",
        "np.save(os.path.join(base,'random_pooled_features.npy'), unif_train_data)\n",
        "np.save(os.path.join(base,'uniform_pooled_labels.npy'), rand_labels)\n",
        "np.save(os.path.join(base,'random_pooled_labels.npy'), unif_labels)\n",
        "print('DATASETS SAVED......')"
      ]
    },
    {
      "cell_type": "markdown",
      "metadata": {
        "id": "TreEWph492Zo"
      },
      "source": [
        "# extract features from validation datasets"
      ]
    },
    {
      "cell_type": "code",
      "execution_count": null,
      "metadata": {
        "id": "5EM0uScuFGsz"
      },
      "outputs": [],
      "source": [
        "def UniformSampling(cap, sample_rate, frameCount, video_sampled_dir):\n",
        "    for i in range(0, frameCount, sample_rate):\n",
        "      cap.set(cv2.CAP_PROP_POS_FRAMES, i)\n",
        "      ret, frame = cap.read()\n",
        "      if ret:\n",
        "          frame_filename = os.path.join(video_sampled_dir, f'frame_{i}.jpg')\n",
        "          cv2.imwrite(frame_filename, frame)\n",
        "\n",
        "def RandomSampling(cap,num_samples, frameCount, video_sampled_dir):\n",
        "    sampled_indices = random.sample(range(frameCount), num_samples)\n",
        "\n",
        "    for i in sampled_indices:\n",
        "        cap.set(cv2.CAP_PROP_POS_FRAMES, i)\n",
        "        ret, frame = cap.read()\n",
        "        if ret:\n",
        "            frame_filename = os.path.join(video_sampled_dir, f'frame_{i}.jpg')\n",
        "            cv2.imwrite(frame_filename, frame)\n",
        "\n",
        "randomLabels = []\n",
        "uniformLabels = []\n",
        "def sampling_validation(val_dir,video_sampled_frames_folder, sampling_type = 'uniform', sample_rate = 5, num_samples = 10):\n",
        "  mapping = None\n",
        "  with open('/content/drive/MyDrive/machine vision assignment 2/EE6222 train and validate 2023/validate.txt', 'r') as f:\n",
        "    lines = f.readlines()\n",
        "    mapping = {line.split()[2]:int(line.split()[1]) for line in lines}\n",
        "  try:\n",
        "    os.makedirs(val_dir, exist_ok=True)\n",
        "  except Exception:\n",
        "    pass\n",
        "\n",
        "  # DIRS TO HOLD FRAMES\n",
        "  randFrames = os.path.join(val_dir, 'randFrames')\n",
        "  unifFrames = os.path.join(val_dir, 'unifFrames')\n",
        "  os.makedirs(randFrames, exist_ok=True)\n",
        "  os.makedirs(unifFrames, exist_ok=True)\n",
        "\n",
        "  for video_file in os.listdir(val_dir):\n",
        "    # EACH VIDEO FRAMES DIR\n",
        "    RDvidFrames_folder = os.path.join(randFrames, video_file[:-4])\n",
        "    UNvidFrames_folder = os.path.join(unifFrames, video_file[:-4])\n",
        "    os.makedirs(RDvidFrames_folder, exist_ok=True)\n",
        "    os.makedirs(UNvidFrames_folder, exist_ok=True)\n",
        "\n",
        "    # print(f\"VIDEO : {video_file[:-4]}\")\n",
        "    video_path = os.path.join(val_dir, video_file)\n",
        "    cap = cv2.VideoCapture(video_path)\n",
        "    frame_count = int(cap.get(cv2.CAP_PROP_FRAME_COUNT))\n",
        "\n",
        "    if sampling_type == 'uniform':\n",
        "\n",
        "      if '.mp4' in video_file:\n",
        "        UniformSampling(cap = cap, frameCount=frame_count, sample_rate = sample_rate, video_sampled_dir = UNvidFrames_folder)\n",
        "        print(f\"UN-{video_file}\")\n",
        "        # SAVE CORRESPONDING LABEL\n",
        "        uniformLabels.append(mapping[video_file])\n",
        "    else:\n",
        "      if '.mp4' in video_file:\n",
        "        RandomSampling(cap = cap, frameCount=frame_count, num_samples=num_samples, video_sampled_dir = RDvidFrames_folder)\n",
        "        # SAVE CORRESPONDING LABEL\n",
        "        randomLabels.append(mapping[video_file])\n",
        "        print(f\"RD-{video_file}\")\n",
        "\n",
        "val_base = '/content/drive/MyDrive/machine vision assignment 2/EE6222 train and validate 2023/validate'\n",
        "unif_dir = '/content/drive/MyDrive/machine vision assignment 2/EE6222 train and validate 2023/validate/uniform_validation_sampled'\n",
        "rand_dir = '/content/drive/MyDrive/machine vision assignment 2/EE6222 train and validate 2023/validate/random_validation_sampled'\n",
        "try:\n",
        "  os.makedirs(unif_dir)\n",
        "  os.makedirs(rand_dir)\n",
        "except Exception:\n",
        "  pass\n",
        "\n",
        "sampling_validation(val_dir = val_base, video_sampled_frames_folder=unif_dir)\n",
        "try:\n",
        "  sampling_validation(val_dir = val_base, video_sampled_frames_folder=rand_dir, sampling_type = 'random', num_samples=5)\n",
        "except ValueError:\n",
        "  pass\n",
        "# val_base = '/content/drive/MyDrive/machine vision assignment 2/EE6222 train and validate 2023/validate'\n",
        "\n",
        "randFrames = os.path.join(val_base, 'randFrames')\n",
        "unifFrames = os.path.join(val_base, 'unifFrames')\n",
        "def validate_features(frames):\n",
        "  extractor = Feature_extract(random_frames = frames)\n",
        "  features = extractor.Get_features()\n",
        "  return features\n",
        "# uniform_val_frames = [os.path.join(unif_dir, frame) for frame in os.listdir(unif_dir)]\n",
        "# random_val_frames = [os.path.join(rand_dir, frame) for frame in os.listdir(rand_dir)]\n",
        "# uniform_val_features = [validate_features(frames = [os.path.join(unifFrames, inner_dir, img) for img in os.listdir(os.path.join(unifFrames, inner_dir))]) for inner_dir in os.listdir(unifFrames)]\n",
        "# random_val_features = [validate_features(frames = [os.path.join(randFrames, inner_dir, img) for img in os.listdir(os.path.join(randFrames, inner_dir))]) for inner_dir in os.listdir(randFrames)]\n",
        "uniform_val_features = []\n",
        "random_val_features = []\n",
        "for inner_dir in os.listdir(unifFrames):\n",
        "  frames = []\n",
        "  for img in os.listdir(os.path.join(unifFrames, inner_dir)):\n",
        "    frames.append(os.path.join(unifFrames, inner_dir, img))\n",
        "  if frames:\n",
        "    uniform_val_features.append(validate_features(frames = frames))\n",
        "  else:\n",
        "    print(f\"EMPTY : {frames}\")\n",
        "\n",
        "for inner_dir2 in os.listdir(randFrames):\n",
        "  frames2 = []\n",
        "  for img2 in os.listdir(os.path.join(randFrames, inner_dir2)):\n",
        "    frames2.append(os.path.join(randFrames, inner_dir2, img2))\n",
        "  if frames2:\n",
        "    random_val_features.append(validate_features(frames = frames2))\n",
        "  else:\n",
        "    print(f\"RAND EMPTY : {frames2}\")\n",
        "\n",
        "uniform_val_features = np.vstack(uniform_val_features)\n",
        "random_val_features = np.vstack(random_val_features)\n",
        "\n",
        "\n",
        "unif_val_labels = np.array(uniformLabels)\n",
        "rand_val_labels = np.array(randomLabels)\n",
        "np.save(os.path.join(val_base,'uniform_val_features.npy'), uniform_val_features)\n",
        "np.save(os.path.join(val_base,'random_random_features.npy'), random_val_features)\n",
        "np.save(os.path.join(val_base,'uniform_val_labels.npy'), unif_val_labels)\n",
        "np.save(os.path.join(val_base,'random_random_labels.npy'), rand_val_labels)\n",
        "print(\"DONE !!!!\")"
      ]
    },
    {
      "cell_type": "code",
      "source": [],
      "metadata": {
        "id": "ExyLbFRVD_-K"
      },
      "execution_count": null,
      "outputs": []
    },
    {
      "cell_type": "code",
      "execution_count": null,
      "metadata": {
        "id": "nsKrZvu7adoY"
      },
      "outputs": [],
      "source": [
        "uniform_val_features"
      ]
    },
    {
      "cell_type": "markdown",
      "metadata": {
        "id": "uH_6i4iD8Jo4"
      },
      "source": [
        "### obtain the features of each frame using a pre-trained model and create feature vector"
      ]
    },
    {
      "cell_type": "markdown",
      "metadata": {
        "id": "KsrzZaJ4WrKZ"
      },
      "source": [
        "## fuse features extracted using average pooling"
      ]
    },
    {
      "cell_type": "markdown",
      "metadata": {
        "id": "bxDZcyULVVun"
      },
      "source": [
        "## Question: ***Describe in brief the pre-trained model leveraged and why the pre-trained model is selected. What is the dimension of the feature obtained. Remember to save the video features in order for subsequent training. (3 points)***"
      ]
    },
    {
      "cell_type": "code",
      "execution_count": null,
      "metadata": {
        "id": "12SrYU3J1SBR"
      },
      "outputs": [],
      "source": [
        "# import numpy as np\n",
        "# import pickle\n",
        "\n",
        "# # Save the video-level features as NumPy arrays\n",
        "# np.save('uniform_pooled_features.npy', uniform_pooled_feature)\n",
        "# np.save('random_pooled_features.npy', random_pooled_feature)\n",
        "\n",
        "# # Alternatively, you can save the features as a pickled object\n",
        "# with open('uniform_pooled_features.pkl', 'wb') as file:\n",
        "#     pickle.dump(uniform_pooled_feature, file)\n",
        "\n",
        "# with open('random_pooled_features.pkl', 'wb') as file:\n",
        "#     pickle.dump(random_pooled_feature, file)\n"
      ]
    },
    {
      "cell_type": "markdown",
      "metadata": {
        "id": "xgDGUCt2XiXD"
      },
      "source": [
        "# 3. **Classifier Training and Evaluation**"
      ]
    },
    {
      "cell_type": "markdown",
      "metadata": {
        "id": "clRJUkrjdEKO"
      },
      "source": [
        "**possible classifier I can choose from since my datasets are small (just 25 videos)**\n",
        "\n",
        "1.   Support Vector Machines (SVM)\n",
        "2.   Naive Bayes\n",
        "3. Random Forest\n",
        "\n",
        "\n",
        "\n"
      ]
    },
    {
      "cell_type": "code",
      "execution_count": 35,
      "metadata": {
        "id": "ctsv1c1CJPgx",
        "colab": {
          "base_uri": "https://localhost:8080/"
        },
        "outputId": "6be8226d-2648-49cc-97fd-4b4ebce4409a"
      },
      "outputs": [
        {
          "output_type": "stream",
          "name": "stdout",
          "text": [
            "(1050, 8, 10, 2048)\n"
          ]
        }
      ],
      "source": [
        "X_train = np.load(os.path.join(base,'uniform_pooled_features.npy'), allow_pickle = True)\n",
        "y_train = np.load(os.path.join(base,'uniform_pooled_labels.npy'), allow_pickle = True)\n",
        "X_val = np.load(os.path.join(val_base,'uniform_val_features.npy'), allow_pickle = True)\n",
        "y_val = np.load(os.path.join(val_base,'uniform_val_labels.npy'), allow_pickle = True)\n",
        "print(X_train.shape)"
      ]
    },
    {
      "cell_type": "code",
      "source": [
        "for i in X_train:\n",
        "  print(i)\n",
        "  print(i.shape)\n",
        "  if True:\n",
        "    break\n"
      ],
      "metadata": {
        "colab": {
          "base_uri": "https://localhost:8080/"
        },
        "id": "xJDw5JsclemS",
        "outputId": "fe113c8b-6426-4ceb-c30c-7c2d692be1ab"
      },
      "execution_count": 36,
      "outputs": [
        {
          "output_type": "stream",
          "name": "stdout",
          "text": [
            "[[[0.         0.         0.         ... 0.         0.         0.        ]\n",
            "  [0.         0.         0.         ... 0.         0.         0.        ]\n",
            "  [0.         0.         0.         ... 0.         0.         0.        ]\n",
            "  ...\n",
            "  [0.         0.         0.         ... 0.         0.         0.        ]\n",
            "  [0.         0.         0.         ... 0.         0.         0.        ]\n",
            "  [0.         0.         0.         ... 0.         0.         0.        ]]\n",
            "\n",
            " [[0.         0.         0.         ... 0.         0.         0.        ]\n",
            "  [0.         0.         0.         ... 0.         0.         0.        ]\n",
            "  [0.         0.         0.         ... 0.         0.         0.        ]\n",
            "  ...\n",
            "  [0.         0.         0.         ... 0.         0.         0.        ]\n",
            "  [0.         0.         0.         ... 0.         0.         0.        ]\n",
            "  [0.         0.         0.         ... 0.         0.         0.        ]]\n",
            "\n",
            " [[0.         0.         0.         ... 0.         0.         0.        ]\n",
            "  [0.         0.         0.         ... 0.         0.         0.        ]\n",
            "  [0.         0.         0.         ... 0.         0.         0.        ]\n",
            "  ...\n",
            "  [0.         0.         0.         ... 0.         0.         0.        ]\n",
            "  [0.         0.         0.         ... 0.         0.         0.        ]\n",
            "  [0.         0.         0.         ... 0.         0.         0.        ]]\n",
            "\n",
            " ...\n",
            "\n",
            " [[0.         0.         0.         ... 0.         0.         0.        ]\n",
            "  [0.         0.         0.         ... 0.         0.         0.        ]\n",
            "  [0.         0.         0.         ... 0.         0.         0.        ]\n",
            "  ...\n",
            "  [0.         0.         0.         ... 0.         0.         0.        ]\n",
            "  [0.         0.         0.         ... 0.         0.         0.        ]\n",
            "  [0.         0.         0.         ... 0.         0.         0.        ]]\n",
            "\n",
            " [[0.         0.         0.         ... 0.         0.         0.        ]\n",
            "  [0.         0.         0.         ... 0.         0.         0.        ]\n",
            "  [0.         0.         0.         ... 0.         0.         0.        ]\n",
            "  ...\n",
            "  [0.         0.         0.         ... 0.         0.         0.        ]\n",
            "  [0.         0.         0.         ... 0.         0.         0.        ]\n",
            "  [0.         0.         0.         ... 0.         0.         0.        ]]\n",
            "\n",
            " [[0.         0.         0.         ... 0.         0.         0.        ]\n",
            "  [0.         0.         0.         ... 0.         0.         0.        ]\n",
            "  [0.         0.         0.         ... 0.46350908 0.         0.        ]\n",
            "  ...\n",
            "  [0.         0.         0.         ... 1.0545169  0.69123894 0.        ]\n",
            "  [0.         0.         0.         ... 0.6887042  0.8356214  0.        ]\n",
            "  [0.         0.         0.         ... 0.         0.         0.        ]]]\n",
            "(8, 10, 2048)\n"
          ]
        }
      ]
    },
    {
      "cell_type": "code",
      "execution_count": 1,
      "metadata": {
        "id": "fMkKUwM4Vb6k",
        "colab": {
          "base_uri": "https://localhost:8080/",
          "height": 245
        },
        "outputId": "55e50927-a49e-4ea9-b4c6-85a58e5cf7e1"
      },
      "outputs": [
        {
          "output_type": "error",
          "ename": "NameError",
          "evalue": "ignored",
          "traceback": [
            "\u001b[0;31m---------------------------------------------------------------------------\u001b[0m",
            "\u001b[0;31mNameError\u001b[0m                                 Traceback (most recent call last)",
            "\u001b[0;32m<ipython-input-1-9c36ff074c90>\u001b[0m in \u001b[0;36m<cell line: 7>\u001b[0;34m()\u001b[0m\n\u001b[1;32m      5\u001b[0m \u001b[0;31m# X_train = X_train.reshape(150)\u001b[0m\u001b[0;34m\u001b[0m\u001b[0;34m\u001b[0m\u001b[0m\n\u001b[1;32m      6\u001b[0m \u001b[0;31m# Train an SVM classifier\u001b[0m\u001b[0;34m\u001b[0m\u001b[0;34m\u001b[0m\u001b[0m\n\u001b[0;32m----> 7\u001b[0;31m \u001b[0msvm_classifier\u001b[0m \u001b[0;34m=\u001b[0m \u001b[0mSVC\u001b[0m\u001b[0;34m(\u001b[0m\u001b[0mkernel\u001b[0m\u001b[0;34m=\u001b[0m\u001b[0;34m'linear'\u001b[0m\u001b[0;34m)\u001b[0m\u001b[0;34m\u001b[0m\u001b[0;34m\u001b[0m\u001b[0m\n\u001b[0m\u001b[1;32m      8\u001b[0m \u001b[0msvm_classifier\u001b[0m\u001b[0;34m.\u001b[0m\u001b[0mfit\u001b[0m\u001b[0;34m(\u001b[0m\u001b[0mX_train\u001b[0m\u001b[0;34m,\u001b[0m \u001b[0my_train\u001b[0m\u001b[0;34m)\u001b[0m\u001b[0;34m\u001b[0m\u001b[0;34m\u001b[0m\u001b[0m\n\u001b[1;32m      9\u001b[0m \u001b[0;34m\u001b[0m\u001b[0m\n",
            "\u001b[0;31mNameError\u001b[0m: name 'SVC' is not defined"
          ]
        }
      ],
      "source": [
        "# Create a dataset (features and labels)\n",
        "\n",
        "# Split data into training and validation sets\n",
        "# X_train, X_val, y_train, y_val = train_test_split(X, y, test_size=0.2, random_state=42)\n",
        "# X_train = X_train.reshape(150)\n",
        "# Train an SVM classifier\n",
        "svm_classifier = SVC(kernel='linear')\n",
        "svm_classifier.fit(X_train, y_train)\n",
        "\n",
        "# Make predictions and evaluate the model\n",
        "y_pred = svm_classifier.predict(X_val)\n",
        "accuracy = accuracy_score(y_val, y_pred)\n",
        "report = classification_report(y_val, y_pred)\n",
        "print(\"Accuracy:\", accuracy)\n",
        "print(report)\n"
      ]
    },
    {
      "cell_type": "code",
      "source": [
        "y_train.shape"
      ],
      "metadata": {
        "id": "bvUJl8AGk8si"
      },
      "execution_count": null,
      "outputs": []
    },
    {
      "cell_type": "markdown",
      "metadata": {
        "id": "Zq55TUad9LJR"
      },
      "source": [
        "### Discuss the pros and cons of the type of classifier selected"
      ]
    },
    {
      "cell_type": "markdown",
      "metadata": {
        "id": "x6B1EtDk9SvG"
      },
      "source": [
        "## evaluate the trained classifier"
      ]
    },
    {
      "cell_type": "code",
      "execution_count": null,
      "metadata": {
        "id": "CC3DscKI9fvn"
      },
      "outputs": [],
      "source": [
        "# from sklearn.metrics import accuracy_score, precision_score, recall_score, f1_score, confusion_matrix\n",
        "\n",
        "# # Assuming you have a trained classifier, such as svm_classifier, as described in Section 3\n",
        "# # X_val and y_val are the validation features and labels\n",
        "\n",
        "# # Make predictions on the validation set\n",
        "# y_pred = svm_classifier.predict(X_val)\n",
        "\n",
        "# # Calculate evaluation metrics\n",
        "# accuracy = accuracy_score(y_val, y_pred)\n",
        "# precision = precision_score(y_val, y_pred)\n",
        "# recall = recall_score(y_val, y_pred)\n",
        "# f1 = f1_score(y_val, y_pred)\n",
        "# confusion = confusion_matrix(y_val, y_pred)\n",
        "\n",
        "# # Print the results\n",
        "# print(\"Accuracy:\", accuracy)\n",
        "# print(\"Precision:\", precision)\n",
        "# print(\"Recall:\", recall)\n",
        "# print(\"F1 Score:\", f1)\n",
        "# print(\"Confusion Matrix:\")\n",
        "# print(confusion)\n"
      ]
    },
    {
      "cell_type": "markdown",
      "metadata": {
        "id": "S5gousOg9rRk"
      },
      "source": [
        "### You should repeat steps 1 and 2 for the validation videos to obtain their features and obtain their class predictions with the trained classifier. Compare the predictions with the ground truth label. What is the performance of the trained classifier? (3 points)"
      ]
    },
    {
      "cell_type": "code",
      "execution_count": null,
      "metadata": {
        "id": "2jKYfEbZ9tjI"
      },
      "outputs": [],
      "source": [
        "# # Step 1: Frame Sampling for Validation Videos\n",
        "# # - You can follow the same frame sampling process as in Section 1 for your validation videos.\n",
        "# # - Let's assume you have validation_uniform_frames and validation_random_frames for uniform and random sampling.\n",
        "\n",
        "# # Step 2: Feature Extraction for Validation Videos\n",
        "# # - Apply the same feature extraction process as in Section 2 for the validation videos.\n",
        "# # - Assuming you have a pre-trained model (model) and reference mean and standard deviation (ref_mean, ref_std).\n",
        "\n",
        "# # Extract features for validation videos\n",
        "# validation_uniform_features = preprocess_and_extract_features(validation_uniform_frames, model, ref_mean, ref_std)\n",
        "# validation_random_features = preprocess_and_extract_features(validation_random_frames, model, ref_mean, ref_std)\n",
        "\n",
        "# # Step 3: Classifier Prediction and Evaluation\n",
        "# # - Use the trained classifier to predict classes for validation features and compare with ground truth labels.\n",
        "# # - Assuming you have validation_labels for ground truth labels.\n",
        "\n",
        "# # Predict classes for validation features\n",
        "# validation_uniform_predictions = svm_classifier.predict(validation_uniform_features)\n",
        "# validation_random_predictions = svm_classifier.predict(validation_random_features)\n",
        "\n",
        "# # Evaluate the performance for uniform sampling\n",
        "# uniform_accuracy = accuracy_score(validation_labels, validation_uniform_predictions)\n",
        "# uniform_precision = precision_score(validation_labels, validation_uniform_predictions)\n",
        "# uniform_recall = recall_score(validation_labels, validation_uniform_predictions)\n",
        "# uniform_f1 = f1_score(validation_labels, validation_uniform_predictions)\n",
        "\n",
        "# # Evaluate the performance for random sampling\n",
        "# random_accuracy = accuracy_score(validation_labels, validation_random_predictions)\n",
        "# random_precision = precision_score(validation_labels, validation_random_predictions)\n",
        "# random_recall = recall_score(validation_labels, validation_random_predictions)\n",
        "# random_f1 = f1_score(validation_labels, validation_random_predictions)\n",
        "\n",
        "# # Compare and print the results\n",
        "# print(\"Performance for Uniform Sampling:\")\n",
        "# print(\"Accuracy:\", uniform_accuracy)\n",
        "# print(\"Precision:\", uniform_precision)\n",
        "# print(\"Recall:\", uniform_recall)\n",
        "# print(\"F1 Score:\", uniform_f1)\n",
        "\n",
        "# print(\"\\nPerformance for Random Sampling:\")\n",
        "# print(\"Accuracy:\", random_accuracy)\n",
        "# print(\"Precision:\", random_precision)\n",
        "# print(\"Recall:\", random_recall)\n",
        "# print(\"F1 Score:\", random_f1)\n"
      ]
    },
    {
      "cell_type": "markdown",
      "metadata": {
        "id": "BRx-6qmG-BLD"
      },
      "source": [
        "#4. **Apply any image enhancement of your choice** and explore how it effects the performance of the trained classifier. Note that the reference mean, and standard deviation value of a normal video frame is \"mean\" [0.485,0.456,0.406],\"standard deviation\" [0.229,0.224,0.225]."
      ]
    },
    {
      "cell_type": "code",
      "execution_count": null,
      "metadata": {
        "id": "wI3trLEE-K_1"
      },
      "outputs": [],
      "source": [
        "# import cv2\n",
        "# import numpy as np\n",
        "# from sklearn.metrics import accuracy_score, precision_score, recall_score, f1_score\n",
        "\n",
        "# # Function to enhance and normalize a frame\n",
        "# def enhance_and_normalize_frame(frame, ref_mean, ref_std):\n",
        "#     # Enhance the frame (e.g., histogram equalization)\n",
        "#     enhanced_frame = cv2.equalizeHist(cv2.cvtColor(frame, cv2.COLOR_BGR2GRAY))\n",
        "#     enhanced_frame = cv2.cvtColor(enhanced_frame, cv2.COLOR_GRAY2BGR)\n",
        "\n",
        "#     # Normalize the frame to have the reference mean and standard deviation\n",
        "#     actual_mean = np.mean(enhanced_frame, axis=(0, 1))\n",
        "#     actual_std = np.std(enhanced_frame, axis=(0, 1))\n",
        "#     normalized_frame = (enhanced_frame - actual_mean) / actual_std * ref_std + ref_mean\n",
        "\n",
        "#     return normalized_frame\n",
        "\n",
        "# # Function to preprocess frames and extract features using a pre-trained model\n",
        "# def preprocess_and_extract_features(frames, model, ref_mean, ref_std):\n",
        "#     processed_frames = [enhance_and_normalize_frame(frame, ref_mean, ref_std) for frame in frames]\n",
        "#     processed_frames = [preprocess_input(frame) for frame in processed_frames]\n",
        "#     features = model.predict(np.array(processed_frames))\n",
        "#     return features\n",
        "\n",
        "# # Assuming you have validation_videos, validation_labels, a pre-trained model (model),\n",
        "# # and a trained classifier (svm_classifier)\n",
        "\n",
        "# # Without Image Enhancement\n",
        "# features_without_enhancement = preprocess_and_extract_features(validation_videos, model, ref_mean=[0.485, 0.456, 0.406], ref_std=[0.229, 0.224, 0.225])\n",
        "# predictions_without_enhancement = svm_classifier.predict(features_without_enhancement)\n",
        "\n",
        "# # With Image Enhancement\n",
        "# features_with_enhancement = preprocess_and_extract_features(validation_videos, model, ref_mean=[0.485, 0.456, 0.406], ref_std=[0.229, 0.224, 0.225])\n",
        "# predictions_with_enhancement = svm_classifier.predict(features_with_enhancement)\n",
        "\n",
        "# # Evaluate the performance without and with image enhancement\n",
        "# accuracy_without_enhancement = accuracy_score(validation_labels, predictions_without_enhancement)\n",
        "# f1_score_without_enhancement = f1_score(validation_labels, predictions_without_enhancement)\n",
        "\n",
        "# accuracy_with_enhancement = accuracy_score(validation_labels, predictions_with_enhancement)\n",
        "# f1_score_with_enhancement = f1_score(validation_labels, predictions_with_enhancement)\n",
        "\n",
        "# # Print the results\n",
        "# print(\"Performance without Image Enhancement:\")\n",
        "# print(\"Accuracy:\", accuracy_without_enhancement)\n",
        "# print(\"F1 Score:\", f1_score_without_enhancement)\n",
        "\n",
        "# print(\"\\nPerformance with Image Enhancement:\")\n",
        "# print(\"Accuracy:\", accuracy_with_enhancement)\n",
        "# print(\"F1 Score:\", f1_score_with_enhancement)\n"
      ]
    },
    {
      "cell_type": "markdown",
      "metadata": {
        "id": "4nAuHWBK-Yub"
      },
      "source": [
        "### Discuss how the chosen image enhancement effects the performance of the trained classifier in detail"
      ]
    },
    {
      "cell_type": "markdown",
      "metadata": {
        "id": "D60ckbCL-avy"
      },
      "source": [
        "### Provide sampled output frames resulting from the image enhancement. (6 points)"
      ]
    },
    {
      "cell_type": "markdown",
      "metadata": {
        "id": "NM0-Q29E_Ol2"
      },
      "source": [
        "# 5. – Improving the HAR Model to Enable End-to-end Training. The aforementioned method is intuitive but is not end-to-end, which limits its applicability in real-world scenarios. Currently, most HAR models are designed end-to-end, without the need to explicitly store the video features. In this step you are to design or implement an HAR model that is end-to-end and evaluate your HAR model. Describe your HAR model in detail, including the structure along with the training and evaluation procedures. Compare your HAR model performance against the prior trained classifiers and discuss the pros and cons of your HAR model. (Additional 10 points)"
      ]
    },
    {
      "cell_type": "code",
      "execution_count": null,
      "metadata": {
        "id": "4Cn7kKuH-f2E"
      },
      "outputs": [],
      "source": [
        "# import numpy as np\n",
        "# import tensorflow as tf\n",
        "# from tensorflow.keras.layers import Conv2D, LSTM, Dense, Flatten, Input\n",
        "# from tensorflow.keras.models import Model\n",
        "# from sklearn.metrics import accuracy_score, precision_score, recall_score, f1_score\n",
        "\n",
        "# # Assuming you have your training data in train_videos and train_labels\n",
        "# # Assuming you have your validation data in validation_videos and validation_labels\n",
        "\n",
        "# # Define the input shape\n",
        "# input_shape = (sequence_length, frame_height, frame_width, num_channels)\n",
        "\n",
        "# # Build the end-to-end HAR model\n",
        "# input_layer = Input(shape=input_shape)\n",
        "# conv_layer = Conv2D(32, (3, 3), activation='relu')(input_layer)\n",
        "# lstm_layer = LSTM(64, return_sequences=True)(conv_layer)\n",
        "# flatten_layer = Flatten()(lstm_layer)\n",
        "# output_layer = Dense(num_classes, activation='softmax')(flatten_layer)\n",
        "\n",
        "# model = Model(inputs=input_layer, outputs=output_layer)\n",
        "\n",
        "# # Compile the model\n",
        "# model.compile(loss='categorical_crossentropy', optimizer='adam', metrics=['accuracy'])\n",
        "\n",
        "# # Train the model\n",
        "# model.fit(train_videos, train_labels, epochs=epochs, batch_size=batch_size, validation_data=(validation_videos, validation_labels))\n",
        "\n",
        "# # Evaluate the model on the validation set\n",
        "# validation_predictions = model.predict(validation_videos)\n",
        "# validation_predictions = np.argmax(validation_predictions, axis=1)  # Assuming one-hot encoding of labels\n",
        "# validation_labels = np.argmax(validation_labels, axis=1)  # Assuming one-hot encoding of labels\n",
        "\n",
        "# accuracy = accuracy_score(validation_labels, validation_predictions)\n",
        "# precision = precision_score(validation_labels, validation_predictions, average='weighted')\n",
        "# recall = recall_score(validation_labels, validation_predictions, average='weighted')\n",
        "# f1 = f1_score(validation_labels, validation_predictions, average='weighted')\n",
        "\n",
        "# print(\"Accuracy:\", accuracy)\n",
        "# print(\"Precision:\", precision)\n",
        "# print(\"Recall:\", recall)\n",
        "# print(\"F1 Score:\", f1)\n"
      ]
    },
    {
      "cell_type": "code",
      "execution_count": null,
      "metadata": {
        "id": "MuCiCk387VRN"
      },
      "outputs": [],
      "source": []
    },
    {
      "cell_type": "code",
      "execution_count": null,
      "metadata": {
        "id": "C44m4oIVwG2u"
      },
      "outputs": [],
      "source": [
        "# from shutil import rmtree\n",
        "# b = '/content/drive/MyDrive/machine vision assignment 2/EE6222 train and validate 2023/validate/random_validation_sampled'\n",
        "# c = '/content/drive/MyDrive/machine vision assignment 2/EE6222 train and validate 2023/validate/uniform_validation_sampled'\n",
        "# # for file in os.listdir(b):\n",
        "# #   os.unlink(os.path.join(b, file))\n",
        "rmtree(b)\n",
        "\n",
        "# for f in os.listdir(c):\n",
        "#   os.unlink(os.path.join(c, file))\n",
        "  # rmtree(os.path.join(c, f))"
      ]
    },
    {
      "cell_type": "code",
      "execution_count": null,
      "metadata": {
        "id": "rpoAtnLRwM7v"
      },
      "outputs": [],
      "source": []
    }
  ],
  "metadata": {
    "accelerator": "GPU",
    "colab": {
      "provenance": [],
      "gpuType": "T4",
      "include_colab_link": true
    },
    "kernelspec": {
      "display_name": "Python 3",
      "name": "python3"
    },
    "language_info": {
      "name": "python"
    }
  },
  "nbformat": 4,
  "nbformat_minor": 0
}