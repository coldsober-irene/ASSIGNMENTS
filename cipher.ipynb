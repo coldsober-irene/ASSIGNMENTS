{
  "nbformat": 4,
  "nbformat_minor": 0,
  "metadata": {
    "colab": {
      "provenance": [],
      "authorship_tag": "ABX9TyP8a54lET/r5J+Wo5rHkvmk",
      "include_colab_link": true
    },
    "kernelspec": {
      "name": "python3",
      "display_name": "Python 3"
    },
    "language_info": {
      "name": "python"
    }
  },
  "cells": [
    {
      "cell_type": "markdown",
      "metadata": {
        "id": "view-in-github",
        "colab_type": "text"
      },
      "source": [
        "<a href=\"https://colab.research.google.com/github/coldsober-irene/ASSIGNMENTS/blob/main/cipher.ipynb\" target=\"_parent\"><img src=\"https://colab.research.google.com/assets/colab-badge.svg\" alt=\"Open In Colab\"/></a>"
      ]
    },
    {
      "cell_type": "code",
      "execution_count": null,
      "metadata": {
        "colab": {
          "base_uri": "https://localhost:8080/"
        },
        "id": "c9kUUiTaxPe5",
        "outputId": "5430b54c-357c-4990-d41b-2595526a6b86"
      },
      "outputs": [
        {
          "output_type": "stream",
          "name": "stdout",
          "text": [
            "SHUFFLED: \n",
            "[')', '7', '9', '!', 'H', 'A', 'b', '&', 'p', '8', 't', 'k', '0', ',', 'Z', '^', 'X', 'P', '/', 'E', '3', '-', 'T', 'G', '<', '%', '`', 'i', 'L', '@', ';', 'V', 'S', 'Q', '}', 'Y', '~', 'm', 'K', 'x', 'N', 'O', 's', '\"', '+', '4', 'h', 'I', ':', 'U', 'c', 'q', 'M', '$', 'w', '6', 'y', 'f', 'g', 'v', 'W', ']', 'j', \"'\", 'R', '?', 'u', 'a', '{', '5', '_', '1', '\\\\', 'z', '*', '=', '#', 'D', 'B', '[', '|', 'e', '2', '.', 'l', '(', 'n', 'r', 'C', 'F', 'J', 'd', 'o', '>']\n",
            "Ab Ab&p Ab&p8 Ab&p8tk0,Z^XP Ab A Ab&p Ab Ab&p Ab&p8tk Ab Ab& Ab&p8tk0, Ab& Ab Ab& Ab&p Ab Ab&p8tk Ab& Ab&p8tk0 Ab&p8t Ab Ab&p Ab&p8 Ab&p8tk0, Ab& Ab& Ab& Ab&p Ab&p8t Ab&p8tk0,Z^XP Ab&p Ab \n"
          ]
        }
      ],
      "source": [
        "from string import ascii_letters, punctuation\n",
        "import math\n",
        "import random\n",
        "import re\n",
        "def do(text = 'uwizera', k = 4):\n",
        "  letters = [l for l in ascii_letters] + [str(i) for i in range(10)] + [str(i) for i in punctuation]\n",
        "  random.seed(42)\n",
        "  random.shuffle(letters)\n",
        "  print(\"SHUFFLED: \")\n",
        "  print(letters)\n",
        "  random.seed(2)\n",
        "  sample = [i for i in text]\n",
        "  random.shuffle(sample)\n",
        "  # single = int(len(letters) / 10)\n",
        "  # groups = [letters[i:i+10] for i in range(1, len(letters), 10)]\n",
        "  return letters\n",
        "\n",
        "\n",
        "def cipher(key = None, text = None):\n",
        "  if text:\n",
        "    text = text.replace('  ', '')\n",
        "    text = text.split(' ')\n",
        "  base = do()\n",
        "  new_letter = ''\n",
        "  for word in text:\n",
        "    for index, letter in enumerate(word):\n",
        "      new_index = index + key\n",
        "      if letter != ' ':\n",
        "        try:\n",
        "          new_letter += base[new_index]\n",
        "        except IndexError:\n",
        "          index_proposed = new_index - len(base)\n",
        "          new_letter += base[index_proposed]\n",
        "      else:\n",
        "        new_letter += ' '\n",
        "    new_letter += ' '\n",
        "\n",
        "  return new_letter\n",
        "coded = cipher(key = 5, text = '''In this code, original_data is a copy of data\n",
        "                          before it was shuffled. So, if you want to restore the original\n",
        "                          order of data after shuffling it, you can just assign original_data back to''')\n",
        "\n",
        "\n",
        "print(coded)\n"
      ]
    },
    {
      "cell_type": "code",
      "source": [
        "def endec(seed, k, text = None, encode = True):\n",
        "  import random, re\n",
        "  from string import ascii_letters, punctuation\n",
        "  letters = [l for l in ascii_letters] + [str(i) for i in range(10)] + [str(i) for i in punctuation]\n",
        "  to_shuffle = [l for l in ascii_letters] + [str(i) for i in range(10)] + [str(i) for i in punctuation]\n",
        "  random.seed(seed)\n",
        "  random.shuffle(to_shuffle)\n",
        "  new_text = ''\n",
        "  text = str(text)\n",
        "  text = re.sub(r\"\\n\", '', text)\n",
        "  if text:\n",
        "    for char in text:\n",
        "      if char != ' ':\n",
        "        if encode:\n",
        "          new_index = letters.index(char) + k\n",
        "          if new_index > len(letters): new_index = letters.index(char) - k\n",
        "          new_text += to_shuffle[new_index]\n",
        "        else:\n",
        "          new_index = to_shuffle.index(char) - k\n",
        "          if new_index < 0: new_index = to_shuffle.index(char) + k\n",
        "          new_text += letters[new_index]\n",
        "      else: new_text += ' '\n",
        "\n",
        "  return new_text\n",
        "\n",
        "\n",
        "encoded = endec(seed = 2, k = 4,\n",
        "                text = '=}i3op',\n",
        "                encode=0)\n",
        "print(encoded)"
      ],
      "metadata": {
        "id": "6EsWWV3dymhn",
        "colab": {
          "base_uri": "https://localhost:8080/"
        },
        "outputId": "1817ebc5-f90f-47f0-92fb-5b31696146e5"
      },
      "execution_count": 40,
      "outputs": [
        {
          "output_type": "stream",
          "name": "stdout",
          "text": [
            "230.56\n"
          ]
        }
      ]
    }
  ]
}