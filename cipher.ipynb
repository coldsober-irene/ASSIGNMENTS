{
  "nbformat": 4,
  "nbformat_minor": 0,
  "metadata": {
    "colab": {
      "provenance": [],
      "authorship_tag": "ABX9TyNwLpLGHvYbT1CkjracUtJX",
      "include_colab_link": true
    },
    "kernelspec": {
      "name": "python3",
      "display_name": "Python 3"
    },
    "language_info": {
      "name": "python"
    }
  },
  "cells": [
    {
      "cell_type": "markdown",
      "metadata": {
        "id": "view-in-github",
        "colab_type": "text"
      },
      "source": [
        "<a href=\"https://colab.research.google.com/github/coldsober-irene/ASSIGNMENTS/blob/main/cipher.ipynb\" target=\"_parent\"><img src=\"https://colab.research.google.com/assets/colab-badge.svg\" alt=\"Open In Colab\"/></a>"
      ]
    },
    {
      "cell_type": "code",
      "source": [
        "def endec(seed, k, text = None, encode = True):\n",
        "  import random, re\n",
        "  from string import ascii_letters, punctuation\n",
        "  letters = [l for l in ascii_letters] + [str(i) for i in range(10)] + [str(i) for i in punctuation]\n",
        "  to_shuffle = [l for l in ascii_letters] + [str(i) for i in range(10)] + [str(i) for i in punctuation]\n",
        "  random.seed(seed)\n",
        "  random.shuffle(to_shuffle)\n",
        "  new_text = ''\n",
        "  text = str(text)\n",
        "  text = re.sub(r\"\\n\", '', text)\n",
        "  if text:\n",
        "    for char in text:\n",
        "      if char != ' ':\n",
        "        if encode:\n",
        "          new_index = letters.index(char) + k\n",
        "          if new_index >= len(letters): new_index = letters.index(char) - k\n",
        "          new_text += to_shuffle[new_index]\n",
        "        else:\n",
        "          new_index = 0\n",
        "          if (-(new_index + (2*k)) + len(letters)) <= k-1: new_index = to_shuffle.index(char) + k\n",
        "          else:\n",
        "            new_index = to_shuffle.index(char) - k\n",
        "          new_text += letters[new_index]\n",
        "      else: new_text += ' '\n",
        "\n",
        "  return new_text\n",
        "\n",
        "\n",
        "encoded = endec(seed = 20, k = 9,\n",
        "                text = r'From the collaborative workings of multi-agent systems to the advent of advanced technologies AI-driven',\n",
        "                encode=1)\n",
        "print(encoded)\n",
        "decoded = endec(seed = 20, k = 9,\n",
        "                text = r'{}'.format(encoded),\n",
        "                encode=0)\n",
        "print(decoded)"
      ],
      "metadata": {
        "id": "6EsWWV3dymhn",
        "colab": {
          "base_uri": "https://localhost:8080/"
        },
        "outputId": "30751a3d-41d6-424d-a36a-eb460ba60c40"
      },
      "execution_count": 44,
      "outputs": [
        {
          "output_type": "stream",
          "name": "stdout",
          "text": [
            "9+yM ITF Gyee.Uy+.I%DF =y+#%3{J y` MueI%d.{F3I J[JIFMJ Iy ITF .LDF3I y` .LD.3GFL IFGT3yey{%FJ RrdL+%DF3\n",
            "From the collaborative workings of multi-agent systems to the advent of advanced technologies AI-driven\n"
          ]
        }
      ]
    },
    {
      "cell_type": "code",
      "source": [],
      "metadata": {
        "id": "Q8B7pXzRV_h7"
      },
      "execution_count": null,
      "outputs": []
    }
  ]
}