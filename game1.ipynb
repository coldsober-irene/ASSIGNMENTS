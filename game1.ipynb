{
  "nbformat": 4,
  "nbformat_minor": 0,
  "metadata": {
    "colab": {
      "provenance": [],
      "authorship_tag": "ABX9TyNDGIaQ3cJVLeeNl5Fh2G7F",
      "include_colab_link": true
    },
    "kernelspec": {
      "name": "python3",
      "display_name": "Python 3"
    },
    "language_info": {
      "name": "python"
    }
  },
  "cells": [
    {
      "cell_type": "markdown",
      "metadata": {
        "id": "view-in-github",
        "colab_type": "text"
      },
      "source": [
        "<a href=\"https://colab.research.google.com/github/coldsober-irene/ASSIGNMENTS/blob/main/game1.ipynb\" target=\"_parent\"><img src=\"https://colab.research.google.com/assets/colab-badge.svg\" alt=\"Open In Colab\"/></a>"
      ]
    },
    {
      "cell_type": "code",
      "execution_count": 43,
      "metadata": {
        "id": "hPJODFzNRTbb"
      },
      "outputs": [],
      "source": [
        "import cv2\n",
        "import numpy as np\n",
        "from random import randint\n",
        "\n",
        "used_cordinates = []\n",
        "class Game:\n",
        "  def __init__(self, shape = (2000, 2980, 3), font_size = 1.2,\n",
        "               filename = 'new_image.png', max_count = 200,\n",
        "               spacing:list = [35, 35], font_color = (0, 10, 0)):\n",
        "    self.imageSize = shape\n",
        "    self.font_size = font_size\n",
        "    self.imageFilename = filename\n",
        "    self.num_max = max_count\n",
        "    self.spacing = spacing\n",
        "    self.font_color = font_color\n",
        "\n",
        "  def writeImage(self):\n",
        "    white_image = np.ones(shape = self.imageSize, dtype=np.uint8) * 255\n",
        "    font = cv2.FONT_HERSHEY_SIMPLEX\n",
        "    font_thickness = 3\n",
        "    # font_color = (0, 10, 0)  # Black color\n",
        "\n",
        "    # Position to start drawing\n",
        "    x, y = 0, 0\n",
        "\n",
        "    # Numbers to be drawn\n",
        "    numbers = list(range(1, self.num_max+1))\n",
        "\n",
        "    # Draw numbers on the image with OpenCV\n",
        "    for number in numbers:\n",
        "      while True:\n",
        "        x, y = randint(60, 2700)+20, randint(60, 1900) + 20\n",
        "        if (x, y) not in used_cordinates and used_cordinates:\n",
        "          array_version = np.array(used_cordinates)\n",
        "          # print(\"shape: \", array_version.shape, array_version, used_cordinates)\n",
        "          current = np.array([x, y])\n",
        "          # print(current)\n",
        "          distances = array_version - current\n",
        "          arr_2d = np.abs(distances)\n",
        "          # Find the index of the row with the minimum values\n",
        "          min_row_index = np.argmin(np.sum(arr_2d, axis=1))\n",
        "\n",
        "          # Get the actual row\n",
        "          min_row = arr_2d[min_row_index, :]\n",
        "          spacing = np.array(self.spacing)\n",
        "          if (min_row > spacing)[0] and (min_row > spacing)[1]:\n",
        "            used_cordinates.append([x, y])\n",
        "            break\n",
        "        elif not used_cordinates:\n",
        "          used_cordinates.append([x, y])\n",
        "          break\n",
        "      if number % 7 == 0:\n",
        "        self.font_color = (0, 165, 255)\n",
        "      elif number % 3:\n",
        "        self.font_color = (0, 100, 0)\n",
        "\n",
        "      cv2.putText(white_image, str(number), (x, y), font, self.font_size, self.font_color, font_thickness, cv2.LINE_AA)\n",
        "      # y += 100  # Adjust vertical position for the next number\n",
        "\n",
        "    # Save the image (optional)\n",
        "    cv2.imwrite(self.imageFilename, white_image)\n",
        "\n",
        "    # Display the image (optional)\n",
        "    #cv2.imshow(\"Numbered Image with OpenCV\", white_image)\n",
        "    cv2.waitKey(0)\n",
        "    cv2.destroyAllWindows()\n",
        "\n",
        "  # writeImage()\n",
        "  # for row in used_cordinates:\n",
        "  #   print(row)\n",
        "\n",
        "\n",
        "game = Game(max_count=200)\n",
        "game.writeImage()"
      ]
    }
  ]
}