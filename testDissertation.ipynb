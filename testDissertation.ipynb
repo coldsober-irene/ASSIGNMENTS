{
  "nbformat": 4,
  "nbformat_minor": 0,
  "metadata": {
    "colab": {
      "provenance": [],
      "authorship_tag": "ABX9TyOtN5wuO7+6q1sYFnRBEHLu",
      "include_colab_link": true
    },
    "kernelspec": {
      "name": "python3",
      "display_name": "Python 3"
    },
    "language_info": {
      "name": "python"
    }
  },
  "cells": [
    {
      "cell_type": "markdown",
      "metadata": {
        "id": "view-in-github",
        "colab_type": "text"
      },
      "source": [
        "<a href=\"https://colab.research.google.com/github/coldsober-irene/ASSIGNMENTS/blob/main/testDissertation.ipynb\" target=\"_parent\"><img src=\"https://colab.research.google.com/assets/colab-badge.svg\" alt=\"Open In Colab\"/></a>"
      ]
    },
    {
      "cell_type": "code",
      "source": [
        "%%capture\n",
        "!pip install control"
      ],
      "metadata": {
        "id": "00NLA79kHd-S"
      },
      "execution_count": 3,
      "outputs": []
    },
    {
      "cell_type": "code",
      "execution_count": 11,
      "metadata": {
        "id": "iUI79usuAZj_"
      },
      "outputs": [],
      "source": [
        "import numpy as np\n",
        "import math\n",
        "import control\n",
        "from matplotlib import pyplot as plt"
      ]
    },
    {
      "cell_type": "markdown",
      "source": [
        "**Plant**\n",
        "\n",
        "$X(k+1) = Ax(k) + Bu(k)$\n",
        "\n",
        "$y(k) = Cx(k)$\n",
        "\n",
        "**Augmented state space**\n",
        "\n",
        "$$\\begin{bmatrix}\n",
        "\\Delta x(k+1) \\\\\\\\ y(k+1)\n",
        "\\end {bmatrix}\n",
        "=\n",
        "\\begin{bmatrix}\n",
        "A_p & 0_{s*s}\\\\\\\\ C_p * A_p & I\n",
        "\\end {bmatrix}\n",
        "\\begin{bmatrix}\n",
        "\\Delta x(k) \\\\\\\\ y(k)\n",
        "\\end {bmatrix}\n",
        "+\n",
        "\\begin{bmatrix}\n",
        "B_p \\\\\\\\ C_p * B_p\n",
        "\\end {bmatrix}\n",
        "\\Delta u(k)$$"
      ],
      "metadata": {
        "id": "hrbxzpDYAf_c"
      }
    },
    {
      "cell_type": "markdown",
      "source": [
        "#form plant model"
      ],
      "metadata": {
        "id": "slOz0qFvDXMd"
      }
    },
    {
      "cell_type": "code",
      "source": [],
      "metadata": {
        "id": "5Vg4o1LREn0W"
      },
      "execution_count": null,
      "outputs": []
    },
    {
      "cell_type": "code",
      "source": [
        "\n",
        "class Modeling:\n",
        "  def __init__(self, H1 = 10, H2 = 12, k1 = 4.3, k2 = 4.7, k3 = 24, area = 32, Np = 10, Nc = 4):\n",
        "    self.H1 = H1\n",
        "    self.H2 = H2\n",
        "    self.k1 = k1\n",
        "    self.k2 = k2\n",
        "    self.k3 = k3\n",
        "    self.area = area\n",
        "    self.Np = Np\n",
        "    self.Nc = Nc\n",
        "    a11 = (-1 / self.area) * ((self.k1 / math.sqrt(self.H1)) + (self.k3 / math.sqrt(abs(self.H1 - self.H2))))\n",
        "    a12 = (self.k3/ (2*self.area)) * (1 / math.sqrt(abs(self.H1 - self.H2)))\n",
        "    a21 = (self.k3/ (2*self.area)) * (1 / math.sqrt(abs(self.H1 - self.H2)))\n",
        "    a22 = (-1 / self.area) * ((self.k2 / math.sqrt(self.H2)) + (self.k3 / math.sqrt(abs(self.H1 - self.H2))))\n",
        "\n",
        "    self.A_p = np.array([[a11, a12],\n",
        "                [a21, a22]\n",
        "                ])\n",
        "    self.B_p = np.array([[1/self.area, 0],\n",
        "                [0, 1/self.area]])\n",
        "    self.C_p = np.eye(2, 2)\n",
        "    self.D_p = np.zeros((2, 2))\n",
        "\n",
        "  def discrete(self, Ts = 0.1, method = 'zoh'):\n",
        "    Ts = 0.1\n",
        "    # Create a state-space system\n",
        "    sys_continuous = control.ss(self.A_p, self.B_p, self.C_p, self.D_p)\n",
        "\n",
        "    # Discretize the system\n",
        "    sys_discrete = sys_continuous.sample(Ts, method=method)\n",
        "\n",
        "    Ad = sys_discrete.A\n",
        "    Bd = sys_discrete.B\n",
        "    Cd = sys_discrete.C\n",
        "    Dd = sys_discrete.D\n",
        "    return Ad, Bd, Cd, Dd\n",
        "\n",
        "  def augment(self):\n",
        "    Ad, Bd, Cd, Dd = self.discrete()\n",
        "    states, _ = Ad.shape\n",
        "    _, inputs = Bd.shape\n",
        "    outputs, _ = Cd.shape\n",
        "\n",
        "    A1 = np.hstack((Ad, np.zeros((states, outputs))))\n",
        "    A2 = np.hstack((Cd @ Ad, np.eye(outputs, outputs)))\n",
        "    self.Ae = np.vstack((A1, A2))\n",
        "    self.Be = np.vstack((Bd,Cd @ Bd))\n",
        "    self.Ce = np.hstack((np.zeros((outputs, outputs)), np.eye(outputs, outputs)))\n",
        "    return self.Ae, self.Be, self.Ce\n",
        "\n",
        "  def mpc_matrices(self):\n",
        "    global M1, M2, M3\n",
        "    Ae, Be, Ce = self.augment()\n",
        "    F = np.empty((Ce @ Ae).shape)\n",
        "    Phi = []\n",
        "    phi_dimx, phi_dimy = (Ce @ Ae @ Be).shape\n",
        "\n",
        "    for i in range(1, self.Np+1):\n",
        "      F = np.vstack((F, Ce @ (np.linalg.matrix_power(Ae, i))))\n",
        "      row = []\n",
        "      for j in range(self.Nc):\n",
        "        Apower = i - j\n",
        "        if Apower < 0:\n",
        "          row.append(np.zeros((phi_dimx, phi_dimy)).tolist())\n",
        "        else:\n",
        "          row.append(((Ce @ np.linalg.matrix_power(Ae, Apower)) @ Be).tolist())\n",
        "      row1 = []\n",
        "      row2 = []\n",
        "      for r in row:\n",
        "        row1.extend(r[0])\n",
        "        row2.extend(r[1])\n",
        "      Phi.append(row1)\n",
        "      Phi.append(row2)\n",
        "\n",
        "    Phi = np.array(Phi)\n",
        "    F = F[2:, :]\n",
        "\n",
        "    # Phi.T @ Phi\n",
        "    Ref = [self.H1, self.H2]\n",
        "    Ref = np.array([Ref[0] if (i % 2 == 0) else Ref[1] for i in range(self.Np * 2)])\n",
        "    M1 = Phi.T @ Phi\n",
        "    M2 = Phi.T @ F\n",
        "    M3 = Phi.T @ Ref\n",
        "\n",
        "\n",
        "\n",
        "  def WithoutConstraint(self, k = 4):\n",
        "    y = []\n",
        "    x = []\n",
        "    u = []\n",
        "    timestep = []\n",
        "    Rbar = 0.5\n",
        "    Ad, Bd, Cd, Dd = self.discrete()\n",
        "    x_k = np.zeros((2, 1)) # initial\n",
        "    u_k = np.zeros((2, 1)) # initial\n",
        "\n",
        "    for i in range(1, k+1):\n",
        "      x_kp1 = (Ad @ x_k) + (Bd @ u_k)\n",
        "      Dx_k = x_kp1 - x_k\n",
        "      y_k = Cd @ x_k\n",
        "      y.append(y_k)\n",
        "      x.append(x_kp1)\n",
        "\n",
        "      x_ki = np.vstack((Dx_k, y_k))\n",
        "      DU = np.linalg.inv(M1 + (Rbar * np.eye(2*self.Nc))) @ (M3 - (M2 @ x_ki))\n",
        "      U_trajectory = DU.tolist()\n",
        "      u_k += np.array(U_trajectory[0][:1]).T # 1st 2 (one for u1 and 2nd for u2)\n",
        "      u.append(u_k)\n",
        "      x_k = x_kp1\n",
        "      timestep.append(i)\n",
        "    finalY = []\n",
        "    for arr in y:\n",
        "      finalY.append(arr.flatten().tolist())\n",
        "    y = np.array(finalY)\n",
        "\n",
        "    return y, x, u, timestep\n",
        "\n",
        "plant = Modeling(Np = 20, Nc = 10, H1 = 10, H2 = 12)\n",
        "disc = plant.mpc_matrices()\n",
        "y, x, u, t = plant.WithoutConstraint(k = 300)\n",
        "# print(disc)"
      ],
      "metadata": {
        "id": "9y9ftLxgAfnh"
      },
      "execution_count": 48,
      "outputs": []
    },
    {
      "cell_type": "code",
      "source": [
        "plt.plot(t, y[:, 0])\n",
        "plt.xlabel(\"sample\")\n",
        "plt.ylabel(\"tank 1 output (cm)\")\n",
        "plt.title(\"without constraints mpc tank1\")\n",
        "plt.legend()\n",
        "# plt.plot(t, y[:, 1], marker = '+')\n",
        "plt.grid(True)\n",
        "plt.show()\n",
        "# print(\"2nd:: \", y[:, 1])\n"
      ],
      "metadata": {
        "colab": {
          "base_uri": "https://localhost:8080/",
          "height": 509
        },
        "id": "AIhwoYqeo_Zf",
        "outputId": "85be325d-eedc-45ee-9bc0-9e97adc5ae3d"
      },
      "execution_count": 49,
      "outputs": [
        {
          "output_type": "stream",
          "name": "stderr",
          "text": [
            "WARNING:matplotlib.legend:No artists with labels found to put in legend.  Note that artists whose label start with an underscore are ignored when legend() is called with no argument.\n"
          ]
        },
        {
          "output_type": "display_data",
          "data": {
            "text/plain": [
              "<Figure size 640x480 with 1 Axes>"
            ],
            "image/png": "[encoded data removed]"
          },
          "metadata": {}
        }
      ]
    }
  ]
}