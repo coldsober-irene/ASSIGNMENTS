{
  "nbformat": 4,
  "nbformat_minor": 0,
  "metadata": {
    "colab": {
      "provenance": [],
      "mount_file_id": "1w_vPKfAR9HJ5mZWqqrXVxuiKVb9kbITx",
      "authorship_tag": "ABX9TyO4XC5bfOFaAEG+hOwOGvAX",
      "include_colab_link": true
    },
    "kernelspec": {
      "name": "python3",
      "display_name": "Python 3"
    },
    "language_info": {
      "name": "python"
    }
  },
  "cells": [
    {
      "cell_type": "markdown",
      "metadata": {
        "id": "view-in-github",
        "colab_type": "text"
      },
      "source": [
        "<a href=\"https://colab.research.google.com/github/coldsober-irene/ASSIGNMENTS/blob/main/EYEB.ipynb\" target=\"_parent\"><img src=\"https://colab.research.google.com/assets/colab-badge.svg\" alt=\"Open In Colab\"/></a>"
      ]
    },
    {
      "cell_type": "markdown",
      "source": [
        "#DETECT AGE AND GENDER OF SOMEONE IN A PHOTO USING DEEPFACE"
      ],
      "metadata": {
        "id": "K00ifukvbQlp"
      }
    },
    {
      "cell_type": "code",
      "source": [
        "import cv2\n",
        "from deepface import DeepFace"
      ],
      "metadata": {
        "id": "nO3eUEU2Zc4z"
      },
      "execution_count": 3,
      "outputs": []
    },
    {
      "cell_type": "markdown",
      "source": [],
      "metadata": {
        "id": "fR262yE-agoq"
      }
    },
    {
      "cell_type": "code",
      "source": [
        "im = cv2.imread('/content/drive/MyDrive/img/TEST2.jpg')\n",
        "out = DeepFace.analyze(im, actions = ('gender', 'age'))\n",
        "print(out)"
      ],
      "metadata": {
        "colab": {
          "base_uri": "https://localhost:8080/"
        },
        "id": "PBoOhYBlbyME",
        "outputId": "204f4be4-68ec-4635-ed96-99c11f19b3cb"
      },
      "execution_count": 5,
      "outputs": [
        {
          "output_type": "stream",
          "name": "stderr",
          "text": [
            "Action: age: 100%|██████████| 2/2 [00:01<00:00,  1.39it/s]"
          ]
        },
        {
          "output_type": "stream",
          "name": "stdout",
          "text": [
            "[{'gender': {'Woman': 57.65122175216675, 'Man': 42.34877824783325}, 'dominant_gender': 'Woman', 'region': {'x': 428, 'y': 657, 'w': 548, 'h': 548, 'left_eye': (157, 223), 'right_eye': (360, 207)}, 'face_confidence': 0.94, 'age': 32}]\n"
          ]
        },
        {
          "output_type": "stream",
          "name": "stderr",
          "text": [
            "\n"
          ]
        }
      ]
    }
  ]
}