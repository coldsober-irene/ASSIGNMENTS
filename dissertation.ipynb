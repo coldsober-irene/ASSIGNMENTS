{
  "nbformat": 4,
  "nbformat_minor": 0,
  "metadata": {
    "colab": {
      "provenance": [],
      "authorship_tag": "ABX9TyMilm4NXq+aYZrC1hwsRmxZ",
      "include_colab_link": true
    },
    "kernelspec": {
      "name": "python3",
      "display_name": "Python 3"
    },
    "language_info": {
      "name": "python"
    }
  },
  "cells": [
    {
      "cell_type": "markdown",
      "metadata": {
        "id": "view-in-github",
        "colab_type": "text"
      },
      "source": [
        "<a href=\"https://colab.research.google.com/github/coldsober-irene/ASSIGNMENTS/blob/main/dissertation.ipynb\" target=\"_parent\"><img src=\"https://colab.research.google.com/assets/colab-badge.svg\" alt=\"Open In Colab\"/></a>"
      ]
    },
    {
      "cell_type": "code",
      "source": [
        "import numpy as np\n",
        "import matplotlib.pyplot as plt\n",
        "from scipy.optimize import minimize\n",
        "from scipy.linalg import block_diag\n"
      ],
      "metadata": {
        "id": "lbM4bigqaxmr"
      },
      "execution_count": 47,
      "outputs": []
    },
    {
      "cell_type": "code",
      "source": [
        "%%capture\n",
        "!pip install control\n"
      ],
      "metadata": {
        "id": "UWGSNqehd9-3"
      },
      "execution_count": 50,
      "outputs": []
    },
    {
      "cell_type": "code",
      "source": [
        "# System parameters and simulation parameters\n",
        "A = np.array([[0.9638, 0.0162], [0.0162, 0.9627]])  # System matrix\n",
        "B = np.array([[0.0031, 0], [0, 0.0031]])  # Input matrix\n",
        "C = np.eye(2)\n",
        "Np = 50  # Prediction horizon\n",
        "Nc = 10"
      ],
      "metadata": {
        "id": "5lP4fHpidK57"
      },
      "execution_count": 48,
      "outputs": []
    },
    {
      "cell_type": "markdown",
      "source": [
        "#discretization"
      ],
      "metadata": {
        "id": "ZdbhyEEVeC5Z"
      }
    },
    {
      "cell_type": "code",
      "source": [
        "import numpy as np\n",
        "import control\n",
        "\n",
        "def c2d(Ac = np.array([[-0.370, 0.168], [0.168, -0.38]]),\n",
        "    Bc = np.array([[0.03125, 0], [0, 0.03125]]),\n",
        "    Cc = np.array([[1, 0], [0, 1]]),\n",
        "    Dc = np.array([[0, 0], [0, 0]]),\n",
        "    Ts = 0.1):\n",
        "\n",
        "    # Create a state-space system\n",
        "    sys_continuous = control.ss(Ac, Bc, Cc, Dc)\n",
        "    # Discretize the system\n",
        "    sys_discrete = sys_continuous.sample(Ts, method='zoh')\n",
        "\n",
        "    # The discretized system matrices can be accessed as follows:\n",
        "    Ad = sys_discrete.A\n",
        "    Bd = sys_discrete.B\n",
        "    Cd = sys_discrete.C\n",
        "    Dd = sys_discrete.D\n",
        "    return Ad, Bd, Cd, Dd\n",
        "\n",
        "def Augment(Ad, Bd, Cd):\n",
        "  # Get the sizes\n",
        "  row1, col1 = Cd.shape\n",
        "  d, cb = Bd.shape\n",
        "\n",
        "  # Create the augmented matrices\n",
        "  A = np.eye(col1 + row1)\n",
        "  A[:col1, :d] = Ad\n",
        "  A[:col1, col1:col1 + row1] = Bd\n",
        "\n",
        "  B = np.zeros((col1 + row1, cb))\n",
        "  B[:col1, :] = Bd\n",
        "  B[col1:col1 + d, :] = np.eye(d)\n",
        "\n",
        "  C = np.zeros((row1, col1 + row1))\n",
        "  C[:, :col1] = Cd\n",
        "  return A, B, C"
      ],
      "metadata": {
        "id": "6BJWJgUIdQWA"
      },
      "execution_count": 66,
      "outputs": []
    },
    {
      "cell_type": "markdown",
      "source": [
        "$Y = Fx(k_i) + \\Phi \\Delta U $\n",
        "\n",
        "computing $F$ and $\\Phi$"
      ],
      "metadata": {
        "id": "NaTGyY0xsAym"
      }
    },
    {
      "cell_type": "code",
      "source": [
        "Ad, Bd, Cd, _ = c2d()\n",
        "A, B, C = Augment(Ad, Bd, Cd)\n",
        "Np = 10"
      ],
      "metadata": {
        "id": "JOeXGyNntQsI"
      },
      "execution_count": 67,
      "outputs": []
    },
    {
      "cell_type": "code",
      "source": [
        "def ComputeF_Phi(A, B, C, Np):\n",
        "\n",
        "  \"\"\"A,B,C are the auPhimented matrices\n",
        "     Np prediction horizon Np > 8\n",
        "  \"\"\"\n",
        "  # Compute the sizes\n",
        "  F_r, F_c = np.shape(np.dot(C, A))\n",
        "\n",
        "  # Initialize F\n",
        "  F = np.zeros((Np*F_r, F_c))\n",
        "\n",
        "  # First row of F\n",
        "  F[:F_r, :] = np.dot(C, A)\n",
        "\n",
        "  # Compute the remaininPhi rows of F\n",
        "  for k in range(F_r, Np*F_r, F_r):\n",
        "      F[k:k+F_r, :] = np.dot(F[k-F_r:k, :], A)\n",
        "\n",
        "  # Compute the sizes\n",
        "  Phi_r, Phi_c = np.shape(np.dot(C, B))\n",
        "\n",
        "  # Initialize Phi\n",
        "  Phi = np.zeros((Np*Phi_r, Nc*Phi_c))\n",
        "\n",
        "  # First row of Phi\n",
        "  Phi[:Phi_r, :Phi_c] = np.dot(C, B)\n",
        "\n",
        "  # Compute the remaininPhi rows of Phi\n",
        "  for k in range(Phi_r, Np*Phi_r, Phi_r):\n",
        "      p = (k - Phi_r) // Phi_r + 1\n",
        "      Phi[k:k+Phi_r, :Phi_c] = np.dot(C, np.linalg.matrix_power(A, p).dot(B))\n",
        "\n",
        "  # Shift the columns of Phi\n",
        "  for k in range(Phi_c, Nc*Phi_c, Phi_c):\n",
        "      shift = Phi_r * (k - Phi_c) // Phi_c + Phi_r\n",
        "      Phi[:, k:k+Phi_c] = np.roll(Phi[:, :Phi_c], shift)\n",
        "      Phi[:shift, k:k+Phi_c] = np.zeros((shift, Phi_c))\n",
        "  return F, Phi"
      ],
      "metadata": {
        "id": "f6S_GgjueOxE"
      },
      "execution_count": 77,
      "outputs": []
    },
    {
      "cell_type": "code",
      "source": [
        "F, Phi = ComputeF_Phi(A, B, C, Np = 10)\n",
        "Phi"
      ],
      "metadata": {
        "id": "UIh4uAddwBGT"
      },
      "execution_count": null,
      "outputs": []
    }
  ]
}