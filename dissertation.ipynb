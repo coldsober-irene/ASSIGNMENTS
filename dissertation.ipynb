{
  "nbformat": 4,
  "nbformat_minor": 0,
  "metadata": {
    "colab": {
      "provenance": [],
      "authorship_tag": "ABX9TyPqOkNSy/68BeJWRJ+8crrm",
      "include_colab_link": true
    },
    "kernelspec": {
      "name": "python3",
      "display_name": "Python 3"
    },
    "language_info": {
      "name": "python"
    }
  },
  "cells": [
    {
      "cell_type": "markdown",
      "metadata": {
        "id": "view-in-github",
        "colab_type": "text"
      },
      "source": [
        "<a href=\"https://colab.research.google.com/github/coldsober-irene/ASSIGNMENTS/blob/main/dissertation.ipynb\" target=\"_parent\"><img src=\"https://colab.research.google.com/assets/colab-badge.svg\" alt=\"Open In Colab\"/></a>"
      ]
    },
    {
      "cell_type": "code",
      "source": [
        "import numpy as np\n",
        "import matplotlib.pyplot as plt\n",
        "from scipy.optimize import minimize\n",
        "from scipy.linalg import block_diag\n"
      ],
      "metadata": {
        "id": "lbM4bigqaxmr"
      },
      "execution_count": 20,
      "outputs": []
    },
    {
      "cell_type": "code",
      "source": [
        "%%capture\n",
        "!pip install control\n"
      ],
      "metadata": {
        "id": "UWGSNqehd9-3"
      },
      "execution_count": 21,
      "outputs": []
    },
    {
      "cell_type": "code",
      "source": [
        "# System parameters and simulation parameters\n",
        "A = np.array([[0.9638, 0.0162], [0.0162, 0.9627]])  # System matrix\n",
        "B = np.array([[0.0031, 0], [0, 0.0031]])  # Input matrix\n",
        "C = np.eye(2)\n",
        "Np = 50  # Prediction horizon\n",
        "Nc = 10"
      ],
      "metadata": {
        "id": "5lP4fHpidK57"
      },
      "execution_count": 22,
      "outputs": []
    },
    {
      "cell_type": "markdown",
      "source": [
        "#discretization"
      ],
      "metadata": {
        "id": "ZdbhyEEVeC5Z"
      }
    },
    {
      "cell_type": "code",
      "source": [
        "import numpy as np\n",
        "import control\n",
        "\n",
        "def c2d(Ac = np.array([[-0.370, 0.168], [0.168, -0.38]]),\n",
        "    Bc = np.array([[0.03125, 0], [0, 0.03125]]),\n",
        "    Cc = np.array([[1, 0], [0, 1]]),\n",
        "    Dc = np.array([[0, 0], [0, 0]]),\n",
        "    Ts = 0.1):\n",
        "\n",
        "    # Create a state-space system\n",
        "    sys_continuous = control.ss(Ac, Bc, Cc, Dc)\n",
        "    # Discretize the system\n",
        "    sys_discrete = sys_continuous.sample(Ts, method='zoh')\n",
        "\n",
        "    # The discretized system matrices can be accessed as follows:\n",
        "    Ad = sys_discrete.A\n",
        "    Bd = sys_discrete.B\n",
        "    Cd = sys_discrete.C\n",
        "    Dd = sys_discrete.D\n",
        "    return Ad, Bd, Cd, Dd\n",
        "\n",
        "def Augment(Ad, Bd, Cd):\n",
        "  # Get the sizes\n",
        "  row1, col1 = Cd.shape\n",
        "  d, cb = Bd.shape\n",
        "\n",
        "  # Create the augmented matrices\n",
        "  A = np.eye(col1 + row1)\n",
        "  A[:col1, :d] = Ad\n",
        "  A[:col1, col1:col1 + row1] = Bd\n",
        "\n",
        "  B = np.zeros((col1 + row1, cb))\n",
        "  B[:col1, :] = Bd\n",
        "  B[col1:col1 + d, :] = np.eye(d)\n",
        "\n",
        "  C = np.zeros((row1, col1 + row1))\n",
        "  C[:, :col1] = Cd\n",
        "  return A, B, C"
      ],
      "metadata": {
        "id": "6BJWJgUIdQWA"
      },
      "execution_count": 23,
      "outputs": []
    },
    {
      "cell_type": "markdown",
      "source": [
        "$Y = Fx(k_i) + \\Phi \\Delta U $\n",
        "\n",
        "computing $F$ and $\\Phi$"
      ],
      "metadata": {
        "id": "NaTGyY0xsAym"
      }
    },
    {
      "cell_type": "code",
      "source": [
        "Ad, Bd, Cd, _ = c2d()\n",
        "A, B, C = Augment(Ad, Bd, Cd)\n",
        "Np = 10"
      ],
      "metadata": {
        "id": "JOeXGyNntQsI"
      },
      "execution_count": 24,
      "outputs": []
    },
    {
      "cell_type": "code",
      "source": [
        "def ComputeF_Phi(A, B, C, Np):\n",
        "\n",
        "  \"\"\"A,B,C are the auPhimented matrices\n",
        "     Np prediction horizon Np > 8\n",
        "  \"\"\"\n",
        "  # Compute the sizes\n",
        "  F_r, F_c = np.shape(np.dot(C, A))\n",
        "\n",
        "  # Initialize F\n",
        "  F = np.zeros((Np*F_r, F_c))\n",
        "\n",
        "  # First row of F\n",
        "  F[:F_r, :] = np.dot(C, A)\n",
        "\n",
        "  # Compute the remaininPhi rows of F\n",
        "  for k in range(F_r, Np*F_r, F_r):\n",
        "      F[k:k+F_r, :] = np.dot(F[k-F_r:k, :], A)\n",
        "\n",
        "  # Compute the sizes\n",
        "  Phi_r, Phi_c = np.shape(np.dot(C, B))\n",
        "\n",
        "  # Initialize Phi\n",
        "  Phi = np.zeros((Np*Phi_r, Nc*Phi_c))\n",
        "\n",
        "  # First row of Phi\n",
        "  Phi[:Phi_r, :Phi_c] = np.dot(C, B)\n",
        "\n",
        "  # Compute the remaininPhi rows of Phi\n",
        "  for k in range(Phi_r, Np*Phi_r, Phi_r):\n",
        "      p = (k - Phi_r) // Phi_r + 1\n",
        "      Phi[k:k+Phi_r, :Phi_c] = np.dot(C, np.linalg.matrix_power(A, p).dot(B))\n",
        "\n",
        "  # Shift the columns of Phi\n",
        "  for k in range(Phi_c, Nc*Phi_c, Phi_c):\n",
        "      shift = Phi_r * (k - Phi_c) // Phi_c + Phi_r\n",
        "      Phi[:, k:k+Phi_c] = np.roll(Phi[:, :Phi_c], shift)\n",
        "      Phi[:shift, k:k+Phi_c] = np.zeros((shift, Phi_c))\n",
        "  return F, Phi"
      ],
      "metadata": {
        "id": "f6S_GgjueOxE"
      },
      "execution_count": 25,
      "outputs": []
    },
    {
      "cell_type": "code",
      "source": [
        "F, Phi = ComputeF_Phi(A, B, C, Np = 10)\n",
        "Phi"
      ],
      "metadata": {
        "colab": {
          "base_uri": "https://localhost:8080/"
        },
        "id": "UIh4uAddwBGT",
        "outputId": "06abb32d-d740-4fcb-bf32-6ea18a6b1493"
      },
      "execution_count": 26,
      "outputs": [
        {
          "output_type": "execute_result",
          "data": {
            "text/plain": [
              "array([[3.06803692e-03, 2.56034866e-05, 0.00000000e+00, 0.00000000e+00,\n",
              "        0.00000000e+00, 0.00000000e+00, 0.00000000e+00, 0.00000000e+00,\n",
              "        0.00000000e+00, 0.00000000e+00, 0.00000000e+00, 0.00000000e+00,\n",
              "        0.00000000e+00, 0.00000000e+00, 0.00000000e+00, 0.00000000e+00,\n",
              "        0.00000000e+00, 0.00000000e+00, 0.00000000e+00, 0.00000000e+00],\n",
              "       [2.56034866e-05, 3.06651290e-03, 0.00000000e+00, 0.00000000e+00,\n",
              "        0.00000000e+00, 0.00000000e+00, 0.00000000e+00, 0.00000000e+00,\n",
              "        0.00000000e+00, 0.00000000e+00, 0.00000000e+00, 0.00000000e+00,\n",
              "        0.00000000e+00, 0.00000000e+00, 0.00000000e+00, 0.00000000e+00,\n",
              "        0.00000000e+00, 0.00000000e+00, 0.00000000e+00, 0.00000000e+00],\n",
              "       [6.02546232e-03, 9.99040611e-05, 2.56034866e-05, 3.06651290e-03,\n",
              "        0.00000000e+00, 0.00000000e+00, 0.00000000e+00, 0.00000000e+00,\n",
              "        0.00000000e+00, 0.00000000e+00, 0.00000000e+00, 0.00000000e+00,\n",
              "        0.00000000e+00, 0.00000000e+00, 0.00000000e+00, 0.00000000e+00,\n",
              "        0.00000000e+00, 0.00000000e+00, 0.00000000e+00, 0.00000000e+00],\n",
              "       [9.99040611e-05, 6.01951565e-03, 6.02546232e-03, 9.99040611e-05,\n",
              "        0.00000000e+00, 0.00000000e+00, 0.00000000e+00, 0.00000000e+00,\n",
              "        0.00000000e+00, 0.00000000e+00, 0.00000000e+00, 0.00000000e+00,\n",
              "        0.00000000e+00, 0.00000000e+00, 0.00000000e+00, 0.00000000e+00,\n",
              "        0.00000000e+00, 0.00000000e+00, 0.00000000e+00, 0.00000000e+00],\n",
              "       [8.87706702e-03, 2.19302607e-04, 9.99040611e-05, 6.01951565e-03,\n",
              "        6.02546232e-03, 9.99040611e-05, 0.00000000e+00, 0.00000000e+00,\n",
              "        0.00000000e+00, 0.00000000e+00, 0.00000000e+00, 0.00000000e+00,\n",
              "        0.00000000e+00, 0.00000000e+00, 0.00000000e+00, 0.00000000e+00,\n",
              "        0.00000000e+00, 0.00000000e+00, 0.00000000e+00, 0.00000000e+00],\n",
              "       [2.19302607e-04, 8.86401330e-03, 8.87706702e-03, 2.19302607e-04,\n",
              "        9.99040611e-05, 6.01951565e-03, 0.00000000e+00, 0.00000000e+00,\n",
              "        0.00000000e+00, 0.00000000e+00, 0.00000000e+00, 0.00000000e+00,\n",
              "        0.00000000e+00, 0.00000000e+00, 0.00000000e+00, 0.00000000e+00,\n",
              "        0.00000000e+00, 0.00000000e+00, 0.00000000e+00, 0.00000000e+00],\n",
              "       [1.16274103e-02, 3.80411248e-04, 2.19302607e-04, 8.86401330e-03,\n",
              "        8.87706702e-03, 2.19302607e-04, 9.99040611e-05, 6.01951565e-03,\n",
              "        0.00000000e+00, 0.00000000e+00, 0.00000000e+00, 0.00000000e+00,\n",
              "        0.00000000e+00, 0.00000000e+00, 0.00000000e+00, 0.00000000e+00,\n",
              "        0.00000000e+00, 0.00000000e+00, 0.00000000e+00, 0.00000000e+00],\n",
              "       [3.80411248e-04, 1.16047667e-02, 1.16274103e-02, 3.80411248e-04,\n",
              "        2.19302607e-04, 8.86401330e-03, 8.87706702e-03, 2.19302607e-04,\n",
              "        0.00000000e+00, 0.00000000e+00, 0.00000000e+00, 0.00000000e+00,\n",
              "        0.00000000e+00, 0.00000000e+00, 0.00000000e+00, 0.00000000e+00,\n",
              "        0.00000000e+00, 0.00000000e+00, 0.00000000e+00, 0.00000000e+00],\n",
              "       [1.42808315e-02, 5.80041749e-04, 3.80411248e-04, 1.16047667e-02,\n",
              "        1.16274103e-02, 3.80411248e-04, 2.19302607e-04, 8.86401330e-03,\n",
              "        8.87706702e-03, 2.19302607e-04, 0.00000000e+00, 0.00000000e+00,\n",
              "        0.00000000e+00, 0.00000000e+00, 0.00000000e+00, 0.00000000e+00,\n",
              "        0.00000000e+00, 0.00000000e+00, 0.00000000e+00, 0.00000000e+00],\n",
              "       [5.80041749e-04, 1.42463052e-02, 1.42808315e-02, 5.80041749e-04,\n",
              "        3.80411248e-04, 1.16047667e-02, 1.16274103e-02, 3.80411248e-04,\n",
              "        2.19302607e-04, 8.86401330e-03, 0.00000000e+00, 0.00000000e+00,\n",
              "        0.00000000e+00, 0.00000000e+00, 0.00000000e+00, 0.00000000e+00,\n",
              "        0.00000000e+00, 0.00000000e+00, 0.00000000e+00, 0.00000000e+00],\n",
              "       [1.68414614e-02, 8.15194544e-04, 5.80041749e-04, 1.42463052e-02,\n",
              "        1.42808315e-02, 5.80041749e-04, 3.80411248e-04, 1.16047667e-02,\n",
              "        1.16274103e-02, 3.80411248e-04, 2.19302607e-04, 8.86401330e-03,\n",
              "        0.00000000e+00, 0.00000000e+00, 0.00000000e+00, 0.00000000e+00,\n",
              "        0.00000000e+00, 0.00000000e+00, 0.00000000e+00, 0.00000000e+00],\n",
              "       [8.15194544e-04, 1.67929379e-02, 1.68414614e-02, 8.15194544e-04,\n",
              "        5.80041749e-04, 1.42463052e-02, 1.42808315e-02, 5.80041749e-04,\n",
              "        3.80411248e-04, 1.16047667e-02, 1.16274103e-02, 3.80411248e-04,\n",
              "        0.00000000e+00, 0.00000000e+00, 0.00000000e+00, 0.00000000e+00,\n",
              "        0.00000000e+00, 0.00000000e+00, 0.00000000e+00, 0.00000000e+00],\n",
              "       [1.93132328e-02, 1.08304835e-03, 8.15194544e-04, 1.67929379e-02,\n",
              "        1.68414614e-02, 8.15194544e-04, 5.80041749e-04, 1.42463052e-02,\n",
              "        1.42808315e-02, 5.80041749e-04, 3.80411248e-04, 1.16047667e-02,\n",
              "        1.16274103e-02, 3.80411248e-04, 0.00000000e+00, 0.00000000e+00,\n",
              "        0.00000000e+00, 0.00000000e+00, 0.00000000e+00, 0.00000000e+00],\n",
              "       [1.08304835e-03, 1.92487656e-02, 1.93132328e-02, 1.08304835e-03,\n",
              "        8.15194544e-04, 1.67929379e-02, 1.68414614e-02, 8.15194544e-04,\n",
              "        5.80041749e-04, 1.42463052e-02, 1.42808315e-02, 5.80041749e-04,\n",
              "        3.80411248e-04, 1.16047667e-02, 0.00000000e+00, 0.00000000e+00,\n",
              "        0.00000000e+00, 0.00000000e+00, 0.00000000e+00, 0.00000000e+00],\n",
              "       [2.16998905e-02, 1.38095034e-03, 1.08304835e-03, 1.92487656e-02,\n",
              "        1.93132328e-02, 1.08304835e-03, 8.15194544e-04, 1.67929379e-02,\n",
              "        1.68414614e-02, 8.15194544e-04, 5.80041749e-04, 1.42463052e-02,\n",
              "        1.42808315e-02, 5.80041749e-04, 3.80411248e-04, 1.16047667e-02,\n",
              "        0.00000000e+00, 0.00000000e+00, 0.00000000e+00, 0.00000000e+00],\n",
              "       [1.38095034e-03, 2.16176911e-02, 2.16998905e-02, 1.38095034e-03,\n",
              "        1.08304835e-03, 1.92487656e-02, 1.93132328e-02, 1.08304835e-03,\n",
              "        8.15194544e-04, 1.67929379e-02, 1.68414614e-02, 8.15194544e-04,\n",
              "        5.80041749e-04, 1.42463052e-02, 1.42808315e-02, 5.80041749e-04,\n",
              "        0.00000000e+00, 0.00000000e+00, 0.00000000e+00, 0.00000000e+00],\n",
              "       [2.40050008e-02, 1.70640685e-03, 1.38095034e-03, 2.16176911e-02,\n",
              "        2.16998905e-02, 1.38095034e-03, 1.08304835e-03, 1.92487656e-02,\n",
              "        1.93132328e-02, 1.08304835e-03, 8.15194544e-04, 1.67929379e-02,\n",
              "        1.68414614e-02, 8.15194544e-04, 5.80041749e-04, 1.42463052e-02,\n",
              "        1.42808315e-02, 5.80041749e-04, 0.00000000e+00, 0.00000000e+00],\n",
              "       [1.70640685e-03, 2.39034289e-02, 2.40050008e-02, 1.70640685e-03,\n",
              "        1.38095034e-03, 2.16176911e-02, 2.16998905e-02, 1.38095034e-03,\n",
              "        1.08304835e-03, 1.92487656e-02, 1.93132328e-02, 1.08304835e-03,\n",
              "        8.15194544e-04, 1.67929379e-02, 1.68414614e-02, 8.15194544e-04,\n",
              "        5.80041749e-04, 1.42463052e-02, 0.00000000e+00, 0.00000000e+00],\n",
              "       [2.62319606e-02, 2.05707456e-03, 1.70640685e-03, 2.39034289e-02,\n",
              "        2.40050008e-02, 1.70640685e-03, 1.38095034e-03, 2.16176911e-02,\n",
              "        2.16998905e-02, 1.38095034e-03, 1.08304835e-03, 1.92487656e-02,\n",
              "        1.93132328e-02, 1.08304835e-03, 8.15194544e-04, 1.67929379e-02,\n",
              "        1.68414614e-02, 8.15194544e-04, 5.80041749e-04, 1.42463052e-02],\n",
              "       [2.05707456e-03, 2.61095157e-02, 2.62319606e-02, 2.05707456e-03,\n",
              "        1.70640685e-03, 2.39034289e-02, 2.40050008e-02, 1.70640685e-03,\n",
              "        1.38095034e-03, 2.16176911e-02, 2.16998905e-02, 1.38095034e-03,\n",
              "        1.08304835e-03, 1.92487656e-02, 1.93132328e-02, 1.08304835e-03,\n",
              "        8.15194544e-04, 1.67929379e-02, 1.68414614e-02, 8.15194544e-04]])"
            ]
          },
          "metadata": {},
          "execution_count": 26
        }
      ]
    },
    {
      "cell_type": "markdown",
      "source": [
        "#MPC implementation ↓"
      ],
      "metadata": {
        "id": "zU62kvkm0nRy"
      }
    },
    {
      "cell_type": "code",
      "source": [
        "!pip install quadprog\n",
        "!pip install qpsolvers"
      ],
      "metadata": {
        "colab": {
          "base_uri": "https://localhost:8080/"
        },
        "id": "LlZg-eTtHedI",
        "outputId": "7ff6413d-d9d5-4202-f734-59e7ec83725d"
      },
      "execution_count": 27,
      "outputs": [
        {
          "output_type": "stream",
          "name": "stdout",
          "text": [
            "Requirement already satisfied: quadprog in /usr/local/lib/python3.10/dist-packages (0.1.11)\n",
            "Requirement already satisfied: numpy in /usr/local/lib/python3.10/dist-packages (from quadprog) (1.23.5)\n"
          ]
        }
      ]
    },
    {
      "cell_type": "code",
      "source": [
        "import numpy as np\n",
        "from scipy.optimize import minimize\n",
        "from quadprog import solve_qp\n",
        "from qpsolvers import Problem, solve_problem\n",
        "\n",
        "# Assuming A, B, C, D, Np, Nc, ref_1, ref_2, G, phi, x(k), lambda_, I are already defined\n",
        "# Compute the sizes\n",
        "Nc = 10\n",
        "S2 = np.zeros((2*Nc, 2*Nc))\n",
        "\n",
        "for p in range(0, 2*Nc, 2):\n",
        "    for q in range(0, p+2, 2):\n",
        "        S2[p:p+2, q:q+2] = np.eye(2)\n",
        "\n",
        "# S1 matrix calculation\n",
        "# S1 = []\n",
        "# for k in range(0, 2*Nc, 2):\n",
        "#     S1 = np.vstack((S1, np.eye(2)))\n",
        "S1 = np.empty((0, 2))\n",
        "\n",
        "for k in range(0, 2*Nc, 2):\n",
        "    S1 = np.vstack((S1, np.eye(2)))\n",
        "# Initialize sensor readings\n",
        "# sampling_rate = 30\n",
        "# samples_trigger = 30\n",
        "# Assuming sensor_reading_volts and conversion_reg are already defined\n",
        "# sensordata = sensor_reading_volts(sampling_rate, samples_trigger)\n",
        "# sensordata = np.mean(sensordata[20:30, :])\n",
        "# converted_value_tank1 = conversion_reg(sensordata[0], 1, 0, 3)\n",
        "# converted_value_tank2 = conversion_reg(sensordata[1], 1, 2, 3)\n",
        "H1_initial = 2.5\n",
        "H2_initial = 3.2\n",
        "ref_1 = 18 # cm\n",
        "ref_2 = 15 # cm\n",
        "lambda_ = 3.5\n",
        "Xm = np.array([H1_initial, H2_initial])\n",
        "\n",
        "# Initialize plant\n",
        "Uplant = np.array([1.5, 3.5])\n",
        "Yplant = np.array([H1_initial, H2_initial])\n",
        "Uk = Uplant\n",
        "Yk = Yplant\n",
        "\n",
        "# Initialize data\n",
        "U1data = []\n",
        "Y1data = []\n",
        "U2data = []\n",
        "Y2data = []\n",
        "Xdata = []\n",
        "ref_1data = []\n",
        "ref_2data = []\n",
        "tdata = []\n",
        "\n",
        "# Initialize constraints\n",
        "U_min = np.zeros(2*Nc)\n",
        "U_max = 35*np.ones(2*Nc)\n",
        "deltaU_min = -0.5*np.ones(2*Nc)\n",
        "deltaU_max = 1.5*np.ones(2*Nc)\n",
        "Y_min1 = np.zeros(Np)\n",
        "Y_min2 = np.zeros(Np)\n",
        "Y_min = np.zeros(2*Np)\n",
        "for ay in range(0, 2*Np, 2):\n",
        "    Y_min[ay] = Y_min1[ay//2]\n",
        "for ax in range(1, 2*Np, 2):\n",
        "    Y_min[ax] = Y_min2[ax//2]\n",
        "Y_max1 = (ref_1+1)*np.ones(Np)\n",
        "Y_max2 = (ref_2+1)*np.ones(Np)\n",
        "Y_max = np.zeros(2*Np)\n",
        "for by in range(0, 2*Np, 2):\n",
        "    Y_max[by] = Y_max1[by//2]\n",
        "for bx in range(1, 2*Np, 2):\n",
        "    Y_max[bx] = Y_max2[bx//2]\n",
        "\n",
        "# Reference output trajectory\n",
        "R1 = ref_1*np.ones(Np)\n",
        "R2 = ref_2*np.ones(Np)\n",
        "R = np.zeros(2*Np)\n",
        "for cy in range(0, 2*Np, 2):\n",
        "    R[cy] = R1[cy//2]\n",
        "for cx in range(1, 2*Np, 2):\n",
        "    R[cx] = R2[cx//2]\n",
        "\n",
        "# Initial state vector\n",
        "Ef = np.array([0, 0, H1_initial, H2_initial])\n",
        "Ref_1 = ref_1  # reference output\n",
        "Ref_2 = ref_2  # reference output\n",
        "I = np.eye(2*Nc)\n",
        "\n",
        "# J matrix formulation\n",
        "J = np.vstack((-S2, S2, -I, I, -Phi, Phi))\n",
        "\n",
        "# Q matrix formulation\n",
        "# Q = np.dot(Phi.T, Phi) + lambda_*np.eye(np.shape(np.dot(Phi.T, Phi)))\n",
        "Q = np.dot(Phi.T, Phi) + lambda_ * np.eye(np.shape(np.dot(Phi.T, Phi))[0])\n",
        "\n",
        "\n",
        "# Iteration\n",
        "iter_start = 1\n",
        "iter_end = 180\n",
        "for k in range(iter_start, iter_end+1):\n",
        "    g = np.concatenate((-U_min + np.dot(S1, Uk), U_max - np.dot(S1, Uk),\n",
        "                        -deltaU_min, deltaU_max, np.dot(F, Ef) - Y_min, -np.dot(F, Ef) + Y_max))\n",
        "    c = np.dot(Phi.T, np.dot(F, Ef) - R)\n",
        "    # c = Phi.T @ ((F @ Ef) - R)\n",
        "    # print(\"C    .......\")\n",
        "    # print(c, len(c))\n",
        "    # print('Q : ', Q.shape)\n",
        "    # OPTIMIZATION\n",
        "    problem = Problem(Q, c, J, g)\n",
        "    delta_U = solve_problem(problem, solver=\"quadprog\")\n",
        "    # delta_U = solve_qp(Q,c, J, g)\n",
        "    solution = delta_U.x\n",
        "    Uapplied = solution[:2]\n",
        "    Uplant = Uplant + Uapplied\n",
        "    Uk = Uplant\n",
        "\n",
        "    # Introducing constant input disturbance in motor 1\n",
        "    if 90 <= k <= 105:\n",
        "        Uk_output = Uplant + np.array([-1.0, 0.0])\n",
        "    # Introducing constant input disturbance in motor 2\n",
        "    elif 180 <= k <= 195:\n",
        "        Uk_output = Uplant + np.array([0.0, -2.5])\n",
        "    else:\n",
        "        Uk_output = Uplant\n",
        "\n",
        "    tank1data = Uk_output[0]\n",
        "    tank2data = Uk_output[1]\n",
        "    print(f\"TANK 1: {tank1data}\")\n",
        "    print(f\"TANK 1: {tank2data}\")\n",
        "    # ADDED CODES AFTER SUCCESSFUL RUN\n",
        "    Yk=Xm\n",
        "    Xm_old = Xm\n",
        "    # now read new values and update xm and Yplant\n",
        "    # [sensordata]=sensor_reading_volts(samplingrate,samples_trigger);\n",
        "    # sensordata=mean(sensordata(21:30,:));\n",
        "    # [converted_value_tank1]=conversion_reg(sensordata(1,1),1,0,3);\n",
        "    # [converted_value_tank2]=conversion_reg(sensordata(1,2),1,2,3);\n",
        "    # Xm = [(converted_value_tank1/10);(converted_value_tank2/10)];\n",
        "    tdata.append(k-1)\n",
        "    ref_1data.append(Ref_1)\n",
        "    ref_2data.append(Ref_2)\n",
        "    Y1data.append(Yk[0])\n",
        "    print(f\"Yk[0: 1] = {Uk}\")\n",
        "    U1data.append(Uk[0])\n",
        "    Y2data.append(Yk[1])\n",
        "    U2data.append(Uk[1])\n",
        "    print(f\"Ef: {Ef}\")\n",
        "    Yk = (F @ Ef) + (Phi @ delta_U);\n",
        "    Yplant = Yk[:2,0];\n",
        "    Ef.append([Xm-Xm_old, Xm])\n"
      ],
      "metadata": {
        "colab": {
          "base_uri": "https://localhost:8080/",
          "height": 331
        },
        "id": "O6wrSZ2y0qeR",
        "outputId": "091aff0f-5448-46ef-fd66-7591da61bbbf"
      },
      "execution_count": 70,
      "outputs": [
        {
          "output_type": "stream",
          "name": "stdout",
          "text": [
            "TANK 1: 2.3120655542892705\n",
            "TANK 1: 4.186422861313903\n",
            "Yk[0: 1] = [2.31206555 4.18642286]\n",
            "Ef: [0.  0.  2.5 3.2]\n"
          ]
        },
        {
          "output_type": "error",
          "ename": "ValueError",
          "evalue": "matmul: Input operand 1 does not have enough dimensions (has 0, gufunc core with signature (n?,k),(k,m?)->(n?,m?) requires 1)",
          "traceback": [
            "\u001b[0;31m---------------------------------------------------------------------------\u001b[0m",
            "\u001b[0;31mValueError\u001b[0m                                Traceback (most recent call last)",
            "\u001b[0;32m<ipython-input-70-1b3989a43ffd>\u001b[0m in \u001b[0;36m<cell line: 100>\u001b[0;34m()\u001b[0m\n\u001b[1;32m    146\u001b[0m     \u001b[0mU2data\u001b[0m\u001b[0;34m.\u001b[0m\u001b[0mappend\u001b[0m\u001b[0;34m(\u001b[0m\u001b[0mUk\u001b[0m\u001b[0;34m[\u001b[0m\u001b[0;36m1\u001b[0m\u001b[0;34m]\u001b[0m\u001b[0;34m)\u001b[0m\u001b[0;34m\u001b[0m\u001b[0;34m\u001b[0m\u001b[0m\n\u001b[1;32m    147\u001b[0m     \u001b[0mprint\u001b[0m\u001b[0;34m(\u001b[0m\u001b[0;34mf\"Ef: {Ef}\"\u001b[0m\u001b[0;34m)\u001b[0m\u001b[0;34m\u001b[0m\u001b[0;34m\u001b[0m\u001b[0m\n\u001b[0;32m--> 148\u001b[0;31m     \u001b[0mYk\u001b[0m \u001b[0;34m=\u001b[0m \u001b[0;34m(\u001b[0m\u001b[0mF\u001b[0m \u001b[0;34m@\u001b[0m \u001b[0mEf\u001b[0m\u001b[0;34m)\u001b[0m \u001b[0;34m+\u001b[0m \u001b[0;34m(\u001b[0m\u001b[0mPhi\u001b[0m \u001b[0;34m@\u001b[0m \u001b[0mdelta_U\u001b[0m\u001b[0;34m)\u001b[0m\u001b[0;34m;\u001b[0m\u001b[0;34m\u001b[0m\u001b[0;34m\u001b[0m\u001b[0m\n\u001b[0m\u001b[1;32m    149\u001b[0m     \u001b[0mYplant\u001b[0m \u001b[0;34m=\u001b[0m \u001b[0mYk\u001b[0m\u001b[0;34m[\u001b[0m\u001b[0;34m:\u001b[0m\u001b[0;36m2\u001b[0m\u001b[0;34m,\u001b[0m\u001b[0;36m0\u001b[0m\u001b[0;34m]\u001b[0m\u001b[0;34m;\u001b[0m\u001b[0;34m\u001b[0m\u001b[0;34m\u001b[0m\u001b[0m\n\u001b[1;32m    150\u001b[0m     \u001b[0mEf\u001b[0m\u001b[0;34m.\u001b[0m\u001b[0mappend\u001b[0m\u001b[0;34m(\u001b[0m\u001b[0;34m[\u001b[0m\u001b[0mXm\u001b[0m\u001b[0;34m-\u001b[0m\u001b[0mXm_old\u001b[0m\u001b[0;34m,\u001b[0m \u001b[0mXm\u001b[0m\u001b[0;34m]\u001b[0m\u001b[0;34m)\u001b[0m\u001b[0;34m\u001b[0m\u001b[0;34m\u001b[0m\u001b[0m\n",
            "\u001b[0;31mValueError\u001b[0m: matmul: Input operand 1 does not have enough dimensions (has 0, gufunc core with signature (n?,k),(k,m?)->(n?,m?) requires 1)"
          ]
        }
      ]
    },
    {
      "cell_type": "markdown",
      "source": [
        "#draft ↓"
      ],
      "metadata": {
        "id": "UzQA4jP5xIrH"
      }
    },
    {
      "cell_type": "code",
      "source": [
        "!pip install qpsolvers"
      ],
      "metadata": {
        "id": "FK7KMDgftHrd"
      },
      "execution_count": null,
      "outputs": []
    },
    {
      "cell_type": "code",
      "source": [
        "import numpy as np\n",
        "from qpsolvers import Problem, solve_problem\n",
        "\n",
        "M = np.array([[1., 2., 0.], [-8., 3., 2.], [0., 1., 1.]])\n",
        "P = M.T.dot(M)  # quick way to build a symmetric matrix\n",
        "q = np.array([3., 2., 3.]).dot(M).reshape((3,))\n",
        "G = np.array([[1., 2., 1.], [2., 0., 1.], [-1., 2., -1.]])\n",
        "h = np.array([3., 2., -2.]).reshape((3,))\n",
        "A = np.array([1., 1., 1.])\n",
        "b = np.array([1.])\n",
        "lb = -0.6 * np.ones(3)\n",
        "ub = +0.7 * np.ones(3)\n",
        "\n",
        "problem = Problem(P, q, G, h, A, b, lb, ub)\n",
        "print(f\"P: {P.shape}   Q: {Q.shape}  G: {G.shape}\")\n",
        "solution = solve_problem(problem, solver=\"quadprog\")\n",
        "\n",
        "print(f\"- Solution is{'' if solution.is_optimal(1e-8) else ' NOT'} optimal\")\n",
        "print(f\"- Primal residual: {solution.primal_residual():.1e}\")\n",
        "print(f\"- Dual residual: {solution.dual_residual():.1e}\")\n",
        "print(f\"- Duality gap: {solution.duality_gap():.1e}\")"
      ],
      "metadata": {
        "colab": {
          "base_uri": "https://localhost:8080/"
        },
        "id": "FdOTA3LvNx-P",
        "outputId": "5cef0862-bea4-4e3a-f67d-439dafd7d489"
      },
      "execution_count": 54,
      "outputs": [
        {
          "output_type": "stream",
          "name": "stdout",
          "text": [
            "P: (3, 3)   Q: (20, 20)  G: (3, 3)\n",
            "- Solution is optimal\n",
            "- Primal residual: 1.1e-16\n",
            "- Dual residual: 1.4e-14\n",
            "- Duality gap: 0.0e+00\n"
          ]
        }
      ]
    },
    {
      "cell_type": "markdown",
      "source": [
        "#*Cipher*"
      ],
      "metadata": {
        "id": "kkRJnMqKoLrN"
      }
    },
    {
      "cell_type": "code",
      "source": [
        "from string import ascii_uppercase, ascii_lowercase"
      ],
      "metadata": {
        "id": "jkMHNQPFqtrb"
      },
      "execution_count": null,
      "outputs": []
    },
    {
      "cell_type": "code",
      "source": [
        "ijambo = 'irene akunda kwiga'"
      ],
      "metadata": {
        "id": "O-EQApYxo72X"
      },
      "execution_count": null,
      "outputs": []
    },
    {
      "cell_type": "code",
      "source": [
        "def f1(func):\n",
        "  def show(*x):\n",
        "    print(\"Function called: \", func.__name__)\n",
        "    func(x)\n",
        "\n",
        "  return show\n",
        "\n",
        "@f1\n",
        "def one(x):\n",
        "  print(f\"decorated: {x}\")\n",
        "one(30, 90)"
      ],
      "metadata": {
        "id": "oAtbtb9WrsVl"
      },
      "execution_count": null,
      "outputs": []
    },
    {
      "cell_type": "code",
      "source": [
        "import numpy as np\n",
        "from quadprog import solve_qp\n",
        "\n",
        "# Define the quadratic programming problem in the form:\n",
        "# min 0.5 * x^T * G * x + a^T * x\n",
        "# s.t. C * x >= b\n",
        "\n",
        "G = np.array([[1.0, 0.0], [0.0, 1.0]])  # Objective function quadratic term\n",
        "a = np.array([0.0, 0.0])                  # Objective function linear term\n",
        "\n",
        "C = np.array([[1.0, 2.0], [2.0, 1.0]])   # Inequality constraints matrix\n",
        "b = np.array([3.0, 2.0])                  # Inequality constraints vector\n",
        "\n",
        "# Solve the quadratic programming problem\n",
        "x, f, xu, status = solve_qp(G, a, C.T, -b)\n",
        "\n",
        "# Display the results\n",
        "print(\"Solution:\", x)\n",
        "print(\"Optimal value:\", f)\n",
        "print(\"Status:\", status)\n"
      ],
      "metadata": {
        "id": "qiO9DUbEHqUe"
      },
      "execution_count": null,
      "outputs": []
    },
    {
      "cell_type": "markdown",
      "source": [
        "#CLEANING ↓"
      ],
      "metadata": {
        "id": "ulUZutLG48oW"
      }
    },
    {
      "cell_type": "code",
      "source": [
        "Yk=Xm;\n",
        "Xm_old = Xm;\n",
        "88\n",
        "\n",
        "% now read new values and update xm and Yplant\n",
        "[sensordata]=sensor_reading_volts(samplingrate,samples_trigger);\n",
        "sensordata=mean(sensordata(21:30,:));\n",
        "[converted_value_tank1]=conversion_reg(sensordata(1,1),1,0,3);\n",
        "[converted_value_tank2]=conversion_reg(sensordata(1,2),1,2,3);\n",
        "Xm = [(converted_value_tank1/10);(converted_value_tank2/10)];\n",
        "tdata = [tdata; k-1]; wldata = [wldata; w1];w2data = [w2data; w2];\n",
        "Yldata = [Yldata; Yk(1,1)]; Uldata = [Uldata; Uk(1,1)];\n",
        "Y2data = [Y2data; Yk(2,1)]; U2data = [U2data; Uk(2,1)];\n",
        "Yk = (phi'Ef) + (G'deltaJJ);\n",
        "Yplant = Yk (1:2,1);\n",
        "Ef=[Xm-Xm_old;Xm];"
      ],
      "metadata": {
        "id": "b-xIdXhK5AVO"
      },
      "execution_count": null,
      "outputs": []
    }
  ]
}