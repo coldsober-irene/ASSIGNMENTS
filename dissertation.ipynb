{
  "nbformat": 4,
  "nbformat_minor": 0,
  "metadata": {
    "colab": {
      "provenance": [],
      "authorship_tag": "ABX9TyMXkInTGsxg2l94MkOt5Jk5",
      "include_colab_link": true
    },
    "kernelspec": {
      "name": "python3",
      "display_name": "Python 3"
    },
    "language_info": {
      "name": "python"
    }
  },
  "cells": [
    {
      "cell_type": "markdown",
      "metadata": {
        "id": "view-in-github",
        "colab_type": "text"
      },
      "source": [
        "<a href=\"https://colab.research.google.com/github/coldsober-irene/ASSIGNMENTS/blob/main/dissertation.ipynb\" target=\"_parent\"><img src=\"https://colab.research.google.com/assets/colab-badge.svg\" alt=\"Open In Colab\"/></a>"
      ]
    },
    {
      "cell_type": "code",
      "source": [
        "import numpy as np\n",
        "import matplotlib.pyplot as plt\n",
        "from scipy.optimize import minimize\n",
        "from scipy.linalg import block_diag\n"
      ],
      "metadata": {
        "id": "lbM4bigqaxmr"
      },
      "execution_count": 47,
      "outputs": []
    },
    {
      "cell_type": "code",
      "source": [
        "%%capture\n",
        "!pip install control\n"
      ],
      "metadata": {
        "id": "UWGSNqehd9-3"
      },
      "execution_count": 50,
      "outputs": []
    },
    {
      "cell_type": "code",
      "source": [
        "# System parameters and simulation parameters\n",
        "A = np.array([[0.9638, 0.0162], [0.0162, 0.9627]])  # System matrix\n",
        "B = np.array([[0.0031, 0], [0, 0.0031]])  # Input matrix\n",
        "C = np.eye(2)\n",
        "Np = 50  # Prediction horizon\n",
        "Nc = 10"
      ],
      "metadata": {
        "id": "5lP4fHpidK57"
      },
      "execution_count": 48,
      "outputs": []
    },
    {
      "cell_type": "markdown",
      "source": [
        "#discretization"
      ],
      "metadata": {
        "id": "ZdbhyEEVeC5Z"
      }
    },
    {
      "cell_type": "code",
      "source": [
        "import numpy as np\n",
        "import control\n",
        "\n",
        "def c2d(Ac = np.array([[-0.370, 0.168], [0.168, -0.38]]),\n",
        "    Bc = np.array([[0.03125, 0], [0, 0.03125]]),\n",
        "    Cc = np.array([[1, 0], [0, 1]]),\n",
        "    Dc = np.array([[0, 0], [0, 0]]),\n",
        "    Ts = 0.1):\n",
        "\n",
        "    # Create a state-space system\n",
        "    sys_continuous = control.ss(Ac, Bc, Cc, Dc)\n",
        "    # Discretize the system\n",
        "    sys_discrete = sys_continuous.sample(Ts, method='zoh')\n",
        "\n",
        "    # The discretized system matrices can be accessed as follows:\n",
        "    Ad = sys_discrete.A\n",
        "    Bd = sys_discrete.B\n",
        "    Cd = sys_discrete.C\n",
        "    Dd = sys_discrete.D\n",
        "    return Ad, Bd, Cd, Dd\n",
        "\n",
        "def Augment(Ad, Bd, Cd):\n",
        "  # Get the sizes\n",
        "  row1, col1 = Cd.shape\n",
        "  d, cb = Bd.shape\n",
        "\n",
        "  # Create the augmented matrices\n",
        "  A = np.eye(col1 + row1)\n",
        "  A[:col1, :d] = Ad\n",
        "  A[:col1, col1:col1 + row1] = Bd\n",
        "\n",
        "  B = np.zeros((col1 + row1, cb))\n",
        "  B[:col1, :] = Bd\n",
        "  B[col1:col1 + d, :] = np.eye(d)\n",
        "\n",
        "  C = np.zeros((row1, col1 + row1))\n",
        "  C[:, :col1] = Cd\n",
        "  return A, B, C"
      ],
      "metadata": {
        "id": "6BJWJgUIdQWA"
      },
      "execution_count": 59,
      "outputs": []
    },
    {
      "cell_type": "code",
      "source": [],
      "metadata": {
        "id": "f6S_GgjueOxE"
      },
      "execution_count": 60,
      "outputs": []
    }
  ]
}