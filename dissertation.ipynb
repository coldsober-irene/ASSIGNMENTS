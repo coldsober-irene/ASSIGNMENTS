{
  "nbformat": 4,
  "nbformat_minor": 0,
  "metadata": {
    "colab": {
      "provenance": [],
      "authorship_tag": "ABX9TyMZHOcKyk9HtdYZAhTAdMVi",
      "include_colab_link": true
    },
    "kernelspec": {
      "name": "python3",
      "display_name": "Python 3"
    },
    "language_info": {
      "name": "python"
    }
  },
  "cells": [
    {
      "cell_type": "markdown",
      "metadata": {
        "id": "view-in-github",
        "colab_type": "text"
      },
      "source": [
        "<a href=\"https://colab.research.google.com/github/coldsober-irene/ASSIGNMENTS/blob/main/dissertation.ipynb\" target=\"_parent\"><img src=\"https://colab.research.google.com/assets/colab-badge.svg\" alt=\"Open In Colab\"/></a>"
      ]
    },
    {
      "cell_type": "markdown",
      "source": [
        "##generate transfer function"
      ],
      "metadata": {
        "id": "tdnF1pqCxPU1"
      }
    },
    {
      "cell_type": "code",
      "execution_count": 25,
      "metadata": {
        "id": "oLMgyl7xxK-p"
      },
      "outputs": [],
      "source": [
        "import numpy as np\n",
        "from scipy.signal import ss2tf\n",
        "\n",
        "class Modeling:\n",
        "  def __init__(self):\n",
        "    pass\n",
        "\n",
        "  def matrices(self,width = 8, breadth = 4, k1 = 14.3, k2 = 14.3, k3 = 20, sequence = None):\n",
        "    A, B, c = (None, None, None)\n",
        "    area = width * breadth # cm\n",
        "    r_t = 1\n",
        "    if sequence == 'h2p1p2':\n",
        "      A = [[-(k1 + k3)/area, k3 / area],\n",
        "            [k3 / area, -(k3 + k2)/area]]\n",
        "\n",
        "      B = [[1/area, 0],[0, 1/ area]]\n",
        "      C = [0, 1]\n",
        "      r_t = [[1], [1]]\n",
        "\n",
        "    elif sequence == 'h1p1p2':\n",
        "      A = [[-(k1 + k3)/area, k3 / area],\n",
        "            [k3 / area, -(k3 + k2)/area]]\n",
        "\n",
        "      B = [[1/area, 0],[0, 1/ area]]\n",
        "      C = [1, 0]\n",
        "\n",
        "    elif sequence == 'h2p1':\n",
        "      A = [[-(k1 + k3)/area, k3 / area],\n",
        "            [k3 / area, -(k3 + k2)/area]]\n",
        "\n",
        "      B = [[1/area],[0]]\n",
        "      C = [0, 1]\n",
        "\n",
        "    elif sequence == 'h1p1':\n",
        "      A = [[-(k1 + k3)/area, k3 / area],\n",
        "            [k3 / area, -(k3 + k2)/area]]\n",
        "\n",
        "      B = [[1/area],[0]]\n",
        "      C = [1, 0]\n",
        "\n",
        "    elif sequence == 'h2p2':\n",
        "      A = [[-(k1 + k3)/area, k3 / area],\n",
        "            [k3 / area, -(k3 + k2)/area]]\n",
        "\n",
        "      B = [[0],[1/area]]\n",
        "      C = [0, 1]\n",
        "\n",
        "    elif sequence == 'h1p2':\n",
        "      A = [[-(k1 + k3)/area, k3 / area],\n",
        "            [k3 / area, -(k3 + k2)/area]]\n",
        "\n",
        "      B = [[0],[1/area]]\n",
        "      C = [1, 0]\n",
        "\n",
        "\n",
        "    print(\"A: {}\".format(np.array(A)))\n",
        "    print()\n",
        "    print(\"B: {}\".format(np.array(B)))\n",
        "    print()\n",
        "    print(\"C: {}\".format(np.array(C)))\n",
        "    print()\n",
        "    print(\"r(t): {}\".format(r_t))\n",
        "    print()\n",
        "\n"
      ]
    },
    {
      "cell_type": "code",
      "source": [
        "model = Modeling()"
      ],
      "metadata": {
        "id": "_cLxU3quA5A5"
      },
      "execution_count": 18,
      "outputs": []
    },
    {
      "cell_type": "markdown",
      "source": [
        "control h2 by both p1 and p2\n"
      ],
      "metadata": {
        "id": "MhJmf4mKD45f"
      }
    },
    {
      "cell_type": "code",
      "source": [
        "model.matrices(sequence = 'h2p1p2')"
      ],
      "metadata": {
        "colab": {
          "base_uri": "https://localhost:8080/"
        },
        "id": "fZgt4UkdEEZJ",
        "outputId": "f1198723-2cb7-4773-99f5-8040292f517b"
      },
      "execution_count": 19,
      "outputs": [
        {
          "output_type": "stream",
          "name": "stdout",
          "text": [
            "A: [[-1.071875  0.625   ]\n",
            " [ 0.625    -1.071875]]\n",
            "\n",
            "B: [[0.03125 0.     ]\n",
            " [0.      0.03125]]\n",
            "\n",
            "C: [0 1]\n",
            "\n",
            "r(t): [[1], [1]]\n",
            "\n"
          ]
        }
      ]
    },
    {
      "cell_type": "markdown",
      "source": [
        "control h1 by both p1 and p2"
      ],
      "metadata": {
        "id": "mBer6VTpEUSy"
      }
    },
    {
      "cell_type": "code",
      "source": [
        "model.matrices(sequence = 'h1p1p2')"
      ],
      "metadata": {
        "colab": {
          "base_uri": "https://localhost:8080/"
        },
        "id": "ufvEHCu0ENpr",
        "outputId": "e3656cfb-83b2-4c34-af5b-06535de5cee4"
      },
      "execution_count": 20,
      "outputs": [
        {
          "output_type": "stream",
          "name": "stdout",
          "text": [
            "A: [[-1.071875  0.625   ]\n",
            " [ 0.625    -1.071875]]\n",
            "\n",
            "B: [[0.03125 0.     ]\n",
            " [0.      0.03125]]\n",
            "\n",
            "C: [1 0]\n",
            "\n",
            "r(t): 1\n",
            "\n"
          ]
        }
      ]
    },
    {
      "cell_type": "markdown",
      "source": [
        "control h2 by p2"
      ],
      "metadata": {
        "id": "yvS4gnQ6Ed_Z"
      }
    },
    {
      "cell_type": "code",
      "source": [
        "model.matrices(sequence = 'h2p2')"
      ],
      "metadata": {
        "colab": {
          "base_uri": "https://localhost:8080/"
        },
        "id": "Txra-TJrEOWF",
        "outputId": "09698ebb-2f62-4ae8-a7c6-360e55e2f8f4"
      },
      "execution_count": 21,
      "outputs": [
        {
          "output_type": "stream",
          "name": "stdout",
          "text": [
            "A: [[-1.071875  0.625   ]\n",
            " [ 0.625    -1.071875]]\n",
            "\n",
            "B: [[0.     ]\n",
            " [0.03125]]\n",
            "\n",
            "C: [0 1]\n",
            "\n",
            "r(t): 1\n",
            "\n"
          ]
        }
      ]
    },
    {
      "cell_type": "markdown",
      "source": [
        "control h1 by p2"
      ],
      "metadata": {
        "id": "r3ycdfsIEjfh"
      }
    },
    {
      "cell_type": "code",
      "source": [
        "model.matrices(sequence = 'h1p2')"
      ],
      "metadata": {
        "colab": {
          "base_uri": "https://localhost:8080/"
        },
        "id": "rU3zPQkUEPDB",
        "outputId": "062a9ffc-cdec-4b0d-fdb6-a1e99194722f"
      },
      "execution_count": 22,
      "outputs": [
        {
          "output_type": "stream",
          "name": "stdout",
          "text": [
            "A: [[-1.071875  0.625   ]\n",
            " [ 0.625    -1.071875]]\n",
            "\n",
            "B: [[0.     ]\n",
            " [0.03125]]\n",
            "\n",
            "C: [1 0]\n",
            "\n",
            "r(t): 1\n",
            "\n"
          ]
        }
      ]
    },
    {
      "cell_type": "markdown",
      "source": [
        "control h2 by p1"
      ],
      "metadata": {
        "id": "Z7JLYp0QEsiN"
      }
    },
    {
      "cell_type": "code",
      "source": [
        "model.matrices(sequence = 'h2p1')"
      ],
      "metadata": {
        "colab": {
          "base_uri": "https://localhost:8080/"
        },
        "id": "0C2ZolKOEQD8",
        "outputId": "cf875652-8085-48ef-d1cf-4be9d1b7efed"
      },
      "execution_count": 23,
      "outputs": [
        {
          "output_type": "stream",
          "name": "stdout",
          "text": [
            "A: [[-1.071875  0.625   ]\n",
            " [ 0.625    -1.071875]]\n",
            "\n",
            "B: [[0.03125]\n",
            " [0.     ]]\n",
            "\n",
            "C: [0 1]\n",
            "\n",
            "r(t): 1\n",
            "\n"
          ]
        }
      ]
    },
    {
      "cell_type": "markdown",
      "source": [
        "control h1 by p1"
      ],
      "metadata": {
        "id": "HrM5bf7uEw3B"
      }
    },
    {
      "cell_type": "code",
      "source": [
        "model.matrices(sequence = 'h1p1')"
      ],
      "metadata": {
        "colab": {
          "base_uri": "https://localhost:8080/"
        },
        "id": "bZ53zfALE2wt",
        "outputId": "cd3328e8-cee4-4576-d587-460ce3477093"
      },
      "execution_count": 24,
      "outputs": [
        {
          "output_type": "stream",
          "name": "stdout",
          "text": [
            "A: [[-1.071875  0.625   ]\n",
            " [ 0.625    -1.071875]]\n",
            "\n",
            "B: [[0.03125]\n",
            " [0.     ]]\n",
            "\n",
            "C: [1 0]\n",
            "\n",
            "r(t): 1\n",
            "\n"
          ]
        }
      ]
    }
  ]
}